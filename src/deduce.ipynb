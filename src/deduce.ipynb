{
 "cells": [
  {
   "cell_type": "code",
   "execution_count": null,
   "metadata": {},
   "outputs": [],
   "source": [
    "import pandas as pd\n",
    "from deduce import Deduce"
   ]
  },
  {
   "cell_type": "code",
   "execution_count": null,
   "metadata": {},
   "outputs": [],
   "source": [
    "df = pd.read_csv(\"..\\data\\Dummy_TEST_123Consultatievragen.csv\",sep=';')\n",
    "\n",
    "df"
   ]
  },
  {
   "cell_type": "code",
   "execution_count": null,
   "metadata": {},
   "outputs": [],
   "source": [
    "# Voer de anonimisering uit\n",
    "deduce = Deduce()\n",
    "    \n",
    "vragen_deduce = []\n",
    "anonimized_texts = []\n",
    "    \n",
    "for vraag in df[kolomnaam]:\n",
    "# Deduce anonimisering\n",
    "doc_deduce = deduce.deidentify(vraag)\n",
    "vragen_deduce.append(doc_deduce.deidentified_text)\n",
    "        \n",
    "\n",
    "# Voeg geanonimiseerde kolommen toe aan het DataFrame\n",
    "geanonimiseerd_deduce_df = pd.DataFrame({'Vragen Geanonimiseerd Deduce': vragen_deduce})"
   ]
  }
 ],
 "metadata": {
  "kernelspec": {
   "display_name": ".venv",
   "language": "python",
   "name": "python3"
  },
  "language_info": {
   "name": "python",
   "version": "3.12.0"
  }
 },
 "nbformat": 4,
 "nbformat_minor": 2
}
