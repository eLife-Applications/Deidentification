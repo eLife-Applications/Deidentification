{
 "cells": [
  {
   "cell_type": "code",
   "execution_count": 1,
   "metadata": {},
   "outputs": [
    {
     "name": "stderr",
     "output_type": "stream",
     "text": [
      "c:\\Users\\DonnaHsia\\Documents\\Repositories\\Deidentification\\.venv\\lib\\site-packages\\tqdm\\auto.py:21: TqdmWarning: IProgress not found. Please update jupyter and ipywidgets. See https://ipywidgets.readthedocs.io/en/stable/user_install.html\n",
      "  from .autonotebook import tqdm as notebook_tqdm\n"
     ]
    }
   ],
   "source": [
    "# Import libraries\n",
    "from deidentify.base import Document\n",
    "from deidentify.taggers import CRFTagger, DeduceTagger, FlairTagger\n",
    "from deidentify.tokenizer import TokenizerFactory\n",
    "import pandas as pd"
   ]
  },
  {
   "cell_type": "markdown",
   "metadata": {},
   "source": [
    "### Example Usage"
   ]
  },
  {
   "cell_type": "code",
   "execution_count": null,
   "metadata": {},
   "outputs": [],
   "source": [
    "# Create some text\n",
    "text = (\n",
    "    \"Dit is stukje tekst met daarin de naam Jan Jansen. De patient J. Jansen (e: \"\n",
    "    \"j.jnsen@email.com, t: 06-12345678) is 64 jaar oud en woonachtig in Utrecht. Hij werd op 10 \"\n",
    "    \"oktober door arts Peter de Visser ontslagen van de kliniek van het UMCU.\"\n",
    ")\n",
    "\n",
    "# Wrap text in document\n",
    "documents = [\n",
    "    Document(name='doc_01', text=text)\n",
    "]\n",
    "\n",
    "# Select downloaded model\n",
    "model = 'model_bilstmcrf_ons_fast-v0.2.0'\n",
    "\n",
    "# Instantiate tokenizer\n",
    "tokenizer = TokenizerFactory().tokenizer(corpus='ons', disable=(\"tagger\", \"ner\"))\n",
    "\n",
    "# Load tagger with a downloaded model file and tokenizer\n",
    "tagger = FlairTagger(model=model, tokenizer=tokenizer, verbose=False)\n",
    "\n",
    "# Annotate your documents\n",
    "annotated_docs = tagger.annotate(documents)"
   ]
  },
  {
   "cell_type": "code",
   "execution_count": null,
   "metadata": {},
   "outputs": [],
   "source": [
    "# Annotation results\n",
    "from pprint import pprint\n",
    "\n",
    "first_doc = annotated_docs[0]\n",
    "pprint(first_doc.annotations)"
   ]
  },
  {
   "cell_type": "code",
   "execution_count": null,
   "metadata": {},
   "outputs": [],
   "source": [
    "# Mask annotations\n",
    "from deidentify.util import mask_annotations\n",
    "\n",
    "masked_doc = mask_annotations(first_doc)\n",
    "print(masked_doc.text)"
   ]
  },
  {
   "cell_type": "markdown",
   "metadata": {},
   "source": [
    "## Dummy Test"
   ]
  },
  {
   "cell_type": "code",
   "execution_count": 2,
   "metadata": {},
   "outputs": [
    {
     "data": {
      "text/plain": [
       "'Dag. Graag vraag ik advies inzake het wel of niet starten met medicatie? Aidan vertelt : gaat niet lekker, bekend met bipolaire stoornis, vorig jaar periode wat hypomaan in augustus, toen tijdelijk rivotril gebruikt, nu juist angstig, emotioneel en somberder, trigger is wss Lars die naar verzorginshuis is, (Aidan en heeft er moeite mee dat de cultuur in Nederland anders is tav opvang van ouderen) speelt nu op sinds 1,5 mnd en wordt langzaam erger, soms ook boos, intensere emoties, post-partum begeleiding gehad, maar wilde toen niet met lithium beginnen en is zonder medicatie goed gegaan. Tevens hypothyreoidie waarvoor medicatie. Alvast bedankt voor het meedenken. ;betreft Bart van 18 jaar die depressief is en gedachten heeft op het spoor te gaan staan.volgens de huisarts geen crisis. Bart is afgewezen bij Centiv. Sandra wil graag overleg.;Inmiddels 3x meneer gezien. Meneer Altijd voornamelijk bezig geweest met werk, nu meer zoekende naar momenten die rust en ontspanning geven.Relatieproblematiek mede door problemen in emotie regulatie bij verwerken van seksualiteit en intiem contact is belemmerend voor meneer geen effect. Beschrijft meneer als iemand die lomp is en zegt waar het op staat. Loopt met name in relatie en in contact met werknemer tegen problemen aan. Vrienden en kennissen nemen meneer zoals meneer is, hij Inmiddels 3 consulten gevoerd. hij is steeds meer open. Emoties tonen gaat moeizaam, vecht er tegen. Wil aan de slag met emotie regulatie, daarnaast weer rust in hoofd ervaren.Nooit eerder in contact geweest binnen GGZ. Verwachting mogelijk problematiek in persoonlijkheid, is ook beeld vanuit betrokken huisarts. hij omschrijft mogelijk hechtingsproblematiek. hij laat in consulten weinig los over kind- en jeugdjaren. Vraagt om rustgevende medicatie. Begrijpt noodzaak om eerst meer context te kunnen schetsen. Verzoek om deze patient, evt. in samenwerking, te zien om verder beleid passend te kunnen vaststellen. Beoordelen of het past binnen SGGZ of juist beter voorliggend opgepakt kan worden.;Ik zie een mevrouw (Anita) die in verleden verslaving heeft gehad aan GHB en alcohol. Is ook bij jullie in behandeling geweest hiervoor. Van GHB gbruik is geen sprake meer wel nog van alcoholgebruik. Ze drinkt in het weekend met uitgaan. Stoppen hiermee is geen optie. Merkt dat mevrouw door de week toch zucht krijgt. Onlangs een lif event meegemaakt (overlijden vader) haar vraag is of er anti zucht medicatie is die xx kan stoppen en dan toch kan drinken in het weekend. Mevrouw zou hier graag over willen spreken met een verslavingsarts. Is het mogelijk om hiervoor  bij u een eenmalig consult aan te vragen?;Goedemiddag, ik heb een patiënt, Jan genaamd, met chronische rugpijn die moeilijk te behandelen lijkt. Hij heeft al verschillende therapieën en medicijnen geprobeerd, maar niets lijkt te helpen. Zijn levenskwaliteit lijdt hier erg onder. Kunnen we een overleg plannen om te bespreken welke verdere stappen we kunnen ondernemen om Jan te helpen?;Ik heb een cliënt, Emma, een 25-jarige vrouw met anorexia nervosa. Ze weigert op dit moment alle vormen van behandeling en haar toestand verslechtert snel. Ik maak me grote zorgen om haar gezondheid en wil graag overleggen over mogelijke interventies om haar te stabiliseren en in behandeling te krijgen. Wat raadt u aan?;Ik heb een patiënt, meneer de Vries, die al enige tijd last heeft van ernstige slaapproblemen. Hij heeft al verschillende slaapmedicijnen geprobeerd, maar niets lijkt te werken. Zijn vermoeidheid heeft een negatieve invloed op zijn dagelijks leven en werkprestaties. Wat zijn de mogelijke oorzaken en behandelopties voor zijn aanhoudende slaapproblemen?;Ik zie een tiener, Lisa genaamd, die de laatste maanden steeds teruggetrokken is en weigert naar school te gaan. Haar ouders maken zich zorgen dat er sprake is van pesten op school, maar Lisa vertelt hier niets over. Hoe kunnen we Lisa helpen om haar problemen te bespreken en te achterhalen wat er aan de hand is?;Mijn patiënt, mevrouw Jansen, heeft onlangs een traumatische gebeurtenis meegemaakt en vertoont nu tekenen van acute stressstoornis. Ik wil weten welke behandelingsopties beschikbaar zijn en hoe we haar zo snel mogelijk kunnen ondersteunen in haar herstelproces.;Ik zie een patiënt, Jeroen, met een langdurige geschiedenis van depressie en angststoornissen. Zijn huidige medicatie lijkt niet voldoende te werken en hij meldt terugkerende suïcidale gedachten. Welke behandelopties kunnen we overwegen om zijn symptomen beter te beheersen?;Mijn patiënt, Sarah, worstelt met ernstige alcoholverslaving en heeft meerdere mislukte pogingen gedaan om te stoppen. Wat zijn de meest effectieve behandelingsbenaderingen voor haar alcoholprobleem, inclusief medicamenteuze ondersteuning?;Ik heb een cliënt, Lucas, die lijdt aan posttraumatische stressstoornis (PTSS) en nachtmerries heeft die zijn slaap verstoren. Welke interventies en therapieën kunnen helpen bij het verminderen van de nachtmerries en het verbeteren van zijn slaap?;Een van mijn patiënten, Martine, heeft last van terugkerende paniekaanvallen die haar dagelijkse leven verstoren. Ze wil graag praten over medicatieopties om de frequentie en intensiteit van haar paniekaanvallen te verminderen. Welke medicijnen kunnen worden overwogen?;Ik behandel een jonge man, Tim, die worstelt met gokverslaving en financiële problemen heeft als gevolg van zijn verslaving. Wat zijn de beschikbare bronnen en programma\\'s om Tim te ondersteunen bij het aanpakken van zijn gokprobleem en het beheren van zijn financiën?;Ik heb een patiënt, Lisa, met een geschiedenis van eetstoornissen, die na een periode van stabiliteit weer terugvalt in haar oude patroon van restrictief eten en overmatige lichaamsbeweging. Wat zijn de aanbevolen behandelingsstrategieën voor herstel en hoe kunnen we de terugval voorkomen?;Mijn patiënt, Robert, heeft last van ernstige obsessieve-compulsieve symptomen die zijn dagelijkse leven sterk beïnvloeden. Hij heeft al verschillende vormen van cognitieve gedragstherapie ondergaan, maar er is weinig verbetering. Welke andere behandelingsmogelijkheden zijn er voor OCD?;Ik behandel een jonge vrouw, Sophie, die worstelt met zelfbeschadigend gedrag en suïcidale gedachten heeft. Haar familie maakt zich ernstig zorgen. Wat zijn de dringende interventies die we moeten overwegen om Sophie in veiligheid te brengen en haar mentale gezondheid te verbeteren?;Een van mijn patiënten, Martin, lijkt te lijden aan een gokverslaving en heeft aanzienlijke schulden opgebouwd. Wat zijn de stappen om Martin te helpen bij het beheren van zijn verslaving en het aanpakken van zijn financiële problemen?;Ik zie een tiener, Laura, die ernstige stemmingswisselingen en episodes van zelfbeschadiging vertoont. Haar ouders hebben moeite om met haar om te gaan. Wat zijn de mogelijke behandelingsbenaderingen voor deze complexe situatie, inclusief de rol van familie-interventies?;Ik behandel een patiënt, Johan, met een obsessie voor bizarre complottheorieën die zijn dagelijkse leven verstoren. Zijn familie maakt zich zorgen over zijn geestelijke gezondheid. Hoe kunnen we effectief omgaan met zijn overtuigingen en hem helpen bij het verbeteren van zijn psychische welzijn?;Mijn patiënt, Marieke, ervaart intense emotionele fluctuaties die lijken samen te vallen met de fasen van de maan. Ze is ervan overtuigd dat de maan invloed heeft op haar stemming. Hoe kunnen we haar overtuigingen adresseren en haar symptomen behandelen?;Ik zie een jonge volwassene, Jasper, die beweert dat hij telepathische communicatie heeft met buitenaardse wezens. Hij zegt dat deze ervaringen hem angstig maken en zijn dagelijks functioneren verstoren. Wat zijn de behandelingsmogelijkheden voor dit soort ervaringen en overtuigingen?;Een van mijn patiënten, Kim, heeft een ernstige verslaving aan online gaming en besteedt dagelijks meerdere uren aan gamen. Haar schoolprestaties lijden hieronder. Wat zijn de specifieke interventies om haar te helpen bij het beheersen van deze verslaving en haar academische doelen te bereiken?;Ik behandel een cliënt, David, die zichzelf beschouwt als een \\'workaholic\\' en obsessief streeft naar professioneel succes. Hij lijkt te lijden onder burn-outsymptomen, maar weigert hulp te aanvaarden. Hoe kunnen we David bewegen tot zelfreflectie en behandeling voor zijn overmatige werkgedrag?;Ik behandel een 40-jarige vrouw, Laura, met een geschiedenis van complexe trauma\\'s en ernstige dissociatieve symptomen. Laura heeft onlangs gemeld dat ze episoden van verlies van bewustzijn ervaart waarin ze zichzelf buiten haar lichaam ziet en de wereld om haar heen anders ervaart. Deze ervaringen veroorzaken haar angst en verstoren haar dagelijkse leven. Wat zijn de diagnostische overwegingen en mogelijke behandelingen voor deze complexe presentatie van dissociatie bij Laura?;Mijn patiënt, Thomas, is een 30-jarige man die lijdt aan een obsessieve-compulsieve stoornis (OCS) en tegelijkertijd een ernstige fobie voor vuil en bacteriën heeft ontwikkeld. Hij besteedt uren per dag aan rituelen om zijn angst onder controle te houden en isoleert zichzelf steeds meer. Welke geïntegreerde behandelingsaanpak raadt u aan voor Thomas, rekening houdend met zowel de OCS als de fobie?;Ik zie een 25-jarige man, Mark, die een patroon van excessief alcoholgebruik heeft ontwikkeld om met sociale angst en verlegenheid om te gaan. Zijn alcoholgebruik begint zijn professionele en persoonlijke leven te verstoren. Hoe kunnen we Mark helpen om zijn sociale angst aan te pakken zonder terug te vallen in alcoholgebruik, en welke behandelingsmodaliteiten zijn het meest geschikt voor hem?;Een van mijn patiënten, Anna, is een 28-jarige vrouw met eetbuien en braken. Ze heeft verschillende mislukte pogingen gedaan om te stoppen, maar blijft terugvallen in deze cyclus. Haar eetstoornis heeft geleid tot ernstige gezondheidsproblemen. Hoe kunnen we Anna ondersteunen bij het doorbreken van deze destructieve gewoonten en haar fysieke en mentale gezondheid herstellen?;Ik ben betrokken bij de behandeling van een 45-jarige man, Frank, met een complexe geschiedenis van emotionele verwaarlozing in de kindertijd en langdurige depressieve episoden. Frank heeft moeite met het aangaan van emotionele relaties en blijft terugvallen in isolatie. Wat zijn de benaderingen voor trauma-geïnformeerde zorg die we kunnen toepassen om Frank te helpen bij het verwerken van zijn verleden en het ontwikkelen van gezondere interpersoonlijke vaardigheden?;Mijn patiënt, Lisa, is een 22-jarige vrouw met anorexia nervosa die in een vroeg stadium van herstel is. Ze is vastbesloten om gezond te worden, maar haar ouders maken zich zorgen over haar voedselinname en gewichtsherstel. Hoe kunnen we een evenwicht vinden tussen het ondersteunen van Lisa bij haar herstel en het betrekken van haar ouders in het behandelproces?;Ik zie een 35-jarige man, Lucas, die kampt met een complexe persoonlijkheidsstoornis en frequent suïcidale gedachten heeft. Hij heeft meerdere ziekenhuisopnames achter de rug en heeft een geschiedenis van onverwachte uitval uit behandelingen. Wat zijn de opties voor langdurige zorg en crisispreventie voor Lucas, rekening houdend met de complexiteit van zijn presentatie?;Een van mijn patiënten, Eva, heeft een langdurige geschiedenis van gokverslaving en heeft onlangs een aanzienlijke schuld opgebouwd. Ze staat op het punt haar huis te verliezen. Hoe kunnen we Eva ondersteunen bij het aanpakken van haar verslaving en het omgaan met de financiële gevolgen, en welke externe bronnen kunnen we inschakelen om haar te helpen?;Ik behandel een patiënt, Erik, die lijdt aan een ongebruikelijke fobie voor knuffelberen. Zijn angst voor deze kinderspeelgoedbeesten heeft zijn sociale leven ernstig beïnvloed en hij vermijdt plaatsen waar knuffelberen aanwezig kunnen zijn. Wat zijn de behandelingsstrategieën voor deze ongewone fobie en hoe kunnen we Erik helpen zijn angst te overwinnen?;Mijn patiënt, Hannah, heeft een buitengewone angst voor cijfer 8. Ze vermijdt activiteiten of situaties waarbij dit cijfer betrokken is en ervaart ernstige angst als ze het ziet. Hoe kunnen we Hannah helpen om te gaan met deze fobie en haar dagelijkse leven zonder belemmeringen voort te zetten?;Ik zie een jonge man, Jonas, die lijdt aan een fobie voor ballonnen. Zijn angst voor knallende ballonnen heeft geleid tot sociale isolatie en paniekaanvallen in situaties waarin ballonnen aanwezig zijn, zoals feestjes en evenementen. Welke behandelingsbenaderingen zijn geschikt voor het omgaan met deze ongebruikelijke fobie en hoe kunnen we Jonas helpen zijn angsten te beheersen?;Een van mijn patiënten, Lisa, heeft een irrationele angst voor kippenveren. Deze fobie belemmert haar in het bezoeken van boerderijen, stranden en andere plaatsen waar veren kunnen voorkomen. Wat zijn de strategieën om Lisa te helpen bij het omgaan met deze ongebruikelijke fobie en haar angst te verminderen?;Ik heb een cliënt, Sophie, een 30-jarige vrouw met een geschiedenis van zelfverwonding en suïcidale gedachten. Ze heeft onlangs aangegeven dat ze een \"stem\" hoort die haar vertelt zichzelf pijn te doen. Hoe kunnen we Sophie evalueren en behandelen, rekening houdend met deze auditieve hallucinaties?;Mijn patiënt, Mark, is een 40-jarige man met een obsessieve interesse in buitenaardse ontvoeringen. Hij beweert dat hij herhaaldelijk is ontvoerd door buitenaardse wezens en lijdt aan ernstige angst en slapeloosheid als gevolg hiervan. Welke behandelingsstrategieën kunnen we overwegen voor zijn ongebruikelijke overtuigingen en angstsymptomen?;Ik zie een tiener, Emma, die zichzelf beschouwt als een \"hooggevoelig\" persoon en beweert boodschappen te ontvangen van overleden familieleden. Haar ervaringen lijken haar angstig en verward te maken. Hoe kunnen we Emma ondersteunen bij het begrijpen en omgaan met haar paranormale ervaringen?;Een van mijn patiënten, Thomas, is een 25-jarige man met een obsessie voor het einde van de wereld. Hij besteedt veel tijd aan het bestuderen van complottheorieën over apocalyptische gebeurtenissen en dit veroorzaakt hem aanzienlijke angst. Welke benaderingen kunnen we gebruiken om zijn obsessieve gedachten te verminderen en zijn angst te beheersen?;Mijn patiënt, Lisa, heeft een ongebruikelijke angst voor ballonnen die zijn gevuld met heliumgas. Ze vermijdt feestjes en evenementen waar dergelijke ballonnen aanwezig zijn, vanwege haar angst voor hun gedrag wanneer ze losgelaten worden. Hoe kunnen we Lisa helpen omgaan met deze specifieke fobie?;Ik zie een jonge vrouw, Anna, die bang is voor de kleur rood. Ze vermijdt rode kleding, objecten en zelfs voedingsmiddelen met een rode kleur. Dit belemmert haar dagelijkse leven en relaties. Wat zijn de aanbevolen benaderingen om Anna te helpen bij het omgaan met haar ongewone kleurfobie?;Een van mijn patiënten, Erik, heeft een intense angst voor tunnels en vermijdt situaties waarin hij door tunnels moet reizen. Dit beperkt zijn mobiliteit en veroorzaakt angst en paniek. Hoe kunnen we Erik helpen bij het overwinnen van zijn tunnelangst en weer normaal te functioneren?;Mijn patiënt, Jonas, heeft een irrationele angst voor de geur van bloemen. Hij ervaart intense angst en vermijdt plaatsen waar bloemen aanwezig zijn, zoals parken en bloemenwinkels. Wat zijn de aanbevolen strategieën om Jonas te ondersteunen bij het omgaan met deze ongebruikelijke geurangst?;Ik behandel een vrouw, Laura, die een intense angst heeft ontwikkeld voor de letter \"A\". Ze vermijdt woorden en situaties die deze letter bevatten. Hoe kunnen we Laura helpen bij het omgaan met haar specifieke letterfobie en haar dagelijkse leven verbeteren?;Een van mijn patiënten, Hannah, heeft een buitengewone angst voor stofzuigers. Ze vermijdt het gebruik van stofzuigers en wordt angstig in de buurt van anderen die ze gebruiken. Hoe kunnen we Hannah helpen om haar angst voor stofzuigers te verminderen en haar dagelijkse leven zonder belemmeringen voort te zetten?;Ik zie een jonge man, Lucas, die een intense angst heeft ontwikkeld voor het geluid van fluitende vogels. Hij vermijdt parken en natuurgebieden vanwege deze angst. Wat zijn de aanbevolen benaderingen om Lucas te helpen bij het omgaan met zijn specifieke geluidsfobie?;Mijn patiënt, Lisa, heeft een ongebruikelijke angst voor de kleur groen. Ze vermijdt groene objecten en zelfs voedsel met een groene kleur. Hoe kunnen we Lisa ondersteunen bij het omgaan met deze specifieke kleurfobie?;Een van mijn patiënten, Erik, heeft een ongebruikelijke angst voor de vorm van cirkels. Hij vermijdt situaties waarin cirkelvormige objecten aanwezig zijn en ervaart intense angst als hij ze ziet. Wat zijn de aanbevolen strategieën om Erik te helpen bij het omgaan met deze specifieke vormfobie?;Ik behandel een vrouw, Jonas, die een intense angst heeft ontwikkeld voor de geur van pas gemaaid gras. Ze vermijdt grasvelden en tuinen vanwege deze angst. Hoe kunnen we Jonas helpen om haar geurangst te verminderen en haar dagelijkse leven zonder belemmeringen voort te zetten?;Ik heb een patiënt, Sarah, met ernstige depressieve symptomen, waaronder aanhoudende somberheid en slaapproblemen. Welke medicatieopties kunnen we overwegen voor de behandeling van haar depressie?;Mijn cliënt, David, lijdt aan sociale angststoornis en ervaart ernstige angst en vermijdingsgedrag in sociale situaties. Welke medicijnen zijn geschikt voor de behandeling van sociale angststoornis?;Een van mijn patiënten, Lisa, heeft een gegeneraliseerde angststoornis en ervaart chronische zorgen en angst. Wat zijn de aanbevolen medicijnen voor de behandeling van gegeneraliseerde angststoornis?;Ik behandel een man, Thomas, met obsessieve-compulsieve stoornis (OCS) en zijn symptomen reageren niet goed op eerdere behandelingen. Welke medicatieopties kunnen we overwegen voor de behandeling van OCS?;Mijn patiënt, Emma, lijdt aan paniekstoornis en ervaart terugkerende paniekaanvallen. Welke medicijnen kunnen helpen bij de behandeling van paniekstoornis?;Ik zie een cliënt, Robert, met posttraumatische stressstoornis (PTSS) en ernstige nachtmerries. Welke medicatie kan worden overwogen om de nachtmerries te verminderen bij PTSS?;Een van mijn patiënten, Marieke, heeft last van terugkerende paniekaanvallen die haar dagelijkse leven verstoren. Welke medicijnen kunnen worden overwogen om de frequentie en intensiteit van haar paniekaanvallen te verminderen?;Ik behandel een jonge man, Tim, die worstelt met suïcidale gedachten als gevolg van ernstige depressie. Welke medicatieopties zijn geschikt voor de behandeling van ernstige depressie en suïcidale gedachten?;Mijn patiënt, Lucas, lijdt aan bipolaire stoornis en heeft last van manische episodes. Welke medicijnen kunnen worden overwogen om manieën te stabiliseren bij bipolaire stoornis?;Ik zie een vrouw, Anita, met een voorgeschiedenis van alcoholverslaving en een terugval in alcoholgebruik. Welke medicatie kan worden overwogen om haar te helpen bij het verminderen van alcoholgebruik?;Een van mijn patiënten, Jeroen, heeft last van ernstige depressieve symptomen en suïcidale gedachten. Welke medicijnen kunnen worden overwogen voor de behandeling van ernstige depressie en suïcidale gedachten?;Ik behandel een patiënt, Sarah, met ernstige alcoholverslaving en meerdere mislukte pogingen om te stoppen met drinken. Welke medicijnen kunnen worden overwogen om haar te ondersteunen bij de behandeling van alcoholverslaving?;Mijn cliënt, Lisa, heeft last van eetstoornissen en ernstig gewichtsverlies. Welke medicijnen kunnen worden overwogen om haar te helpen bij het herstellen van haar eetstoornis?;Een van mijn patiënten, Martin, lijdt aan gokverslaving en heeft aanzienlijke financiële problemen. Welke medicatieopties kunnen worden overwogen om zijn gokverslaving te behandelen?;Ik zie een tiener, Laura, met ernstige stemmingswisselingen en suïcidale gedachten. Welke medicijnen kunnen worden overwogen voor de behandeling van haar stemmingsstoornis?;Mijn patiënt, Robert, heeft last van obsessieve-compulsieve symptomen die zijn dagelijkse leven sterk beïnvloeden. Welke medicijnen kunnen worden overwogen voor de behandeling van OCD?;Een van mijn patiënten, Sophie, worstelt met zelfbeschadigend gedrag en suïcidale gedachten. Welke medicijnen kunnen worden overwogen om haar zelfbeschadiging en suïcidale gedachten te verminderen?;Ik behandel een jonge man, Tim, met een verslaving aan online gaming. Welke medicijnen kunnen worden overwogen om zijn verslaving te behandelen?;Mijn patiënt, David, lijdt aan een obsessieve interesse in werk en heeft last van burn-outsymptomen. Welke medicatieopties kunnen worden overwogen om zijn obsessieve werkgedrag te behandelen?;Een van mijn patiënten, Anna, heeft een langdurige geschiedenis van complex trauma en ernstige dissociatieve symptomen. Welke medicijnen kunnen worden overwogen om haar dissociatieve symptomen te verminderen en haar behandeling te ondersteunen?;Ik heb een patiënt, Petra, met een complexe presentatie van psychische symptomen, waaronder depressie, angst en een voorgeschiedenis van trauma. Ze heeft al meerdere behandelingen gehad, maar er is weinig verbetering. Zou het verstandig zijn om een second opinion te overwegen voor haar behandelplan?;Mijn cliënt, Marco, heeft een langdurige geschiedenis van stemmingswisselingen en heeft al verschillende medicijnen geprobeerd zonder succes. Zou het nuttig zijn om een second opinion te verkrijgen over zijn medicatiekeuze en behandelingsaanpak?;Een van mijn patiënten, Lisa, heeft een ongebruikelijke presentatie van symptomen die moeilijk te diagnosticeren zijn. Ze heeft al meerdere specialisten gezien, maar er is nog steeds geen duidelijke diagnose. Zou het verstandig zijn om een second opinion te overwegen om haar case te evalueren?;Ik zie een tiener, Jasper, met ernstige stemmingswisselingen en suïcidale gedachten. Ondanks meerdere behandelingen lijkt hij niet te verbeteren. Zou het raadzaam zijn om een second opinion te vragen over zijn behandelingsplan en diagnostische evaluatie?;Mijn patiënt, Emma, heeft een complexe persoonlijkheidsstoornis en heeft meerdere behandelaars gezien, maar blijft worstelen met interpersoonlijke problemen. Zou het nuttig zijn om een second opinion te krijgen over de benadering van haar persoonlijkheidsstoornis?;Een van mijn patiënten, Lucas, heeft een zeldzame psychische aandoening waarvoor gespecialiseerde expertise nodig is. Zou het verstandig zijn om een second opinion te overwegen om ervoor te zorgen dat we de best mogelijke behandeling bieden?;Ik behandel een vrouw, Lisa, met complexe trauma\\'s en een ingewikkelde presentatie van dissociatieve symptomen. Zou het nuttig zijn om een second opinion te verkrijgen om haar case te evalueren en te bespreken welke behandelingsbenadering het meest geschikt is?;Mijn cliënt, Anna, heeft een langdurige geschiedenis van eetstoornissen en heeft al verschillende behandelingsmodaliteiten geprobeerd zonder duurzaam herstel. Zou het raadzaam zijn om een second opinion te overwegen over haar behandelingsplan?;Een van mijn patiënten, Frank, heeft een complexe comorbiditeit van psychische aandoeningen, waaronder depressie en verslaving. Hij heeft al meerdere behandelaars gezien, maar er is weinig vooruitgang geboekt. Zou het nuttig zijn om een second opinion te verkrijgen om zijn behandelingsaanpak te heroverwegen?;Ik zie een jonge man, Tim, met een obsessieve-compulsieve stoornis (OCS) die resistent lijkt te zijn tegen standaardbehandelingen. Zou het verstandig zijn om een second opinion te vragen over zijn behandelingsplan en te onderzoeken welke alternatieve benaderingen kunnen worden overwogen?;Ik heb een patiënt, Petra, die enige verbetering heeft laten zien in de behandeling van depressie, maar nu vastloopt in haar vooruitgang. Wat voor vervolgtherapie of interventies zou nuttig kunnen zijn om haar te helpen?;Mijn cliënt, Marco, heeft cognitieve gedragstherapie ondergaan voor zijn angststoornis, maar blijft terugkeren naar oude gewoonten. Welke vervolgtherapieën kunnen overwogen worden om zijn angst beter te beheersen?;Een van mijn patiënten, Lisa, heeft met succes de behandeling voor haar verslaving afgerond, maar heeft nu moeite om nuchter te blijven. Wat zijn de aanbevolen vervolgtherapieën om haar te ondersteunen bij herstel en terugvalpreventie?;Ik behandel een man, Thomas, die heeft geprofiteerd van individuele therapie voor zijn depressie, maar nu behoefte heeft aan aanvullende ondersteuning. Wat voor vervolgtherapieën of groepsinterventies kunnen nuttig zijn?;Mijn patiënt, Emma, heeft met succes dialectische gedragstherapie (DBT) gevolgd voor haar borderline persoonlijkheidsstoornis. Ze heeft nu behoefte aan verdere behandeling om haar emotionele regulatie te verbeteren. Wat zou een geschikte vervolgtherapie kunnen zijn?;Een van mijn patiënten, Lucas, heeft langdurig gewerkt aan zijn trauma\\'s en dissociatieve symptomen, maar heeft nog steeds moeite met interpersoonlijke relaties. Welke vervolgtherapieën kunnen overwogen worden om zijn sociale functioneren te verbeteren?;Ik zie een vrouw, Lisa, die heeft deelgenomen aan groepstherapie voor haar eetstoornis, maar nu worstelt met terugval. Wat voor vervolgtherapieën kunnen overwogen worden om haar herstel te ondersteunen?;Mijn cliënt, Anna, heeft cognitieve gedragstherapie gevolgd voor haar sociale angststoornis, maar heeft nog steeds moeite met sociale situaties. Wat voor vervolgtherapieën kunnen nuttig zijn om haar sociale vaardigheden verder te ontwikkelen?;Een van mijn patiënten, Frank, heeft behandeling gezocht voor zijn depressie en verslaving en heeft baat gehad bij medicamenteuze behandeling. Wat voor vervolgtherapieën kunnen worden overwogen om zijn emotioneel welzijn en herstel te ondersteunen?;Ik behandel een jonge man, Tim, met een obsessieve-compulsieve stoornis (OCS) die deels reageerde op medicamenteuze behandeling. Wat voor vervolgtherapieën kunnen worden over'"
      ]
     },
     "execution_count": 2,
     "metadata": {},
     "output_type": "execute_result"
    }
   ],
   "source": [
    "# Import data\n",
    "df = pd.read_csv(\"..\\data\\Dummy_TEST_123Consultatievragen.csv\",sep=';')\n",
    "df\n",
    "\n",
    "# Convert the Series to strings\n",
    "df_string = ';'.join(df.Consultatievraag.astype(str))\n",
    "df_string"
   ]
  },
  {
   "cell_type": "markdown",
   "metadata": {},
   "source": [
    "### FlairTagger"
   ]
  },
  {
   "cell_type": "code",
   "execution_count": 3,
   "metadata": {},
   "outputs": [
    {
     "name": "stderr",
     "output_type": "stream",
     "text": [
      "\u001b[32m2023-12-21 14:32:23.134\u001b[0m | \u001b[1mINFO    \u001b[0m | \u001b[36mdeidentify.tokenizer.base\u001b[0m:\u001b[36mtokenizer\u001b[0m:\u001b[36m36\u001b[0m - \u001b[1mTokenizer for corpus: ons\u001b[0m\n",
      "\u001b[32m2023-12-21 14:32:25.906\u001b[0m | \u001b[1mINFO    \u001b[0m | \u001b[36mdeidentify.taggers.flair_tagger\u001b[0m:\u001b[36m__init__\u001b[0m:\u001b[36m20\u001b[0m - \u001b[1mLoad flair model from C:\\Users\\DonnaHsia\\.deidentify\\model_bilstmcrf_ons_fast-v0.2.0\\final-model.pt\u001b[0m\n"
     ]
    },
    {
     "name": "stdout",
     "output_type": "stream",
     "text": [
      "2023-12-21 14:32:25,906 loading file C:\\Users\\DonnaHsia\\.deidentify\\model_bilstmcrf_ons_fast-v0.2.0\\final-model.pt\n"
     ]
    },
    {
     "name": "stderr",
     "output_type": "stream",
     "text": [
      "\u001b[32m2023-12-21 14:32:29.672\u001b[0m | \u001b[1mINFO    \u001b[0m | \u001b[36mdeidentify.taggers.flair_tagger\u001b[0m:\u001b[36m__init__\u001b[0m:\u001b[36m22\u001b[0m - \u001b[1mFinish loading flair model.\u001b[0m\n"
     ]
    }
   ],
   "source": [
    "# Wrap text in document\n",
    "documents_dummy = [\n",
    "    Document(name='doc_01', text=df_string)\n",
    "]\n",
    "\n",
    "# Select downloaded model\n",
    "model = 'model_bilstmcrf_ons_fast-v0.2.0'\n",
    "\n",
    "# Instantiate tokenizer\n",
    "tokenizer = TokenizerFactory().tokenizer(corpus='ons', disable=(\"tagger\", \"ner\"))\n",
    "\n",
    "# Load tagger with a downloaded model file and tokenizer\n",
    "tagger = FlairTagger(model=model, tokenizer=tokenizer, verbose=False)\n",
    "\n",
    "# Annotate your documents\n",
    "annotated_docs_flair = tagger.annotate(documents_dummy)"
   ]
  },
  {
   "cell_type": "code",
   "execution_count": 4,
   "metadata": {},
   "outputs": [
    {
     "name": "stdout",
     "output_type": "stream",
     "text": [
      "[Annotation(text='Aidan', start=73, end=78, tag='Name', doc_id='', ann_id='T0'),\n",
      " Annotation(text='augustus', start=173, end=181, tag='Date', doc_id='', ann_id='T1'),\n",
      " Annotation(text='Lars', start=275, end=279, tag='Name', doc_id='', ann_id='T2'),\n",
      " Annotation(text='Aidan', start=309, end=314, tag='Name', doc_id='', ann_id='T3'),\n",
      " Annotation(text='Nederland', start=356, end=365, tag='Address', doc_id='', ann_id='T4'),\n",
      " Annotation(text='Bart', start=681, end=685, tag='Name', doc_id='', ann_id='T5'),\n",
      " Annotation(text='18 jaar', start=690, end=697, tag='Age', doc_id='', ann_id='T6'),\n",
      " Annotation(text='Bart', start=795, end=799, tag='Name', doc_id='', ann_id='T7'),\n",
      " Annotation(text='Centiv', start=817, end=823, tag='Care_Institute', doc_id='', ann_id='T8'),\n",
      " Annotation(text='Sandra', start=825, end=831, tag='Name', doc_id='', ann_id='T9'),\n",
      " Annotation(text='Anita', start=2058, end=2063, tag='Name', doc_id='', ann_id='T10'),\n",
      " Annotation(text='Jan', start=2684, end=2687, tag='Name', doc_id='', ann_id='T11'),\n",
      " Annotation(text='Jan', start=2981, end=2984, tag='Name', doc_id='', ann_id='T12'),\n",
      " Annotation(text='Emma', start=3015, end=3019, tag='Name', doc_id='', ann_id='T13'),\n",
      " Annotation(text='25-jarige', start=3025, end=3034, tag='Age', doc_id='', ann_id='T14'),\n",
      " Annotation(text='de Vries', start=3345, end=3353, tag='Name', doc_id='', ann_id='T15'),\n",
      " Annotation(text='Lisa', start=3691, end=3695, tag='Name', doc_id='', ann_id='T16'),\n",
      " Annotation(text='Lisa', start=3859, end=3863, tag='Name', doc_id='', ann_id='T17'),\n",
      " Annotation(text='Lisa', start=3903, end=3907, tag='Name', doc_id='', ann_id='T18'),\n",
      " Annotation(text='Jansen', start=4009, end=4015, tag='Name', doc_id='', ann_id='T19'),\n",
      " Annotation(text='Jeroen', start=4270, end=4276, tag='Name', doc_id='', ann_id='T20'),\n",
      " Annotation(text='Sarah', start=4539, end=4544, tag='Name', doc_id='', ann_id='T21'),\n",
      " Annotation(text='Lucas', start=4784, end=4789, tag='Name', doc_id='', ann_id='T22'),\n",
      " Annotation(text='Martine', start=5037, end=5044, tag='Name', doc_id='', ann_id='T23'),\n",
      " Annotation(text='Tim', start=5310, end=5313, tag='Name', doc_id='', ann_id='T24'),\n",
      " Annotation(text='Tim', start=5458, end=5461, tag='Name', doc_id='', ann_id='T25'),\n",
      " Annotation(text='Lisa', start=5572, end=5576, tag='Name', doc_id='', ann_id='T26'),\n",
      " Annotation(text='Robert', start=5857, end=5863, tag='Name', doc_id='', ann_id='T27'),\n",
      " Annotation(text='Sophie', start=6160, end=6166, tag='Name', doc_id='', ann_id='T28'),\n",
      " Annotation(text='Sophie', start=6341, end=6347, tag='Name', doc_id='', ann_id='T29'),\n",
      " Annotation(text='Martin', start=6439, end=6445, tag='Name', doc_id='', ann_id='T30'),\n",
      " Annotation(text='Martin', start=6550, end=6556, tag='Name', doc_id='', ann_id='T31'),\n",
      " Annotation(text='Laura', start=6670, end=6675, tag='Name', doc_id='', ann_id='T32'),\n",
      " Annotation(text='Johan', start=6948, end=6953, tag='Name', doc_id='', ann_id='T33'),\n",
      " Annotation(text='Marieke', start=7234, end=7241, tag='Name', doc_id='', ann_id='T34'),\n",
      " Annotation(text='Jasper', start=7504, end=7510, tag='Name', doc_id='', ann_id='T35'),\n",
      " Annotation(text='Kim', start=7785, end=7788, tag='Name', doc_id='', ann_id='T36'),\n",
      " Annotation(text='David', start=8081, end=8086, tag='Name', doc_id='', ann_id='T37'),\n",
      " Annotation(text='David', start=8272, end=8277, tag='Name', doc_id='', ann_id='T38'),\n",
      " Annotation(text='40-jarige', start=8368, end=8377, tag='Age', doc_id='', ann_id='T39'),\n",
      " Annotation(text='Laura', start=8385, end=8390, tag='Name', doc_id='', ann_id='T40'),\n",
      " Annotation(text='Laura', start=8472, end=8477, tag='Name', doc_id='', ann_id='T41'),\n",
      " Annotation(text='Thomas', start=8849, end=8855, tag='Name', doc_id='', ann_id='T42'),\n",
      " Annotation(text='30-jarige', start=8864, end=8873, tag='Age', doc_id='', ann_id='T43'),\n",
      " Annotation(text='Thomas', start=9180, end=9186, tag='Name', doc_id='', ann_id='T44'),\n",
      " Annotation(text='25-jarige', start=9247, end=9256, tag='Age', doc_id='', ann_id='T45'),\n",
      " Annotation(text='Mark', start=9262, end=9266, tag='Name', doc_id='', ann_id='T46'),\n",
      " Annotation(text='Mark', start=9475, end=9479, tag='Name', doc_id='', ann_id='T47'),\n",
      " Annotation(text='Anna', start=9657, end=9661, tag='Name', doc_id='', ann_id='T48'),\n",
      " Annotation(text='28-jarige', start=9670, end=9679, tag='Age', doc_id='', ann_id='T49'),\n",
      " Annotation(text='Anna', start=9892, end=9896, tag='Name', doc_id='', ann_id='T50'),\n",
      " Annotation(text='45-jarige', start=10055, end=10064, tag='Age', doc_id='', ann_id='T51'),\n",
      " Annotation(text='Frank', start=10070, end=10075, tag='Name', doc_id='', ann_id='T52'),\n",
      " Annotation(text='Frank', start=10189, end=10194, tag='Name', doc_id='', ann_id='T53'),\n",
      " Annotation(text='Frank', start=10366, end=10371, tag='Name', doc_id='', ann_id='T54'),\n",
      " Annotation(text='Lisa', start=10497, end=10501, tag='Name', doc_id='', ann_id='T55'),\n",
      " Annotation(text='22-jarige', start=10510, end=10519, tag='Age', doc_id='', ann_id='T56'),\n",
      " Annotation(text='Lisa', start=10770, end=10774, tag='Name', doc_id='', ann_id='T57'),\n",
      " Annotation(text='35-jarige', start=10859, end=10868, tag='Age', doc_id='', ann_id='T58'),\n",
      " Annotation(text='Lucas', start=10874, end=10879, tag='Name', doc_id='', ann_id='T59'),\n",
      " Annotation(text='Lucas', start=11155, end=11160, tag='Name', doc_id='', ann_id='T60'),\n",
      " Annotation(text='Eva', start=11245, end=11248, tag='Name', doc_id='', ann_id='T61'),\n",
      " Annotation(text='Eva', start=11413, end=11416, tag='Name', doc_id='', ann_id='T62'),\n",
      " Annotation(text='Erik', start=11601, end=11605, tag='Name', doc_id='', ann_id='T63'),\n",
      " Annotation(text='Erik', start=11896, end=11900, tag='Name', doc_id='', ann_id='T64'),\n",
      " Annotation(text='Hannah', start=11948, end=11954, tag='Name', doc_id='', ann_id='T65'),\n",
      " Annotation(text='Hannah', start=12127, end=12133, tag='Name', doc_id='', ann_id='T66'),\n",
      " Annotation(text='Jonas', start=12252, end=12257, tag='Name', doc_id='', ann_id='T67'),\n",
      " Annotation(text='Jonas', start=12573, end=12578, tag='Name', doc_id='', ann_id='T68'),\n",
      " Annotation(text='Lisa', start=12637, end=12641, tag='Name', doc_id='', ann_id='T69'),\n",
      " Annotation(text='Lisa', start=12832, end=12836, tag='Name', doc_id='', ann_id='T70'),\n",
      " Annotation(text='Sophie', start=12942, end=12948, tag='Name', doc_id='', ann_id='T71'),\n",
      " Annotation(text='30-jarige', start=12954, end=12963, tag='Age', doc_id='', ann_id='T72'),\n",
      " Annotation(text='Sophie', start=13140, end=13146, tag='Name', doc_id='', ann_id='T73'),\n",
      " Annotation(text='Mark', start=13237, end=13241, tag='Name', doc_id='', ann_id='T74'),\n",
      " Annotation(text='40-jarige', start=13250, end=13259, tag='Age', doc_id='', ann_id='T75'),\n",
      " Annotation(text='Emma', start=13587, end=13591, tag='Name', doc_id='', ann_id='T76'),\n",
      " Annotation(text='Emma', start=13783, end=13787, tag='Name', doc_id='', ann_id='T77'),\n",
      " Annotation(text='Thomas', start=13886, end=13892, tag='Name', doc_id='', ann_id='T78'),\n",
      " Annotation(text='25-jarige', start=13901, end=13910, tag='Age', doc_id='', ann_id='T79'),\n",
      " Annotation(text='Lisa', start=14228, end=14232, tag='Name', doc_id='', ann_id='T80'),\n",
      " Annotation(text='Lisa', start=14468, end=14472, tag='Name', doc_id='', ann_id='T81'),\n",
      " Annotation(text='Anna', start=14538, end=14542, tag='Name', doc_id='', ann_id='T82'),\n",
      " Annotation(text='Anna', start=14745, end=14749, tag='Name', doc_id='', ann_id='T83'),\n",
      " Annotation(text='Erik', start=14829, end=14833, tag='Name', doc_id='', ann_id='T84'),\n",
      " Annotation(text='Erik', start=15005, end=15009, tag='Name', doc_id='', ann_id='T85'),\n",
      " Annotation(text='Jonas', start=15104, end=15109, tag='Name', doc_id='', ann_id='T86'),\n",
      " Annotation(text='Jonas', start=15310, end=15315, tag='Name', doc_id='', ann_id='T87'),\n",
      " Annotation(text='Laura', start=15406, end=15411, tag='Name', doc_id='', ann_id='T88'),\n",
      " Annotation(text='Laura', start=15545, end=15550, tag='Name', doc_id='', ann_id='T89'),\n",
      " Annotation(text='Hannah', start=15666, end=15672, tag='Name', doc_id='', ann_id='T90'),\n",
      " Annotation(text='Hannah', start=15834, end=15840, tag='Name', doc_id='', ann_id='T91'),\n",
      " Annotation(text='Lucas', start=15979, end=15984, tag='Name', doc_id='', ann_id='T92'),\n",
      " Annotation(text='Lucas', start=16160, end=16165, tag='Name', doc_id='', ann_id='T93'),\n",
      " Annotation(text='Lisa', start=16239, end=16243, tag='Name', doc_id='', ann_id='T94'),\n",
      " Annotation(text='Lisa', start=16379, end=16383, tag='Name', doc_id='', ann_id='T95'),\n",
      " Annotation(text='Erik', start=16468, end=16472, tag='Name', doc_id='', ann_id='T96'),\n",
      " Annotation(text='Erik', start=16679, end=16683, tag='Name', doc_id='', ann_id='T97'),\n",
      " Annotation(text='Jonas', start=16763, end=16768, tag='Name', doc_id='', ann_id='T98'),\n",
      " Annotation(text='Jonas', start=16911, end=16916, tag='Name', doc_id='', ann_id='T99'),\n",
      " Annotation(text='Sarah', start=17040, end=17045, tag='Name', doc_id='', ann_id='T100'),\n",
      " Annotation(text='David', start=17230, end=17235, tag='Name', doc_id='', ann_id='T101'),\n",
      " Annotation(text='Lisa', start=17440, end=17444, tag='Name', doc_id='', ann_id='T102'),\n",
      " Annotation(text='Thomas', start=17637, end=17643, tag='Name', doc_id='', ann_id='T103'),\n",
      " Annotation(text='Emma', start=17835, end=17839, tag='Name', doc_id='', ann_id='T104'),\n",
      " Annotation(text='Robert', start=17996, end=18002, tag='Name', doc_id='', ann_id='T105'),\n",
      " Annotation(text='Marieke', start=18178, end=18185, tag='Name', doc_id='', ann_id='T106'),\n",
      " Annotation(text='Tim', start=18409, end=18412, tag='Name', doc_id='', ann_id='T107'),\n",
      " Annotation(text='Lucas', start=18603, end=18608, tag='Name', doc_id='', ann_id='T108'),\n",
      " Annotation(text='Anita', start=18786, end=18791, tag='Name', doc_id='', ann_id='T109'),\n",
      " Annotation(text='Jeroen', start=18994, end=19000, tag='Name', doc_id='', ann_id='T110'),\n",
      " Annotation(text='Sarah', start=19205, end=19210, tag='Name', doc_id='', ann_id='T111'),\n",
      " Annotation(text='Lisa', start=19420, end=19424, tag='Name', doc_id='', ann_id='T112'),\n",
      " Annotation(text='Martin', start=19608, end=19614, tag='Name', doc_id='', ann_id='T113'),\n",
      " Annotation(text='Laura', start=19786, end=19791, tag='Name', doc_id='', ann_id='T114'),\n",
      " Annotation(text='Robert', start=19954, end=19960, tag='Name', doc_id='', ann_id='T115'),\n",
      " Annotation(text='Sophie', start=20149, end=20155, tag='Name', doc_id='', ann_id='T116'),\n",
      " Annotation(text='Tim', start=20350, end=20353, tag='Name', doc_id='', ann_id='T117'),\n",
      " Annotation(text='David', start=20482, end=20487, tag='Name', doc_id='', ann_id='T118'),\n",
      " Annotation(text='Anna', start=20684, end=20688, tag='Name', doc_id='', ann_id='T119'),\n",
      " Annotation(text='Petra', start=20925, end=20930, tag='Name', doc_id='', ann_id='T120'),\n",
      " Annotation(text='Marco', start=21219, end=21224, tag='Name', doc_id='', ann_id='T121'),\n",
      " Annotation(text='Lisa', start=21476, end=21480, tag='Name', doc_id='', ann_id='T122'),\n",
      " Annotation(text='Jasper', start=21766, end=21772, tag='Name', doc_id='', ann_id='T123'),\n",
      " Annotation(text='Emma', start=22016, end=22020, tag='Name', doc_id='', ann_id='T124'),\n",
      " Annotation(text='Lucas', start=22291, end=22296, tag='Name', doc_id='', ann_id='T125'),\n",
      " Annotation(text='Lisa', start=22532, end=22536, tag='Name', doc_id='', ann_id='T126'),\n",
      " Annotation(text='Anna', start=22784, end=22788, tag='Name', doc_id='', ann_id='T127'),\n",
      " Annotation(text='Frank', start=23039, end=23044, tag='Name', doc_id='', ann_id='T128'),\n",
      " Annotation(text='Tim', start=23347, end=23350, tag='Name', doc_id='', ann_id='T129'),\n",
      " Annotation(text='Petra', start=23634, end=23639, tag='Name', doc_id='', ann_id='T130'),\n",
      " Annotation(text='Marco', start=23848, end=23853, tag='Name', doc_id='', ann_id='T131'),\n",
      " Annotation(text='Lisa', start=24073, end=24077, tag='Name', doc_id='', ann_id='T132'),\n",
      " Annotation(text='Thomas', start=24306, end=24312, tag='Name', doc_id='', ann_id='T133'),\n",
      " Annotation(text='Emma', start=24520, end=24524, tag='Name', doc_id='', ann_id='T134'),\n",
      " Annotation(text='Lucas', start=24797, end=24802, tag='Name', doc_id='', ann_id='T135'),\n",
      " Annotation(text='Lisa', start=25045, end=25049, tag='Name', doc_id='', ann_id='T136'),\n",
      " Annotation(text='Anna', start=25243, end=25247, tag='Name', doc_id='', ann_id='T137'),\n",
      " Annotation(text='Frank', start=25497, end=25502, tag='Name', doc_id='', ann_id='T138'),\n",
      " Annotation(text='Tim', start=25749, end=25752, tag='Name', doc_id='', ann_id='T139')]\n"
     ]
    }
   ],
   "source": [
    "# Annotation results of FlairTagger\n",
    "from pprint import pprint\n",
    "\n",
    "first_doc_flair = annotated_docs_flair[0]\n",
    "pprint(first_doc_flair.annotations)"
   ]
  },
  {
   "cell_type": "code",
   "execution_count": 5,
   "metadata": {},
   "outputs": [
    {
     "name": "stdout",
     "output_type": "stream",
     "text": [
      "Dag. Graag vraag ik advies inzake het wel of niet starten met medicatie? [NAME] vertelt : gaat niet lekker, bekend met bipolaire stoornis, vorig jaar periode wat hypomaan in [DATE], toen tijdelijk rivotril gebruikt, nu juist angstig, emotioneel en somberder, trigger is wss [NAME] die naar verzorginshuis is, ([NAME] en heeft er moeite mee dat de cultuur in [ADDRESS] anders is tav opvang van ouderen) speelt nu op sinds 1,5 mnd en wordt langzaam erger, soms ook boos, intensere emoties, post-partum begeleiding gehad, maar wilde toen niet met lithium beginnen en is zonder medicatie goed gegaan. Tevens hypothyreoidie waarvoor medicatie. Alvast bedankt voor het meedenken. ;betreft [NAME] van [AGE] die depressief is en gedachten heeft op het spoor te gaan staan.volgens de huisarts geen crisis. [NAME] is afgewezen bij [CARE_INSTITUTE]. [NAME] wil graag overleg.;Inmiddels 3x meneer gezien. Meneer Altijd voornamelijk bezig geweest met werk, nu meer zoekende naar momenten die rust en ontspanning geven.Relatieproblematiek mede door problemen in emotie regulatie bij verwerken van seksualiteit en intiem contact is belemmerend voor meneer geen effect. Beschrijft meneer als iemand die lomp is en zegt waar het op staat. Loopt met name in relatie en in contact met werknemer tegen problemen aan. Vrienden en kennissen nemen meneer zoals meneer is, hij Inmiddels 3 consulten gevoerd. hij is steeds meer open. Emoties tonen gaat moeizaam, vecht er tegen. Wil aan de slag met emotie regulatie, daarnaast weer rust in hoofd ervaren.Nooit eerder in contact geweest binnen GGZ. Verwachting mogelijk problematiek in persoonlijkheid, is ook beeld vanuit betrokken huisarts. hij omschrijft mogelijk hechtingsproblematiek. hij laat in consulten weinig los over kind- en jeugdjaren. Vraagt om rustgevende medicatie. Begrijpt noodzaak om eerst meer context te kunnen schetsen. Verzoek om deze patient, evt. in samenwerking, te zien om verder beleid passend te kunnen vaststellen. Beoordelen of het past binnen SGGZ of juist beter voorliggend opgepakt kan worden.;Ik zie een mevrouw ([NAME]) die in verleden verslaving heeft gehad aan GHB en alcohol. Is ook bij jullie in behandeling geweest hiervoor. Van GHB gbruik is geen sprake meer wel nog van alcoholgebruik. Ze drinkt in het weekend met uitgaan. Stoppen hiermee is geen optie. Merkt dat mevrouw door de week toch zucht krijgt. Onlangs een lif event meegemaakt (overlijden vader) haar vraag is of er anti zucht medicatie is die xx kan stoppen en dan toch kan drinken in het weekend. Mevrouw zou hier graag over willen spreken met een verslavingsarts. Is het mogelijk om hiervoor  bij u een eenmalig consult aan te vragen?;Goedemiddag, ik heb een patiënt, [NAME] genaamd, met chronische rugpijn die moeilijk te behandelen lijkt. Hij heeft al verschillende therapieën en medicijnen geprobeerd, maar niets lijkt te helpen. Zijn levenskwaliteit lijdt hier erg onder. Kunnen we een overleg plannen om te bespreken welke verdere stappen we kunnen ondernemen om [NAME] te helpen?;Ik heb een cliënt, [NAME], een [AGE] vrouw met anorexia nervosa. Ze weigert op dit moment alle vormen van behandeling en haar toestand verslechtert snel. Ik maak me grote zorgen om haar gezondheid en wil graag overleggen over mogelijke interventies om haar te stabiliseren en in behandeling te krijgen. Wat raadt u aan?;Ik heb een patiënt, meneer [NAME], die al enige tijd last heeft van ernstige slaapproblemen. Hij heeft al verschillende slaapmedicijnen geprobeerd, maar niets lijkt te werken. Zijn vermoeidheid heeft een negatieve invloed op zijn dagelijks leven en werkprestaties. Wat zijn de mogelijke oorzaken en behandelopties voor zijn aanhoudende slaapproblemen?;Ik zie een tiener, [NAME] genaamd, die de laatste maanden steeds teruggetrokken is en weigert naar school te gaan. Haar ouders maken zich zorgen dat er sprake is van pesten op school, maar [NAME] vertelt hier niets over. Hoe kunnen we [NAME] helpen om haar problemen te bespreken en te achterhalen wat er aan de hand is?;Mijn patiënt, mevrouw [NAME], heeft onlangs een traumatische gebeurtenis meegemaakt en vertoont nu tekenen van acute stressstoornis. Ik wil weten welke behandelingsopties beschikbaar zijn en hoe we haar zo snel mogelijk kunnen ondersteunen in haar herstelproces.;Ik zie een patiënt, [NAME], met een langdurige geschiedenis van depressie en angststoornissen. Zijn huidige medicatie lijkt niet voldoende te werken en hij meldt terugkerende suïcidale gedachten. Welke behandelopties kunnen we overwegen om zijn symptomen beter te beheersen?;Mijn patiënt, [NAME], worstelt met ernstige alcoholverslaving en heeft meerdere mislukte pogingen gedaan om te stoppen. Wat zijn de meest effectieve behandelingsbenaderingen voor haar alcoholprobleem, inclusief medicamenteuze ondersteuning?;Ik heb een cliënt, [NAME], die lijdt aan posttraumatische stressstoornis (PTSS) en nachtmerries heeft die zijn slaap verstoren. Welke interventies en therapieën kunnen helpen bij het verminderen van de nachtmerries en het verbeteren van zijn slaap?;Een van mijn patiënten, [NAME], heeft last van terugkerende paniekaanvallen die haar dagelijkse leven verstoren. Ze wil graag praten over medicatieopties om de frequentie en intensiteit van haar paniekaanvallen te verminderen. Welke medicijnen kunnen worden overwogen?;Ik behandel een jonge man, [NAME], die worstelt met gokverslaving en financiële problemen heeft als gevolg van zijn verslaving. Wat zijn de beschikbare bronnen en programma's om [NAME] te ondersteunen bij het aanpakken van zijn gokprobleem en het beheren van zijn financiën?;Ik heb een patiënt, [NAME], met een geschiedenis van eetstoornissen, die na een periode van stabiliteit weer terugvalt in haar oude patroon van restrictief eten en overmatige lichaamsbeweging. Wat zijn de aanbevolen behandelingsstrategieën voor herstel en hoe kunnen we de terugval voorkomen?;Mijn patiënt, [NAME], heeft last van ernstige obsessieve-compulsieve symptomen die zijn dagelijkse leven sterk beïnvloeden. Hij heeft al verschillende vormen van cognitieve gedragstherapie ondergaan, maar er is weinig verbetering. Welke andere behandelingsmogelijkheden zijn er voor OCD?;Ik behandel een jonge vrouw, [NAME], die worstelt met zelfbeschadigend gedrag en suïcidale gedachten heeft. Haar familie maakt zich ernstig zorgen. Wat zijn de dringende interventies die we moeten overwegen om [NAME] in veiligheid te brengen en haar mentale gezondheid te verbeteren?;Een van mijn patiënten, [NAME], lijkt te lijden aan een gokverslaving en heeft aanzienlijke schulden opgebouwd. Wat zijn de stappen om [NAME] te helpen bij het beheren van zijn verslaving en het aanpakken van zijn financiële problemen?;Ik zie een tiener, [NAME], die ernstige stemmingswisselingen en episodes van zelfbeschadiging vertoont. Haar ouders hebben moeite om met haar om te gaan. Wat zijn de mogelijke behandelingsbenaderingen voor deze complexe situatie, inclusief de rol van familie-interventies?;Ik behandel een patiënt, [NAME], met een obsessie voor bizarre complottheorieën die zijn dagelijkse leven verstoren. Zijn familie maakt zich zorgen over zijn geestelijke gezondheid. Hoe kunnen we effectief omgaan met zijn overtuigingen en hem helpen bij het verbeteren van zijn psychische welzijn?;Mijn patiënt, [NAME], ervaart intense emotionele fluctuaties die lijken samen te vallen met de fasen van de maan. Ze is ervan overtuigd dat de maan invloed heeft op haar stemming. Hoe kunnen we haar overtuigingen adresseren en haar symptomen behandelen?;Ik zie een jonge volwassene, [NAME], die beweert dat hij telepathische communicatie heeft met buitenaardse wezens. Hij zegt dat deze ervaringen hem angstig maken en zijn dagelijks functioneren verstoren. Wat zijn de behandelingsmogelijkheden voor dit soort ervaringen en overtuigingen?;Een van mijn patiënten, [NAME], heeft een ernstige verslaving aan online gaming en besteedt dagelijks meerdere uren aan gamen. Haar schoolprestaties lijden hieronder. Wat zijn de specifieke interventies om haar te helpen bij het beheersen van deze verslaving en haar academische doelen te bereiken?;Ik behandel een cliënt, [NAME], die zichzelf beschouwt als een 'workaholic' en obsessief streeft naar professioneel succes. Hij lijkt te lijden onder burn-outsymptomen, maar weigert hulp te aanvaarden. Hoe kunnen we [NAME] bewegen tot zelfreflectie en behandeling voor zijn overmatige werkgedrag?;Ik behandel een [AGE] vrouw, [NAME], met een geschiedenis van complexe trauma's en ernstige dissociatieve symptomen. [NAME] heeft onlangs gemeld dat ze episoden van verlies van bewustzijn ervaart waarin ze zichzelf buiten haar lichaam ziet en de wereld om haar heen anders ervaart. Deze ervaringen veroorzaken haar angst en verstoren haar dagelijkse leven. Wat zijn de diagnostische overwegingen en mogelijke behandelingen voor deze complexe presentatie van dissociatie bij Laura?;Mijn patiënt, [NAME], is een [AGE] man die lijdt aan een obsessieve-compulsieve stoornis (OCS) en tegelijkertijd een ernstige fobie voor vuil en bacteriën heeft ontwikkeld. Hij besteedt uren per dag aan rituelen om zijn angst onder controle te houden en isoleert zichzelf steeds meer. Welke geïntegreerde behandelingsaanpak raadt u aan voor [NAME], rekening houdend met zowel de OCS als de fobie?;Ik zie een [AGE] man, [NAME], die een patroon van excessief alcoholgebruik heeft ontwikkeld om met sociale angst en verlegenheid om te gaan. Zijn alcoholgebruik begint zijn professionele en persoonlijke leven te verstoren. Hoe kunnen we [NAME] helpen om zijn sociale angst aan te pakken zonder terug te vallen in alcoholgebruik, en welke behandelingsmodaliteiten zijn het meest geschikt voor hem?;Een van mijn patiënten, [NAME], is een [AGE] vrouw met eetbuien en braken. Ze heeft verschillende mislukte pogingen gedaan om te stoppen, maar blijft terugvallen in deze cyclus. Haar eetstoornis heeft geleid tot ernstige gezondheidsproblemen. Hoe kunnen we [NAME] ondersteunen bij het doorbreken van deze destructieve gewoonten en haar fysieke en mentale gezondheid herstellen?;Ik ben betrokken bij de behandeling van een [AGE] man, [NAME], met een complexe geschiedenis van emotionele verwaarlozing in de kindertijd en langdurige depressieve episoden. [NAME] heeft moeite met het aangaan van emotionele relaties en blijft terugvallen in isolatie. Wat zijn de benaderingen voor trauma-geïnformeerde zorg die we kunnen toepassen om [NAME] te helpen bij het verwerken van zijn verleden en het ontwikkelen van gezondere interpersoonlijke vaardigheden?;Mijn patiënt, [NAME], is een [AGE] vrouw met anorexia nervosa die in een vroeg stadium van herstel is. Ze is vastbesloten om gezond te worden, maar haar ouders maken zich zorgen over haar voedselinname en gewichtsherstel. Hoe kunnen we een evenwicht vinden tussen het ondersteunen van [NAME] bij haar herstel en het betrekken van haar ouders in het behandelproces?;Ik zie een [AGE] man, [NAME], die kampt met een complexe persoonlijkheidsstoornis en frequent suïcidale gedachten heeft. Hij heeft meerdere ziekenhuisopnames achter de rug en heeft een geschiedenis van onverwachte uitval uit behandelingen. Wat zijn de opties voor langdurige zorg en crisispreventie voor [NAME], rekening houdend met de complexiteit van zijn presentatie?;Een van mijn patiënten, [NAME], heeft een langdurige geschiedenis van gokverslaving en heeft onlangs een aanzienlijke schuld opgebouwd. Ze staat op het punt haar huis te verliezen. Hoe kunnen we [NAME] ondersteunen bij het aanpakken van haar verslaving en het omgaan met de financiële gevolgen, en welke externe bronnen kunnen we inschakelen om haar te helpen?;Ik behandel een patiënt, [NAME], die lijdt aan een ongebruikelijke fobie voor knuffelberen. Zijn angst voor deze kinderspeelgoedbeesten heeft zijn sociale leven ernstig beïnvloed en hij vermijdt plaatsen waar knuffelberen aanwezig kunnen zijn. Wat zijn de behandelingsstrategieën voor deze ongewone fobie en hoe kunnen we [NAME] helpen zijn angst te overwinnen?;Mijn patiënt, [NAME], heeft een buitengewone angst voor cijfer 8. Ze vermijdt activiteiten of situaties waarbij dit cijfer betrokken is en ervaart ernstige angst als ze het ziet. Hoe kunnen we [NAME] helpen om te gaan met deze fobie en haar dagelijkse leven zonder belemmeringen voort te zetten?;Ik zie een jonge man, [NAME], die lijdt aan een fobie voor ballonnen. Zijn angst voor knallende ballonnen heeft geleid tot sociale isolatie en paniekaanvallen in situaties waarin ballonnen aanwezig zijn, zoals feestjes en evenementen. Welke behandelingsbenaderingen zijn geschikt voor het omgaan met deze ongebruikelijke fobie en hoe kunnen we [NAME] helpen zijn angsten te beheersen?;Een van mijn patiënten, [NAME], heeft een irrationele angst voor kippenveren. Deze fobie belemmert haar in het bezoeken van boerderijen, stranden en andere plaatsen waar veren kunnen voorkomen. Wat zijn de strategieën om [NAME] te helpen bij het omgaan met deze ongebruikelijke fobie en haar angst te verminderen?;Ik heb een cliënt, [NAME], een [AGE] vrouw met een geschiedenis van zelfverwonding en suïcidale gedachten. Ze heeft onlangs aangegeven dat ze een \"stem\" hoort die haar vertelt zichzelf pijn te doen. Hoe kunnen we [NAME] evalueren en behandelen, rekening houdend met deze auditieve hallucinaties?;Mijn patiënt, [NAME], is een [AGE] man met een obsessieve interesse in buitenaardse ontvoeringen. Hij beweert dat hij herhaaldelijk is ontvoerd door buitenaardse wezens en lijdt aan ernstige angst en slapeloosheid als gevolg hiervan. Welke behandelingsstrategieën kunnen we overwegen voor zijn ongebruikelijke overtuigingen en angstsymptomen?;Ik zie een tiener, [NAME], die zichzelf beschouwt als een \"hooggevoelig\" persoon en beweert boodschappen te ontvangen van overleden familieleden. Haar ervaringen lijken haar angstig en verward te maken. Hoe kunnen we [NAME] ondersteunen bij het begrijpen en omgaan met haar paranormale ervaringen?;Een van mijn patiënten, [NAME], is een [AGE] man met een obsessie voor het einde van de wereld. Hij besteedt veel tijd aan het bestuderen van complottheorieën over apocalyptische gebeurtenissen en dit veroorzaakt hem aanzienlijke angst. Welke benaderingen kunnen we gebruiken om zijn obsessieve gedachten te verminderen en zijn angst te beheersen?;Mijn patiënt, [NAME], heeft een ongebruikelijke angst voor ballonnen die zijn gevuld met heliumgas. Ze vermijdt feestjes en evenementen waar dergelijke ballonnen aanwezig zijn, vanwege haar angst voor hun gedrag wanneer ze losgelaten worden. Hoe kunnen we [NAME] helpen omgaan met deze specifieke fobie?;Ik zie een jonge vrouw, [NAME], die bang is voor de kleur rood. Ze vermijdt rode kleding, objecten en zelfs voedingsmiddelen met een rode kleur. Dit belemmert haar dagelijkse leven en relaties. Wat zijn de aanbevolen benaderingen om [NAME] te helpen bij het omgaan met haar ongewone kleurfobie?;Een van mijn patiënten, [NAME], heeft een intense angst voor tunnels en vermijdt situaties waarin hij door tunnels moet reizen. Dit beperkt zijn mobiliteit en veroorzaakt angst en paniek. Hoe kunnen we [NAME] helpen bij het overwinnen van zijn tunnelangst en weer normaal te functioneren?;Mijn patiënt, [NAME], heeft een irrationele angst voor de geur van bloemen. Hij ervaart intense angst en vermijdt plaatsen waar bloemen aanwezig zijn, zoals parken en bloemenwinkels. Wat zijn de aanbevolen strategieën om [NAME] te ondersteunen bij het omgaan met deze ongebruikelijke geurangst?;Ik behandel een vrouw, [NAME], die een intense angst heeft ontwikkeld voor de letter \"A\". Ze vermijdt woorden en situaties die deze letter bevatten. Hoe kunnen we [NAME] helpen bij het omgaan met haar specifieke letterfobie en haar dagelijkse leven verbeteren?;Een van mijn patiënten, [NAME], heeft een buitengewone angst voor stofzuigers. Ze vermijdt het gebruik van stofzuigers en wordt angstig in de buurt van anderen die ze gebruiken. Hoe kunnen we [NAME] helpen om haar angst voor stofzuigers te verminderen en haar dagelijkse leven zonder belemmeringen voort te zetten?;Ik zie een jonge man, [NAME], die een intense angst heeft ontwikkeld voor het geluid van fluitende vogels. Hij vermijdt parken en natuurgebieden vanwege deze angst. Wat zijn de aanbevolen benaderingen om [NAME] te helpen bij het omgaan met zijn specifieke geluidsfobie?;Mijn patiënt, [NAME], heeft een ongebruikelijke angst voor de kleur groen. Ze vermijdt groene objecten en zelfs voedsel met een groene kleur. Hoe kunnen we [NAME] ondersteunen bij het omgaan met deze specifieke kleurfobie?;Een van mijn patiënten, [NAME], heeft een ongebruikelijke angst voor de vorm van cirkels. Hij vermijdt situaties waarin cirkelvormige objecten aanwezig zijn en ervaart intense angst als hij ze ziet. Wat zijn de aanbevolen strategieën om [NAME] te helpen bij het omgaan met deze specifieke vormfobie?;Ik behandel een vrouw, [NAME], die een intense angst heeft ontwikkeld voor de geur van pas gemaaid gras. Ze vermijdt grasvelden en tuinen vanwege deze angst. Hoe kunnen we [NAME] helpen om haar geurangst te verminderen en haar dagelijkse leven zonder belemmeringen voort te zetten?;Ik heb een patiënt, [NAME], met ernstige depressieve symptomen, waaronder aanhoudende somberheid en slaapproblemen. Welke medicatieopties kunnen we overwegen voor de behandeling van haar depressie?;Mijn cliënt, [NAME], lijdt aan sociale angststoornis en ervaart ernstige angst en vermijdingsgedrag in sociale situaties. Welke medicijnen zijn geschikt voor de behandeling van sociale angststoornis?;Een van mijn patiënten, [NAME], heeft een gegeneraliseerde angststoornis en ervaart chronische zorgen en angst. Wat zijn de aanbevolen medicijnen voor de behandeling van gegeneraliseerde angststoornis?;Ik behandel een man, [NAME], met obsessieve-compulsieve stoornis (OCS) en zijn symptomen reageren niet goed op eerdere behandelingen. Welke medicatieopties kunnen we overwegen voor de behandeling van OCS?;Mijn patiënt, [NAME], lijdt aan paniekstoornis en ervaart terugkerende paniekaanvallen. Welke medicijnen kunnen helpen bij de behandeling van paniekstoornis?;Ik zie een cliënt, [NAME], met posttraumatische stressstoornis (PTSS) en ernstige nachtmerries. Welke medicatie kan worden overwogen om de nachtmerries te verminderen bij PTSS?;Een van mijn patiënten, [NAME], heeft last van terugkerende paniekaanvallen die haar dagelijkse leven verstoren. Welke medicijnen kunnen worden overwogen om de frequentie en intensiteit van haar paniekaanvallen te verminderen?;Ik behandel een jonge man, [NAME], die worstelt met suïcidale gedachten als gevolg van ernstige depressie. Welke medicatieopties zijn geschikt voor de behandeling van ernstige depressie en suïcidale gedachten?;Mijn patiënt, [NAME], lijdt aan bipolaire stoornis en heeft last van manische episodes. Welke medicijnen kunnen worden overwogen om manieën te stabiliseren bij bipolaire stoornis?;Ik zie een vrouw, [NAME], met een voorgeschiedenis van alcoholverslaving en een terugval in alcoholgebruik. Welke medicatie kan worden overwogen om haar te helpen bij het verminderen van alcoholgebruik?;Een van mijn patiënten, [NAME], heeft last van ernstige depressieve symptomen en suïcidale gedachten. Welke medicijnen kunnen worden overwogen voor de behandeling van ernstige depressie en suïcidale gedachten?;Ik behandel een patiënt, [NAME], met ernstige alcoholverslaving en meerdere mislukte pogingen om te stoppen met drinken. Welke medicijnen kunnen worden overwogen om haar te ondersteunen bij de behandeling van alcoholverslaving?;Mijn cliënt, [NAME], heeft last van eetstoornissen en ernstig gewichtsverlies. Welke medicijnen kunnen worden overwogen om haar te helpen bij het herstellen van haar eetstoornis?;Een van mijn patiënten, [NAME], lijdt aan gokverslaving en heeft aanzienlijke financiële problemen. Welke medicatieopties kunnen worden overwogen om zijn gokverslaving te behandelen?;Ik zie een tiener, [NAME], met ernstige stemmingswisselingen en suïcidale gedachten. Welke medicijnen kunnen worden overwogen voor de behandeling van haar stemmingsstoornis?;Mijn patiënt, [NAME], heeft last van obsessieve-compulsieve symptomen die zijn dagelijkse leven sterk beïnvloeden. Welke medicijnen kunnen worden overwogen voor de behandeling van OCD?;Een van mijn patiënten, [NAME], worstelt met zelfbeschadigend gedrag en suïcidale gedachten. Welke medicijnen kunnen worden overwogen om haar zelfbeschadiging en suïcidale gedachten te verminderen?;Ik behandel een jonge man, [NAME], met een verslaving aan online gaming. Welke medicijnen kunnen worden overwogen om zijn verslaving te behandelen?;Mijn patiënt, [NAME], lijdt aan een obsessieve interesse in werk en heeft last van burn-outsymptomen. Welke medicatieopties kunnen worden overwogen om zijn obsessieve werkgedrag te behandelen?;Een van mijn patiënten, [NAME], heeft een langdurige geschiedenis van complex trauma en ernstige dissociatieve symptomen. Welke medicijnen kunnen worden overwogen om haar dissociatieve symptomen te verminderen en haar behandeling te ondersteunen?;Ik heb een patiënt, [NAME], met een complexe presentatie van psychische symptomen, waaronder depressie, angst en een voorgeschiedenis van trauma. Ze heeft al meerdere behandelingen gehad, maar er is weinig verbetering. Zou het verstandig zijn om een second opinion te overwegen voor haar behandelplan?;Mijn cliënt, [NAME], heeft een langdurige geschiedenis van stemmingswisselingen en heeft al verschillende medicijnen geprobeerd zonder succes. Zou het nuttig zijn om een second opinion te verkrijgen over zijn medicatiekeuze en behandelingsaanpak?;Een van mijn patiënten, [NAME], heeft een ongebruikelijke presentatie van symptomen die moeilijk te diagnosticeren zijn. Ze heeft al meerdere specialisten gezien, maar er is nog steeds geen duidelijke diagnose. Zou het verstandig zijn om een second opinion te overwegen om haar case te evalueren?;Ik zie een tiener, [NAME], met ernstige stemmingswisselingen en suïcidale gedachten. Ondanks meerdere behandelingen lijkt hij niet te verbeteren. Zou het raadzaam zijn om een second opinion te vragen over zijn behandelingsplan en diagnostische evaluatie?;Mijn patiënt, [NAME], heeft een complexe persoonlijkheidsstoornis en heeft meerdere behandelaars gezien, maar blijft worstelen met interpersoonlijke problemen. Zou het nuttig zijn om een second opinion te krijgen over de benadering van haar persoonlijkheidsstoornis?;Een van mijn patiënten, [NAME], heeft een zeldzame psychische aandoening waarvoor gespecialiseerde expertise nodig is. Zou het verstandig zijn om een second opinion te overwegen om ervoor te zorgen dat we de best mogelijke behandeling bieden?;Ik behandel een vrouw, [NAME], met complexe trauma's en een ingewikkelde presentatie van dissociatieve symptomen. Zou het nuttig zijn om een second opinion te verkrijgen om haar case te evalueren en te bespreken welke behandelingsbenadering het meest geschikt is?;Mijn cliënt, [NAME], heeft een langdurige geschiedenis van eetstoornissen en heeft al verschillende behandelingsmodaliteiten geprobeerd zonder duurzaam herstel. Zou het raadzaam zijn om een second opinion te overwegen over haar behandelingsplan?;Een van mijn patiënten, [NAME], heeft een complexe comorbiditeit van psychische aandoeningen, waaronder depressie en verslaving. Hij heeft al meerdere behandelaars gezien, maar er is weinig vooruitgang geboekt. Zou het nuttig zijn om een second opinion te verkrijgen om zijn behandelingsaanpak te heroverwegen?;Ik zie een jonge man, [NAME], met een obsessieve-compulsieve stoornis (OCS) die resistent lijkt te zijn tegen standaardbehandelingen. Zou het verstandig zijn om een second opinion te vragen over zijn behandelingsplan en te onderzoeken welke alternatieve benaderingen kunnen worden overwogen?;Ik heb een patiënt, [NAME], die enige verbetering heeft laten zien in de behandeling van depressie, maar nu vastloopt in haar vooruitgang. Wat voor vervolgtherapie of interventies zou nuttig kunnen zijn om haar te helpen?;Mijn cliënt, [NAME], heeft cognitieve gedragstherapie ondergaan voor zijn angststoornis, maar blijft terugkeren naar oude gewoonten. Welke vervolgtherapieën kunnen overwogen worden om zijn angst beter te beheersen?;Een van mijn patiënten, [NAME], heeft met succes de behandeling voor haar verslaving afgerond, maar heeft nu moeite om nuchter te blijven. Wat zijn de aanbevolen vervolgtherapieën om haar te ondersteunen bij herstel en terugvalpreventie?;Ik behandel een man, [NAME], die heeft geprofiteerd van individuele therapie voor zijn depressie, maar nu behoefte heeft aan aanvullende ondersteuning. Wat voor vervolgtherapieën of groepsinterventies kunnen nuttig zijn?;Mijn patiënt, [NAME], heeft met succes dialectische gedragstherapie (DBT) gevolgd voor haar borderline persoonlijkheidsstoornis. Ze heeft nu behoefte aan verdere behandeling om haar emotionele regulatie te verbeteren. Wat zou een geschikte vervolgtherapie kunnen zijn?;Een van mijn patiënten, [NAME], heeft langdurig gewerkt aan zijn trauma's en dissociatieve symptomen, maar heeft nog steeds moeite met interpersoonlijke relaties. Welke vervolgtherapieën kunnen overwogen worden om zijn sociale functioneren te verbeteren?;Ik zie een vrouw, [NAME], die heeft deelgenomen aan groepstherapie voor haar eetstoornis, maar nu worstelt met terugval. Wat voor vervolgtherapieën kunnen overwogen worden om haar herstel te ondersteunen?;Mijn cliënt, [NAME], heeft cognitieve gedragstherapie gevolgd voor haar sociale angststoornis, maar heeft nog steeds moeite met sociale situaties. Wat voor vervolgtherapieën kunnen nuttig zijn om haar sociale vaardigheden verder te ontwikkelen?;Een van mijn patiënten, [NAME], heeft behandeling gezocht voor zijn depressie en verslaving en heeft baat gehad bij medicamenteuze behandeling. Wat voor vervolgtherapieën kunnen worden overwogen om zijn emotioneel welzijn en herstel te ondersteunen?;Ik behandel een jonge man, [NAME], met een obsessieve-compulsieve stoornis (OCS) die deels reageerde op medicamenteuze behandeling. Wat voor vervolgtherapieën kunnen worden over\n"
     ]
    }
   ],
   "source": [
    "# Mask annotations of FlairTagger\n",
    "from deidentify.util import mask_annotations\n",
    "\n",
    "masked_doc_flair = mask_annotations(first_doc_flair)\n",
    "print(masked_doc_flair.text)"
   ]
  },
  {
   "cell_type": "code",
   "execution_count": 6,
   "metadata": {},
   "outputs": [
    {
     "name": "stdout",
     "output_type": "stream",
     "text": [
      "                                               Values\n",
      "0   Dag. Graag vraag ik advies inzake het wel of n...\n",
      "1   betreft [NAME] van [AGE] die depressief is en ...\n",
      "2   Inmiddels 3x meneer gezien. Meneer Altijd voor...\n",
      "3   Ik zie een mevrouw ([NAME]) die in verleden ve...\n",
      "4   Goedemiddag, ik heb een patiënt, [NAME] genaam...\n",
      "..                                                ...\n",
      "85  Een van mijn patiënten, [NAME], heeft langduri...\n",
      "86  Ik zie een vrouw, [NAME], die heeft deelgenome...\n",
      "87  Mijn cliënt, [NAME], heeft cognitieve gedragst...\n",
      "88  Een van mijn patiënten, [NAME], heeft behandel...\n",
      "89  Ik behandel een jonge man, [NAME], met een obs...\n",
      "\n",
      "[90 rows x 1 columns]\n"
     ]
    }
   ],
   "source": [
    "# Split the input string into a list using semicolons as the delimiter\n",
    "values = masked_doc_flair.text.split(\";\")\n",
    "\n",
    "# Create a DataFrame with a single column named 'Values'\n",
    "flair_final = pd.DataFrame({'Values': values})\n",
    "\n",
    "# Print the DataFrame\n",
    "print(flair_final)"
   ]
  },
  {
   "cell_type": "markdown",
   "metadata": {},
   "source": [
    "### CRFTagger"
   ]
  },
  {
   "cell_type": "code",
   "execution_count": 7,
   "metadata": {},
   "outputs": [
    {
     "name": "stderr",
     "output_type": "stream",
     "text": [
      "\u001b[32m2023-12-21 14:32:50.939\u001b[0m | \u001b[1mINFO    \u001b[0m | \u001b[36mdeidentify.tokenizer.base\u001b[0m:\u001b[36mtokenizer\u001b[0m:\u001b[36m36\u001b[0m - \u001b[1mTokenizer for corpus: ons\u001b[0m\n",
      "\u001b[32m2023-12-21 14:32:50.943\u001b[0m | \u001b[1mINFO    \u001b[0m | \u001b[36mdeidentify.taggers.crf_tagger\u001b[0m:\u001b[36m__init__\u001b[0m:\u001b[36m21\u001b[0m - \u001b[1mLoad sklearn-crfsuite model from C:\\Users\\DonnaHsia\\.deidentify\\model_crf_ons_tuned-v0.2.0\\model.pickle\u001b[0m\n",
      "\u001b[32m2023-12-21 14:32:50.972\u001b[0m | \u001b[1mINFO    \u001b[0m | \u001b[36mdeidentify.taggers.crf_tagger\u001b[0m:\u001b[36m__init__\u001b[0m:\u001b[36m24\u001b[0m - \u001b[1mFinish loading crf model.\u001b[0m\n"
     ]
    }
   ],
   "source": [
    "# Wrap text in document\n",
    "documents_dummy = [\n",
    "    Document(name='doc_01', text=df_string)\n",
    "]\n",
    "\n",
    "# Select downloaded model\n",
    "model = 'model_crf_ons_tuned-v0.2.0'\n",
    "\n",
    "# Instantiate tokenizer\n",
    "tokenizer = TokenizerFactory().tokenizer(corpus='ons', disable=(\"tagger\", \"ner\"))\n",
    "\n",
    "# Load tagger with a downloaded model file and tokenizer\n",
    "tagger = CRFTagger(model=model, tokenizer=tokenizer, verbose=False)\n",
    "\n",
    "# Annotate your documents\n",
    "annotated_docs_crf = tagger.annotate(documents_dummy)"
   ]
  },
  {
   "cell_type": "code",
   "execution_count": 8,
   "metadata": {},
   "outputs": [
    {
     "name": "stdout",
     "output_type": "stream",
     "text": [
      "[Annotation(text='Aidan', start=73, end=78, tag='Name', doc_id='', ann_id='T0'),\n",
      " Annotation(text='Aidan', start=309, end=314, tag='Name', doc_id='', ann_id='T1'),\n",
      " Annotation(text='18 jaar', start=690, end=697, tag='Age', doc_id='', ann_id='T2'),\n",
      " Annotation(text='Sandra', start=825, end=831, tag='Name', doc_id='', ann_id='T3'),\n",
      " Annotation(text='Anita', start=2058, end=2063, tag='Name', doc_id='', ann_id='T4'),\n",
      " Annotation(text='Jan', start=2684, end=2687, tag='Name', doc_id='', ann_id='T5'),\n",
      " Annotation(text='Jan', start=2981, end=2984, tag='Name', doc_id='', ann_id='T6'),\n",
      " Annotation(text='Emma', start=3015, end=3019, tag='Name', doc_id='', ann_id='T7'),\n",
      " Annotation(text='25-jarige', start=3025, end=3034, tag='Age', doc_id='', ann_id='T8'),\n",
      " Annotation(text='Lisa', start=3691, end=3695, tag='Name', doc_id='', ann_id='T9'),\n",
      " Annotation(text='Lisa', start=3859, end=3863, tag='Name', doc_id='', ann_id='T10'),\n",
      " Annotation(text='Lisa', start=3903, end=3907, tag='Name', doc_id='', ann_id='T11'),\n",
      " Annotation(text='Jansen', start=4009, end=4015, tag='Name', doc_id='', ann_id='T12'),\n",
      " Annotation(text='Sarah', start=4539, end=4544, tag='Name', doc_id='', ann_id='T13'),\n",
      " Annotation(text='Lucas', start=4784, end=4789, tag='Name', doc_id='', ann_id='T14'),\n",
      " Annotation(text='Martine', start=5037, end=5044, tag='Name', doc_id='', ann_id='T15'),\n",
      " Annotation(text='Tim', start=5310, end=5313, tag='Name', doc_id='', ann_id='T16'),\n",
      " Annotation(text='Tim', start=5458, end=5461, tag='Name', doc_id='', ann_id='T17'),\n",
      " Annotation(text='Lisa', start=5572, end=5576, tag='Name', doc_id='', ann_id='T18'),\n",
      " Annotation(text='Robert', start=5857, end=5863, tag='Name', doc_id='', ann_id='T19'),\n",
      " Annotation(text='Martin', start=6439, end=6445, tag='Name', doc_id='', ann_id='T20'),\n",
      " Annotation(text='Martin', start=6550, end=6556, tag='Name', doc_id='', ann_id='T21'),\n",
      " Annotation(text='Laura', start=6670, end=6675, tag='Name', doc_id='', ann_id='T22'),\n",
      " Annotation(text='Johan', start=6948, end=6953, tag='Name', doc_id='', ann_id='T23'),\n",
      " Annotation(text='Marieke', start=7234, end=7241, tag='Name', doc_id='', ann_id='T24'),\n",
      " Annotation(text='Jasper', start=7504, end=7510, tag='Name', doc_id='', ann_id='T25'),\n",
      " Annotation(text='Kim', start=7785, end=7788, tag='Name', doc_id='', ann_id='T26'),\n",
      " Annotation(text='David', start=8081, end=8086, tag='Name', doc_id='', ann_id='T27'),\n",
      " Annotation(text='David', start=8272, end=8277, tag='Name', doc_id='', ann_id='T28'),\n",
      " Annotation(text='Laura', start=8385, end=8390, tag='Name', doc_id='', ann_id='T29'),\n",
      " Annotation(text='Laura', start=8472, end=8477, tag='Name', doc_id='', ann_id='T30'),\n",
      " Annotation(text='30-jarige', start=8864, end=8873, tag='Age', doc_id='', ann_id='T31'),\n",
      " Annotation(text='Thomas', start=9180, end=9186, tag='Name', doc_id='', ann_id='T32'),\n",
      " Annotation(text='25-jarige', start=9247, end=9256, tag='Age', doc_id='', ann_id='T33'),\n",
      " Annotation(text='Mark', start=9262, end=9266, tag='Name', doc_id='', ann_id='T34'),\n",
      " Annotation(text='Mark', start=9475, end=9479, tag='Name', doc_id='', ann_id='T35'),\n",
      " Annotation(text='Anna', start=9657, end=9661, tag='Name', doc_id='', ann_id='T36'),\n",
      " Annotation(text='28-jarige', start=9670, end=9679, tag='Age', doc_id='', ann_id='T37'),\n",
      " Annotation(text='Anna', start=9892, end=9896, tag='Name', doc_id='', ann_id='T38'),\n",
      " Annotation(text='Frank', start=10070, end=10075, tag='Name', doc_id='', ann_id='T39'),\n",
      " Annotation(text='Frank', start=10189, end=10194, tag='Name', doc_id='', ann_id='T40'),\n",
      " Annotation(text='Frank', start=10366, end=10371, tag='Name', doc_id='', ann_id='T41'),\n",
      " Annotation(text='Lisa', start=10497, end=10501, tag='Name', doc_id='', ann_id='T42'),\n",
      " Annotation(text='Lisa', start=10770, end=10774, tag='Name', doc_id='', ann_id='T43'),\n",
      " Annotation(text='Lucas', start=10874, end=10879, tag='Name', doc_id='', ann_id='T44'),\n",
      " Annotation(text='Lucas', start=11155, end=11160, tag='Name', doc_id='', ann_id='T45'),\n",
      " Annotation(text='Erik', start=11601, end=11605, tag='Name', doc_id='', ann_id='T46'),\n",
      " Annotation(text='Erik', start=11896, end=11900, tag='Name', doc_id='', ann_id='T47'),\n",
      " Annotation(text='Hannah', start=11948, end=11954, tag='Name', doc_id='', ann_id='T48'),\n",
      " Annotation(text='Hannah', start=12127, end=12133, tag='Name', doc_id='', ann_id='T49'),\n",
      " Annotation(text='Jonas', start=12252, end=12257, tag='Name', doc_id='', ann_id='T50'),\n",
      " Annotation(text='Lisa', start=12637, end=12641, tag='Name', doc_id='', ann_id='T51'),\n",
      " Annotation(text='Lisa', start=12832, end=12836, tag='Name', doc_id='', ann_id='T52'),\n",
      " Annotation(text='Mark', start=13237, end=13241, tag='Name', doc_id='', ann_id='T53'),\n",
      " Annotation(text='40-jarige', start=13250, end=13259, tag='Age', doc_id='', ann_id='T54'),\n",
      " Annotation(text='Emma', start=13587, end=13591, tag='Name', doc_id='', ann_id='T55'),\n",
      " Annotation(text='Emma', start=13783, end=13787, tag='Name', doc_id='', ann_id='T56'),\n",
      " Annotation(text='25-jarige', start=13901, end=13910, tag='Age', doc_id='', ann_id='T57'),\n",
      " Annotation(text='Lisa', start=14228, end=14232, tag='Name', doc_id='', ann_id='T58'),\n",
      " Annotation(text='Lisa', start=14468, end=14472, tag='Name', doc_id='', ann_id='T59'),\n",
      " Annotation(text='Anna', start=14538, end=14542, tag='Name', doc_id='', ann_id='T60'),\n",
      " Annotation(text='Anna', start=14745, end=14749, tag='Name', doc_id='', ann_id='T61'),\n",
      " Annotation(text='Erik', start=14829, end=14833, tag='Name', doc_id='', ann_id='T62'),\n",
      " Annotation(text='Erik', start=15005, end=15009, tag='Name', doc_id='', ann_id='T63'),\n",
      " Annotation(text='Laura', start=15406, end=15411, tag='Name', doc_id='', ann_id='T64'),\n",
      " Annotation(text='Laura', start=15545, end=15550, tag='Name', doc_id='', ann_id='T65'),\n",
      " Annotation(text='Hannah', start=15666, end=15672, tag='Name', doc_id='', ann_id='T66'),\n",
      " Annotation(text='Hannah', start=15834, end=15840, tag='Name', doc_id='', ann_id='T67'),\n",
      " Annotation(text='Lucas', start=15979, end=15984, tag='Name', doc_id='', ann_id='T68'),\n",
      " Annotation(text='Lucas', start=16160, end=16165, tag='Name', doc_id='', ann_id='T69'),\n",
      " Annotation(text='Lisa', start=16239, end=16243, tag='Name', doc_id='', ann_id='T70'),\n",
      " Annotation(text='Lisa', start=16379, end=16383, tag='Name', doc_id='', ann_id='T71'),\n",
      " Annotation(text='Erik', start=16468, end=16472, tag='Name', doc_id='', ann_id='T72'),\n",
      " Annotation(text='Erik', start=16679, end=16683, tag='Name', doc_id='', ann_id='T73'),\n",
      " Annotation(text='Sarah', start=17040, end=17045, tag='Name', doc_id='', ann_id='T74'),\n",
      " Annotation(text='David', start=17230, end=17235, tag='Name', doc_id='', ann_id='T75'),\n",
      " Annotation(text='Lisa', start=17440, end=17444, tag='Name', doc_id='', ann_id='T76'),\n",
      " Annotation(text='Thomas', start=17637, end=17643, tag='Name', doc_id='', ann_id='T77'),\n",
      " Annotation(text='Emma', start=17835, end=17839, tag='Name', doc_id='', ann_id='T78'),\n",
      " Annotation(text='Robert', start=17996, end=18002, tag='Name', doc_id='', ann_id='T79'),\n",
      " Annotation(text='Marieke', start=18178, end=18185, tag='Name', doc_id='', ann_id='T80'),\n",
      " Annotation(text='Tim', start=18409, end=18412, tag='Name', doc_id='', ann_id='T81'),\n",
      " Annotation(text='Lucas', start=18603, end=18608, tag='Name', doc_id='', ann_id='T82'),\n",
      " Annotation(text='Anita', start=18786, end=18791, tag='Name', doc_id='', ann_id='T83'),\n",
      " Annotation(text='Sarah', start=19205, end=19210, tag='Name', doc_id='', ann_id='T84'),\n",
      " Annotation(text='Lisa', start=19420, end=19424, tag='Name', doc_id='', ann_id='T85'),\n",
      " Annotation(text='Martin', start=19608, end=19614, tag='Name', doc_id='', ann_id='T86'),\n",
      " Annotation(text='Laura', start=19786, end=19791, tag='Name', doc_id='', ann_id='T87'),\n",
      " Annotation(text='Robert', start=19954, end=19960, tag='Name', doc_id='', ann_id='T88'),\n",
      " Annotation(text='Tim', start=20350, end=20353, tag='Name', doc_id='', ann_id='T89'),\n",
      " Annotation(text='David', start=20482, end=20487, tag='Name', doc_id='', ann_id='T90'),\n",
      " Annotation(text='Anna', start=20684, end=20688, tag='Name', doc_id='', ann_id='T91'),\n",
      " Annotation(text='Petra', start=20925, end=20930, tag='Name', doc_id='', ann_id='T92'),\n",
      " Annotation(text='Marco', start=21219, end=21224, tag='Name', doc_id='', ann_id='T93'),\n",
      " Annotation(text='Lisa', start=21476, end=21480, tag='Name', doc_id='', ann_id='T94'),\n",
      " Annotation(text='Jasper', start=21766, end=21772, tag='Name', doc_id='', ann_id='T95'),\n",
      " Annotation(text='Emma', start=22016, end=22020, tag='Name', doc_id='', ann_id='T96'),\n",
      " Annotation(text='Lucas', start=22291, end=22296, tag='Name', doc_id='', ann_id='T97'),\n",
      " Annotation(text='Lisa', start=22532, end=22536, tag='Name', doc_id='', ann_id='T98'),\n",
      " Annotation(text='Anna', start=22784, end=22788, tag='Name', doc_id='', ann_id='T99'),\n",
      " Annotation(text='Frank', start=23039, end=23044, tag='Name', doc_id='', ann_id='T100'),\n",
      " Annotation(text='Tim', start=23347, end=23350, tag='Name', doc_id='', ann_id='T101'),\n",
      " Annotation(text='Petra', start=23634, end=23639, tag='Name', doc_id='', ann_id='T102'),\n",
      " Annotation(text='Marco', start=23848, end=23853, tag='Name', doc_id='', ann_id='T103'),\n",
      " Annotation(text='Lisa', start=24073, end=24077, tag='Name', doc_id='', ann_id='T104'),\n",
      " Annotation(text='Thomas', start=24306, end=24312, tag='Name', doc_id='', ann_id='T105'),\n",
      " Annotation(text='Emma', start=24520, end=24524, tag='Name', doc_id='', ann_id='T106'),\n",
      " Annotation(text='Lucas', start=24797, end=24802, tag='Name', doc_id='', ann_id='T107'),\n",
      " Annotation(text='Lisa', start=25045, end=25049, tag='Name', doc_id='', ann_id='T108'),\n",
      " Annotation(text='Anna', start=25243, end=25247, tag='Name', doc_id='', ann_id='T109'),\n",
      " Annotation(text='Frank', start=25497, end=25502, tag='Name', doc_id='', ann_id='T110'),\n",
      " Annotation(text='Tim', start=25749, end=25752, tag='Name', doc_id='', ann_id='T111')]\n"
     ]
    }
   ],
   "source": [
    "# Annotation results of CRFTagger\n",
    "from pprint import pprint\n",
    "\n",
    "first_doc_crf = annotated_docs_crf[0]\n",
    "pprint(first_doc_crf.annotations)"
   ]
  },
  {
   "cell_type": "code",
   "execution_count": 9,
   "metadata": {},
   "outputs": [
    {
     "name": "stdout",
     "output_type": "stream",
     "text": [
      "Dag. Graag vraag ik advies inzake het wel of niet starten met medicatie? [NAME] vertelt : gaat niet lekker, bekend met bipolaire stoornis, vorig jaar periode wat hypomaan in augustus, toen tijdelijk rivotril gebruikt, nu juist angstig, emotioneel en somberder, trigger is wss Lars die naar verzorginshuis is, ([NAME] en heeft er moeite mee dat de cultuur in Nederland anders is tav opvang van ouderen) speelt nu op sinds 1,5 mnd en wordt langzaam erger, soms ook boos, intensere emoties, post-partum begeleiding gehad, maar wilde toen niet met lithium beginnen en is zonder medicatie goed gegaan. Tevens hypothyreoidie waarvoor medicatie. Alvast bedankt voor het meedenken. ;betreft Bart van [AGE] die depressief is en gedachten heeft op het spoor te gaan staan.volgens de huisarts geen crisis. Bart is afgewezen bij Centiv. [NAME] wil graag overleg.;Inmiddels 3x meneer gezien. Meneer Altijd voornamelijk bezig geweest met werk, nu meer zoekende naar momenten die rust en ontspanning geven.Relatieproblematiek mede door problemen in emotie regulatie bij verwerken van seksualiteit en intiem contact is belemmerend voor meneer geen effect. Beschrijft meneer als iemand die lomp is en zegt waar het op staat. Loopt met name in relatie en in contact met werknemer tegen problemen aan. Vrienden en kennissen nemen meneer zoals meneer is, hij Inmiddels 3 consulten gevoerd. hij is steeds meer open. Emoties tonen gaat moeizaam, vecht er tegen. Wil aan de slag met emotie regulatie, daarnaast weer rust in hoofd ervaren.Nooit eerder in contact geweest binnen GGZ. Verwachting mogelijk problematiek in persoonlijkheid, is ook beeld vanuit betrokken huisarts. hij omschrijft mogelijk hechtingsproblematiek. hij laat in consulten weinig los over kind- en jeugdjaren. Vraagt om rustgevende medicatie. Begrijpt noodzaak om eerst meer context te kunnen schetsen. Verzoek om deze patient, evt. in samenwerking, te zien om verder beleid passend te kunnen vaststellen. Beoordelen of het past binnen SGGZ of juist beter voorliggend opgepakt kan worden.;Ik zie een mevrouw ([NAME]) die in verleden verslaving heeft gehad aan GHB en alcohol. Is ook bij jullie in behandeling geweest hiervoor. Van GHB gbruik is geen sprake meer wel nog van alcoholgebruik. Ze drinkt in het weekend met uitgaan. Stoppen hiermee is geen optie. Merkt dat mevrouw door de week toch zucht krijgt. Onlangs een lif event meegemaakt (overlijden vader) haar vraag is of er anti zucht medicatie is die xx kan stoppen en dan toch kan drinken in het weekend. Mevrouw zou hier graag over willen spreken met een verslavingsarts. Is het mogelijk om hiervoor  bij u een eenmalig consult aan te vragen?;Goedemiddag, ik heb een patiënt, [NAME] genaamd, met chronische rugpijn die moeilijk te behandelen lijkt. Hij heeft al verschillende therapieën en medicijnen geprobeerd, maar niets lijkt te helpen. Zijn levenskwaliteit lijdt hier erg onder. Kunnen we een overleg plannen om te bespreken welke verdere stappen we kunnen ondernemen om [NAME] te helpen?;Ik heb een cliënt, [NAME], een [AGE] vrouw met anorexia nervosa. Ze weigert op dit moment alle vormen van behandeling en haar toestand verslechtert snel. Ik maak me grote zorgen om haar gezondheid en wil graag overleggen over mogelijke interventies om haar te stabiliseren en in behandeling te krijgen. Wat raadt u aan?;Ik heb een patiënt, meneer de Vries, die al enige tijd last heeft van ernstige slaapproblemen. Hij heeft al verschillende slaapmedicijnen geprobeerd, maar niets lijkt te werken. Zijn vermoeidheid heeft een negatieve invloed op zijn dagelijks leven en werkprestaties. Wat zijn de mogelijke oorzaken en behandelopties voor zijn aanhoudende slaapproblemen?;Ik zie een tiener, [NAME] genaamd, die de laatste maanden steeds teruggetrokken is en weigert naar school te gaan. Haar ouders maken zich zorgen dat er sprake is van pesten op school, maar [NAME] vertelt hier niets over. Hoe kunnen we [NAME] helpen om haar problemen te bespreken en te achterhalen wat er aan de hand is?;Mijn patiënt, mevrouw [NAME], heeft onlangs een traumatische gebeurtenis meegemaakt en vertoont nu tekenen van acute stressstoornis. Ik wil weten welke behandelingsopties beschikbaar zijn en hoe we haar zo snel mogelijk kunnen ondersteunen in haar herstelproces.;Ik zie een patiënt, Jeroen, met een langdurige geschiedenis van depressie en angststoornissen. Zijn huidige medicatie lijkt niet voldoende te werken en hij meldt terugkerende suïcidale gedachten. Welke behandelopties kunnen we overwegen om zijn symptomen beter te beheersen?;Mijn patiënt, [NAME], worstelt met ernstige alcoholverslaving en heeft meerdere mislukte pogingen gedaan om te stoppen. Wat zijn de meest effectieve behandelingsbenaderingen voor haar alcoholprobleem, inclusief medicamenteuze ondersteuning?;Ik heb een cliënt, [NAME], die lijdt aan posttraumatische stressstoornis (PTSS) en nachtmerries heeft die zijn slaap verstoren. Welke interventies en therapieën kunnen helpen bij het verminderen van de nachtmerries en het verbeteren van zijn slaap?;Een van mijn patiënten, [NAME], heeft last van terugkerende paniekaanvallen die haar dagelijkse leven verstoren. Ze wil graag praten over medicatieopties om de frequentie en intensiteit van haar paniekaanvallen te verminderen. Welke medicijnen kunnen worden overwogen?;Ik behandel een jonge man, [NAME], die worstelt met gokverslaving en financiële problemen heeft als gevolg van zijn verslaving. Wat zijn de beschikbare bronnen en programma's om [NAME] te ondersteunen bij het aanpakken van zijn gokprobleem en het beheren van zijn financiën?;Ik heb een patiënt, [NAME], met een geschiedenis van eetstoornissen, die na een periode van stabiliteit weer terugvalt in haar oude patroon van restrictief eten en overmatige lichaamsbeweging. Wat zijn de aanbevolen behandelingsstrategieën voor herstel en hoe kunnen we de terugval voorkomen?;Mijn patiënt, [NAME], heeft last van ernstige obsessieve-compulsieve symptomen die zijn dagelijkse leven sterk beïnvloeden. Hij heeft al verschillende vormen van cognitieve gedragstherapie ondergaan, maar er is weinig verbetering. Welke andere behandelingsmogelijkheden zijn er voor OCD?;Ik behandel een jonge vrouw, Sophie, die worstelt met zelfbeschadigend gedrag en suïcidale gedachten heeft. Haar familie maakt zich ernstig zorgen. Wat zijn de dringende interventies die we moeten overwegen om Sophie in veiligheid te brengen en haar mentale gezondheid te verbeteren?;Een van mijn patiënten, [NAME], lijkt te lijden aan een gokverslaving en heeft aanzienlijke schulden opgebouwd. Wat zijn de stappen om [NAME] te helpen bij het beheren van zijn verslaving en het aanpakken van zijn financiële problemen?;Ik zie een tiener, [NAME], die ernstige stemmingswisselingen en episodes van zelfbeschadiging vertoont. Haar ouders hebben moeite om met haar om te gaan. Wat zijn de mogelijke behandelingsbenaderingen voor deze complexe situatie, inclusief de rol van familie-interventies?;Ik behandel een patiënt, [NAME], met een obsessie voor bizarre complottheorieën die zijn dagelijkse leven verstoren. Zijn familie maakt zich zorgen over zijn geestelijke gezondheid. Hoe kunnen we effectief omgaan met zijn overtuigingen en hem helpen bij het verbeteren van zijn psychische welzijn?;Mijn patiënt, [NAME], ervaart intense emotionele fluctuaties die lijken samen te vallen met de fasen van de maan. Ze is ervan overtuigd dat de maan invloed heeft op haar stemming. Hoe kunnen we haar overtuigingen adresseren en haar symptomen behandelen?;Ik zie een jonge volwassene, [NAME], die beweert dat hij telepathische communicatie heeft met buitenaardse wezens. Hij zegt dat deze ervaringen hem angstig maken en zijn dagelijks functioneren verstoren. Wat zijn de behandelingsmogelijkheden voor dit soort ervaringen en overtuigingen?;Een van mijn patiënten, [NAME], heeft een ernstige verslaving aan online gaming en besteedt dagelijks meerdere uren aan gamen. Haar schoolprestaties lijden hieronder. Wat zijn de specifieke interventies om haar te helpen bij het beheersen van deze verslaving en haar academische doelen te bereiken?;Ik behandel een cliënt, [NAME], die zichzelf beschouwt als een 'workaholic' en obsessief streeft naar professioneel succes. Hij lijkt te lijden onder burn-outsymptomen, maar weigert hulp te aanvaarden. Hoe kunnen we [NAME] bewegen tot zelfreflectie en behandeling voor zijn overmatige werkgedrag?;Ik behandel een 40-jarige vrouw, [NAME], met een geschiedenis van complexe trauma's en ernstige dissociatieve symptomen. [NAME] heeft onlangs gemeld dat ze episoden van verlies van bewustzijn ervaart waarin ze zichzelf buiten haar lichaam ziet en de wereld om haar heen anders ervaart. Deze ervaringen veroorzaken haar angst en verstoren haar dagelijkse leven. Wat zijn de diagnostische overwegingen en mogelijke behandelingen voor deze complexe presentatie van dissociatie bij Laura?;Mijn patiënt, Thomas, is een [AGE] man die lijdt aan een obsessieve-compulsieve stoornis (OCS) en tegelijkertijd een ernstige fobie voor vuil en bacteriën heeft ontwikkeld. Hij besteedt uren per dag aan rituelen om zijn angst onder controle te houden en isoleert zichzelf steeds meer. Welke geïntegreerde behandelingsaanpak raadt u aan voor [NAME], rekening houdend met zowel de OCS als de fobie?;Ik zie een [AGE] man, [NAME], die een patroon van excessief alcoholgebruik heeft ontwikkeld om met sociale angst en verlegenheid om te gaan. Zijn alcoholgebruik begint zijn professionele en persoonlijke leven te verstoren. Hoe kunnen we [NAME] helpen om zijn sociale angst aan te pakken zonder terug te vallen in alcoholgebruik, en welke behandelingsmodaliteiten zijn het meest geschikt voor hem?;Een van mijn patiënten, [NAME], is een [AGE] vrouw met eetbuien en braken. Ze heeft verschillende mislukte pogingen gedaan om te stoppen, maar blijft terugvallen in deze cyclus. Haar eetstoornis heeft geleid tot ernstige gezondheidsproblemen. Hoe kunnen we [NAME] ondersteunen bij het doorbreken van deze destructieve gewoonten en haar fysieke en mentale gezondheid herstellen?;Ik ben betrokken bij de behandeling van een 45-jarige man, [NAME], met een complexe geschiedenis van emotionele verwaarlozing in de kindertijd en langdurige depressieve episoden. [NAME] heeft moeite met het aangaan van emotionele relaties en blijft terugvallen in isolatie. Wat zijn de benaderingen voor trauma-geïnformeerde zorg die we kunnen toepassen om [NAME] te helpen bij het verwerken van zijn verleden en het ontwikkelen van gezondere interpersoonlijke vaardigheden?;Mijn patiënt, [NAME], is een 22-jarige vrouw met anorexia nervosa die in een vroeg stadium van herstel is. Ze is vastbesloten om gezond te worden, maar haar ouders maken zich zorgen over haar voedselinname en gewichtsherstel. Hoe kunnen we een evenwicht vinden tussen het ondersteunen van [NAME] bij haar herstel en het betrekken van haar ouders in het behandelproces?;Ik zie een 35-jarige man, [NAME], die kampt met een complexe persoonlijkheidsstoornis en frequent suïcidale gedachten heeft. Hij heeft meerdere ziekenhuisopnames achter de rug en heeft een geschiedenis van onverwachte uitval uit behandelingen. Wat zijn de opties voor langdurige zorg en crisispreventie voor [NAME], rekening houdend met de complexiteit van zijn presentatie?;Een van mijn patiënten, Eva, heeft een langdurige geschiedenis van gokverslaving en heeft onlangs een aanzienlijke schuld opgebouwd. Ze staat op het punt haar huis te verliezen. Hoe kunnen we Eva ondersteunen bij het aanpakken van haar verslaving en het omgaan met de financiële gevolgen, en welke externe bronnen kunnen we inschakelen om haar te helpen?;Ik behandel een patiënt, [NAME], die lijdt aan een ongebruikelijke fobie voor knuffelberen. Zijn angst voor deze kinderspeelgoedbeesten heeft zijn sociale leven ernstig beïnvloed en hij vermijdt plaatsen waar knuffelberen aanwezig kunnen zijn. Wat zijn de behandelingsstrategieën voor deze ongewone fobie en hoe kunnen we [NAME] helpen zijn angst te overwinnen?;Mijn patiënt, [NAME], heeft een buitengewone angst voor cijfer 8. Ze vermijdt activiteiten of situaties waarbij dit cijfer betrokken is en ervaart ernstige angst als ze het ziet. Hoe kunnen we [NAME] helpen om te gaan met deze fobie en haar dagelijkse leven zonder belemmeringen voort te zetten?;Ik zie een jonge man, [NAME], die lijdt aan een fobie voor ballonnen. Zijn angst voor knallende ballonnen heeft geleid tot sociale isolatie en paniekaanvallen in situaties waarin ballonnen aanwezig zijn, zoals feestjes en evenementen. Welke behandelingsbenaderingen zijn geschikt voor het omgaan met deze ongebruikelijke fobie en hoe kunnen we Jonas helpen zijn angsten te beheersen?;Een van mijn patiënten, [NAME], heeft een irrationele angst voor kippenveren. Deze fobie belemmert haar in het bezoeken van boerderijen, stranden en andere plaatsen waar veren kunnen voorkomen. Wat zijn de strategieën om [NAME] te helpen bij het omgaan met deze ongebruikelijke fobie en haar angst te verminderen?;Ik heb een cliënt, Sophie, een 30-jarige vrouw met een geschiedenis van zelfverwonding en suïcidale gedachten. Ze heeft onlangs aangegeven dat ze een \"stem\" hoort die haar vertelt zichzelf pijn te doen. Hoe kunnen we Sophie evalueren en behandelen, rekening houdend met deze auditieve hallucinaties?;Mijn patiënt, [NAME], is een [AGE] man met een obsessieve interesse in buitenaardse ontvoeringen. Hij beweert dat hij herhaaldelijk is ontvoerd door buitenaardse wezens en lijdt aan ernstige angst en slapeloosheid als gevolg hiervan. Welke behandelingsstrategieën kunnen we overwegen voor zijn ongebruikelijke overtuigingen en angstsymptomen?;Ik zie een tiener, [NAME], die zichzelf beschouwt als een \"hooggevoelig\" persoon en beweert boodschappen te ontvangen van overleden familieleden. Haar ervaringen lijken haar angstig en verward te maken. Hoe kunnen we [NAME] ondersteunen bij het begrijpen en omgaan met haar paranormale ervaringen?;Een van mijn patiënten, Thomas, is een [AGE] man met een obsessie voor het einde van de wereld. Hij besteedt veel tijd aan het bestuderen van complottheorieën over apocalyptische gebeurtenissen en dit veroorzaakt hem aanzienlijke angst. Welke benaderingen kunnen we gebruiken om zijn obsessieve gedachten te verminderen en zijn angst te beheersen?;Mijn patiënt, [NAME], heeft een ongebruikelijke angst voor ballonnen die zijn gevuld met heliumgas. Ze vermijdt feestjes en evenementen waar dergelijke ballonnen aanwezig zijn, vanwege haar angst voor hun gedrag wanneer ze losgelaten worden. Hoe kunnen we [NAME] helpen omgaan met deze specifieke fobie?;Ik zie een jonge vrouw, [NAME], die bang is voor de kleur rood. Ze vermijdt rode kleding, objecten en zelfs voedingsmiddelen met een rode kleur. Dit belemmert haar dagelijkse leven en relaties. Wat zijn de aanbevolen benaderingen om [NAME] te helpen bij het omgaan met haar ongewone kleurfobie?;Een van mijn patiënten, [NAME], heeft een intense angst voor tunnels en vermijdt situaties waarin hij door tunnels moet reizen. Dit beperkt zijn mobiliteit en veroorzaakt angst en paniek. Hoe kunnen we [NAME] helpen bij het overwinnen van zijn tunnelangst en weer normaal te functioneren?;Mijn patiënt, Jonas, heeft een irrationele angst voor de geur van bloemen. Hij ervaart intense angst en vermijdt plaatsen waar bloemen aanwezig zijn, zoals parken en bloemenwinkels. Wat zijn de aanbevolen strategieën om Jonas te ondersteunen bij het omgaan met deze ongebruikelijke geurangst?;Ik behandel een vrouw, [NAME], die een intense angst heeft ontwikkeld voor de letter \"A\". Ze vermijdt woorden en situaties die deze letter bevatten. Hoe kunnen we [NAME] helpen bij het omgaan met haar specifieke letterfobie en haar dagelijkse leven verbeteren?;Een van mijn patiënten, [NAME], heeft een buitengewone angst voor stofzuigers. Ze vermijdt het gebruik van stofzuigers en wordt angstig in de buurt van anderen die ze gebruiken. Hoe kunnen we [NAME] helpen om haar angst voor stofzuigers te verminderen en haar dagelijkse leven zonder belemmeringen voort te zetten?;Ik zie een jonge man, [NAME], die een intense angst heeft ontwikkeld voor het geluid van fluitende vogels. Hij vermijdt parken en natuurgebieden vanwege deze angst. Wat zijn de aanbevolen benaderingen om [NAME] te helpen bij het omgaan met zijn specifieke geluidsfobie?;Mijn patiënt, [NAME], heeft een ongebruikelijke angst voor de kleur groen. Ze vermijdt groene objecten en zelfs voedsel met een groene kleur. Hoe kunnen we [NAME] ondersteunen bij het omgaan met deze specifieke kleurfobie?;Een van mijn patiënten, [NAME], heeft een ongebruikelijke angst voor de vorm van cirkels. Hij vermijdt situaties waarin cirkelvormige objecten aanwezig zijn en ervaart intense angst als hij ze ziet. Wat zijn de aanbevolen strategieën om [NAME] te helpen bij het omgaan met deze specifieke vormfobie?;Ik behandel een vrouw, Jonas, die een intense angst heeft ontwikkeld voor de geur van pas gemaaid gras. Ze vermijdt grasvelden en tuinen vanwege deze angst. Hoe kunnen we Jonas helpen om haar geurangst te verminderen en haar dagelijkse leven zonder belemmeringen voort te zetten?;Ik heb een patiënt, [NAME], met ernstige depressieve symptomen, waaronder aanhoudende somberheid en slaapproblemen. Welke medicatieopties kunnen we overwegen voor de behandeling van haar depressie?;Mijn cliënt, [NAME], lijdt aan sociale angststoornis en ervaart ernstige angst en vermijdingsgedrag in sociale situaties. Welke medicijnen zijn geschikt voor de behandeling van sociale angststoornis?;Een van mijn patiënten, [NAME], heeft een gegeneraliseerde angststoornis en ervaart chronische zorgen en angst. Wat zijn de aanbevolen medicijnen voor de behandeling van gegeneraliseerde angststoornis?;Ik behandel een man, [NAME], met obsessieve-compulsieve stoornis (OCS) en zijn symptomen reageren niet goed op eerdere behandelingen. Welke medicatieopties kunnen we overwegen voor de behandeling van OCS?;Mijn patiënt, [NAME], lijdt aan paniekstoornis en ervaart terugkerende paniekaanvallen. Welke medicijnen kunnen helpen bij de behandeling van paniekstoornis?;Ik zie een cliënt, [NAME], met posttraumatische stressstoornis (PTSS) en ernstige nachtmerries. Welke medicatie kan worden overwogen om de nachtmerries te verminderen bij PTSS?;Een van mijn patiënten, [NAME], heeft last van terugkerende paniekaanvallen die haar dagelijkse leven verstoren. Welke medicijnen kunnen worden overwogen om de frequentie en intensiteit van haar paniekaanvallen te verminderen?;Ik behandel een jonge man, [NAME], die worstelt met suïcidale gedachten als gevolg van ernstige depressie. Welke medicatieopties zijn geschikt voor de behandeling van ernstige depressie en suïcidale gedachten?;Mijn patiënt, [NAME], lijdt aan bipolaire stoornis en heeft last van manische episodes. Welke medicijnen kunnen worden overwogen om manieën te stabiliseren bij bipolaire stoornis?;Ik zie een vrouw, [NAME], met een voorgeschiedenis van alcoholverslaving en een terugval in alcoholgebruik. Welke medicatie kan worden overwogen om haar te helpen bij het verminderen van alcoholgebruik?;Een van mijn patiënten, Jeroen, heeft last van ernstige depressieve symptomen en suïcidale gedachten. Welke medicijnen kunnen worden overwogen voor de behandeling van ernstige depressie en suïcidale gedachten?;Ik behandel een patiënt, [NAME], met ernstige alcoholverslaving en meerdere mislukte pogingen om te stoppen met drinken. Welke medicijnen kunnen worden overwogen om haar te ondersteunen bij de behandeling van alcoholverslaving?;Mijn cliënt, [NAME], heeft last van eetstoornissen en ernstig gewichtsverlies. Welke medicijnen kunnen worden overwogen om haar te helpen bij het herstellen van haar eetstoornis?;Een van mijn patiënten, [NAME], lijdt aan gokverslaving en heeft aanzienlijke financiële problemen. Welke medicatieopties kunnen worden overwogen om zijn gokverslaving te behandelen?;Ik zie een tiener, [NAME], met ernstige stemmingswisselingen en suïcidale gedachten. Welke medicijnen kunnen worden overwogen voor de behandeling van haar stemmingsstoornis?;Mijn patiënt, [NAME], heeft last van obsessieve-compulsieve symptomen die zijn dagelijkse leven sterk beïnvloeden. Welke medicijnen kunnen worden overwogen voor de behandeling van OCD?;Een van mijn patiënten, Sophie, worstelt met zelfbeschadigend gedrag en suïcidale gedachten. Welke medicijnen kunnen worden overwogen om haar zelfbeschadiging en suïcidale gedachten te verminderen?;Ik behandel een jonge man, [NAME], met een verslaving aan online gaming. Welke medicijnen kunnen worden overwogen om zijn verslaving te behandelen?;Mijn patiënt, [NAME], lijdt aan een obsessieve interesse in werk en heeft last van burn-outsymptomen. Welke medicatieopties kunnen worden overwogen om zijn obsessieve werkgedrag te behandelen?;Een van mijn patiënten, [NAME], heeft een langdurige geschiedenis van complex trauma en ernstige dissociatieve symptomen. Welke medicijnen kunnen worden overwogen om haar dissociatieve symptomen te verminderen en haar behandeling te ondersteunen?;Ik heb een patiënt, [NAME], met een complexe presentatie van psychische symptomen, waaronder depressie, angst en een voorgeschiedenis van trauma. Ze heeft al meerdere behandelingen gehad, maar er is weinig verbetering. Zou het verstandig zijn om een second opinion te overwegen voor haar behandelplan?;Mijn cliënt, [NAME], heeft een langdurige geschiedenis van stemmingswisselingen en heeft al verschillende medicijnen geprobeerd zonder succes. Zou het nuttig zijn om een second opinion te verkrijgen over zijn medicatiekeuze en behandelingsaanpak?;Een van mijn patiënten, [NAME], heeft een ongebruikelijke presentatie van symptomen die moeilijk te diagnosticeren zijn. Ze heeft al meerdere specialisten gezien, maar er is nog steeds geen duidelijke diagnose. Zou het verstandig zijn om een second opinion te overwegen om haar case te evalueren?;Ik zie een tiener, [NAME], met ernstige stemmingswisselingen en suïcidale gedachten. Ondanks meerdere behandelingen lijkt hij niet te verbeteren. Zou het raadzaam zijn om een second opinion te vragen over zijn behandelingsplan en diagnostische evaluatie?;Mijn patiënt, [NAME], heeft een complexe persoonlijkheidsstoornis en heeft meerdere behandelaars gezien, maar blijft worstelen met interpersoonlijke problemen. Zou het nuttig zijn om een second opinion te krijgen over de benadering van haar persoonlijkheidsstoornis?;Een van mijn patiënten, [NAME], heeft een zeldzame psychische aandoening waarvoor gespecialiseerde expertise nodig is. Zou het verstandig zijn om een second opinion te overwegen om ervoor te zorgen dat we de best mogelijke behandeling bieden?;Ik behandel een vrouw, [NAME], met complexe trauma's en een ingewikkelde presentatie van dissociatieve symptomen. Zou het nuttig zijn om een second opinion te verkrijgen om haar case te evalueren en te bespreken welke behandelingsbenadering het meest geschikt is?;Mijn cliënt, [NAME], heeft een langdurige geschiedenis van eetstoornissen en heeft al verschillende behandelingsmodaliteiten geprobeerd zonder duurzaam herstel. Zou het raadzaam zijn om een second opinion te overwegen over haar behandelingsplan?;Een van mijn patiënten, [NAME], heeft een complexe comorbiditeit van psychische aandoeningen, waaronder depressie en verslaving. Hij heeft al meerdere behandelaars gezien, maar er is weinig vooruitgang geboekt. Zou het nuttig zijn om een second opinion te verkrijgen om zijn behandelingsaanpak te heroverwegen?;Ik zie een jonge man, [NAME], met een obsessieve-compulsieve stoornis (OCS) die resistent lijkt te zijn tegen standaardbehandelingen. Zou het verstandig zijn om een second opinion te vragen over zijn behandelingsplan en te onderzoeken welke alternatieve benaderingen kunnen worden overwogen?;Ik heb een patiënt, [NAME], die enige verbetering heeft laten zien in de behandeling van depressie, maar nu vastloopt in haar vooruitgang. Wat voor vervolgtherapie of interventies zou nuttig kunnen zijn om haar te helpen?;Mijn cliënt, [NAME], heeft cognitieve gedragstherapie ondergaan voor zijn angststoornis, maar blijft terugkeren naar oude gewoonten. Welke vervolgtherapieën kunnen overwogen worden om zijn angst beter te beheersen?;Een van mijn patiënten, [NAME], heeft met succes de behandeling voor haar verslaving afgerond, maar heeft nu moeite om nuchter te blijven. Wat zijn de aanbevolen vervolgtherapieën om haar te ondersteunen bij herstel en terugvalpreventie?;Ik behandel een man, [NAME], die heeft geprofiteerd van individuele therapie voor zijn depressie, maar nu behoefte heeft aan aanvullende ondersteuning. Wat voor vervolgtherapieën of groepsinterventies kunnen nuttig zijn?;Mijn patiënt, [NAME], heeft met succes dialectische gedragstherapie (DBT) gevolgd voor haar borderline persoonlijkheidsstoornis. Ze heeft nu behoefte aan verdere behandeling om haar emotionele regulatie te verbeteren. Wat zou een geschikte vervolgtherapie kunnen zijn?;Een van mijn patiënten, [NAME], heeft langdurig gewerkt aan zijn trauma's en dissociatieve symptomen, maar heeft nog steeds moeite met interpersoonlijke relaties. Welke vervolgtherapieën kunnen overwogen worden om zijn sociale functioneren te verbeteren?;Ik zie een vrouw, [NAME], die heeft deelgenomen aan groepstherapie voor haar eetstoornis, maar nu worstelt met terugval. Wat voor vervolgtherapieën kunnen overwogen worden om haar herstel te ondersteunen?;Mijn cliënt, [NAME], heeft cognitieve gedragstherapie gevolgd voor haar sociale angststoornis, maar heeft nog steeds moeite met sociale situaties. Wat voor vervolgtherapieën kunnen nuttig zijn om haar sociale vaardigheden verder te ontwikkelen?;Een van mijn patiënten, [NAME], heeft behandeling gezocht voor zijn depressie en verslaving en heeft baat gehad bij medicamenteuze behandeling. Wat voor vervolgtherapieën kunnen worden overwogen om zijn emotioneel welzijn en herstel te ondersteunen?;Ik behandel een jonge man, [NAME], met een obsessieve-compulsieve stoornis (OCS) die deels reageerde op medicamenteuze behandeling. Wat voor vervolgtherapieën kunnen worden over\n"
     ]
    }
   ],
   "source": [
    "# Mask annotations of CRFTagger\n",
    "from deidentify.util import mask_annotations\n",
    "\n",
    "masked_doc_crf = mask_annotations(first_doc_crf)\n",
    "print(masked_doc_crf.text)"
   ]
  },
  {
   "cell_type": "code",
   "execution_count": 10,
   "metadata": {},
   "outputs": [
    {
     "name": "stdout",
     "output_type": "stream",
     "text": [
      "                                               Values\n",
      "0   Dag. Graag vraag ik advies inzake het wel of n...\n",
      "1   betreft Bart van [AGE] die depressief is en ge...\n",
      "2   Inmiddels 3x meneer gezien. Meneer Altijd voor...\n",
      "3   Ik zie een mevrouw ([NAME]) die in verleden ve...\n",
      "4   Goedemiddag, ik heb een patiënt, [NAME] genaam...\n",
      "..                                                ...\n",
      "85  Een van mijn patiënten, [NAME], heeft langduri...\n",
      "86  Ik zie een vrouw, [NAME], die heeft deelgenome...\n",
      "87  Mijn cliënt, [NAME], heeft cognitieve gedragst...\n",
      "88  Een van mijn patiënten, [NAME], heeft behandel...\n",
      "89  Ik behandel een jonge man, [NAME], met een obs...\n",
      "\n",
      "[90 rows x 1 columns]\n"
     ]
    }
   ],
   "source": [
    "# Split the input string into a list using semicolons as the delimiter\n",
    "values = masked_doc_crf.text.split(\";\")\n",
    "\n",
    "# Create a DataFrame with a single column named 'Values'\n",
    "crf_final = pd.DataFrame({'Values': values})\n",
    "\n",
    "# Print the DataFrame\n",
    "print(crf_final)"
   ]
  },
  {
   "cell_type": "markdown",
   "metadata": {},
   "source": [
    "### DeduceTagger"
   ]
  },
  {
   "cell_type": "code",
   "execution_count": 11,
   "metadata": {},
   "outputs": [],
   "source": [
    "# Wrap text in document\n",
    "documents_dummy = [\n",
    "    Document(name='doc_01', text=df_string)\n",
    "]\n",
    "\n",
    "# Load tagger with a downloaded model file and tokenizer\n",
    "tagger = DeduceTagger(verbose=False)\n",
    "\n",
    "# Annotate your documents\n",
    "annotated_docs_deduce = tagger.annotate(documents_dummy)"
   ]
  },
  {
   "cell_type": "code",
   "execution_count": 12,
   "metadata": {},
   "outputs": [
    {
     "name": "stdout",
     "output_type": "stream",
     "text": [
      "[Annotation(text='Dag', start=0, end=3, tag='Name', doc_id='', ann_id='T0'),\n",
      " Annotation(text='Aidan', start=73, end=78, tag='Name', doc_id='', ann_id='T1'),\n",
      " Annotation(text='Lars', start=275, end=279, tag='Name', doc_id='', ann_id='T2'),\n",
      " Annotation(text='Aidan', start=309, end=314, tag='Name', doc_id='', ann_id='T3'),\n",
      " Annotation(text='Nederland', start=356, end=365, tag='Address', doc_id='', ann_id='T4'),\n",
      " Annotation(text='Bart', start=681, end=685, tag='Name', doc_id='', ann_id='T5'),\n",
      " Annotation(text='18', start=690, end=692, tag='Age', doc_id='', ann_id='T6'),\n",
      " Annotation(text='Bart', start=795, end=799, tag='Name', doc_id='', ann_id='T7'),\n",
      " Annotation(text='Sandra', start=825, end=831, tag='Name', doc_id='', ann_id='T8'),\n",
      " Annotation(text='ouw (Anita', start=2053, end=2063, tag='Name', doc_id='', ann_id='T9'),\n",
      " Annotation(text='Jan', start=2684, end=2687, tag='Name', doc_id='', ann_id='T10'),\n",
      " Annotation(text='Jan', start=2981, end=2984, tag='Name', doc_id='', ann_id='T11'),\n",
      " Annotation(text='Emma', start=3015, end=3019, tag='Name', doc_id='', ann_id='T12'),\n",
      " Annotation(text='25', start=3025, end=3027, tag='Age', doc_id='', ann_id='T13'),\n",
      " Annotation(text='de Vries', start=3345, end=3353, tag='Name', doc_id='', ann_id='T14'),\n",
      " Annotation(text='Lisa', start=3691, end=3695, tag='Name', doc_id='', ann_id='T15'),\n",
      " Annotation(text='Lisa', start=3859, end=3863, tag='Name', doc_id='', ann_id='T16'),\n",
      " Annotation(text='Lisa', start=3903, end=3907, tag='Name', doc_id='', ann_id='T17'),\n",
      " Annotation(text='ouw Jansen', start=4005, end=4015, tag='Name', doc_id='', ann_id='T18'),\n",
      " Annotation(text='Jeroen', start=4270, end=4276, tag='Name', doc_id='', ann_id='T19'),\n",
      " Annotation(text='Sarah', start=4539, end=4544, tag='Name', doc_id='', ann_id='T20'),\n",
      " Annotation(text='Lucas', start=4784, end=4789, tag='Name', doc_id='', ann_id='T21'),\n",
      " Annotation(text='Martine', start=5037, end=5044, tag='Name', doc_id='', ann_id='T22'),\n",
      " Annotation(text='Tim', start=5310, end=5313, tag='Name', doc_id='', ann_id='T23'),\n",
      " Annotation(text='Tim', start=5458, end=5461, tag='Name', doc_id='', ann_id='T24'),\n",
      " Annotation(text='Lisa', start=5572, end=5576, tag='Name', doc_id='', ann_id='T25'),\n",
      " Annotation(text='Robert', start=5857, end=5863, tag='Name', doc_id='', ann_id='T26'),\n",
      " Annotation(text='Sophie', start=6160, end=6166, tag='Name', doc_id='', ann_id='T27'),\n",
      " Annotation(text='Sophie', start=6341, end=6347, tag='Name', doc_id='', ann_id='T28'),\n",
      " Annotation(text='Martin', start=6439, end=6445, tag='Name', doc_id='', ann_id='T29'),\n",
      " Annotation(text='Martin', start=6550, end=6556, tag='Name', doc_id='', ann_id='T30'),\n",
      " Annotation(text='Laura', start=6670, end=6675, tag='Name', doc_id='', ann_id='T31'),\n",
      " Annotation(text='Johan', start=6948, end=6953, tag='Name', doc_id='', ann_id='T32'),\n",
      " Annotation(text='Marieke', start=7234, end=7241, tag='Name', doc_id='', ann_id='T33'),\n",
      " Annotation(text='Jasper', start=7504, end=7510, tag='Name', doc_id='', ann_id='T34'),\n",
      " Annotation(text='Kim', start=7785, end=7788, tag='Name', doc_id='', ann_id='T35'),\n",
      " Annotation(text='David', start=8081, end=8086, tag='Name', doc_id='', ann_id='T36'),\n",
      " Annotation(text='David', start=8272, end=8277, tag='Name', doc_id='', ann_id='T37'),\n",
      " Annotation(text='40', start=8368, end=8370, tag='Age', doc_id='', ann_id='T38'),\n",
      " Annotation(text='Laura', start=8385, end=8390, tag='Name', doc_id='', ann_id='T39'),\n",
      " Annotation(text='Laura', start=8472, end=8477, tag='Name', doc_id='', ann_id='T40'),\n",
      " Annotation(text='Laura', start=8828, end=8833, tag='Name', doc_id='', ann_id='T41'),\n",
      " Annotation(text='Thomas', start=8849, end=8855, tag='Name', doc_id='', ann_id='T42'),\n",
      " Annotation(text='30', start=8864, end=8866, tag='Age', doc_id='', ann_id='T43'),\n",
      " Annotation(text='Thomas', start=9180, end=9186, tag='Name', doc_id='', ann_id='T44'),\n",
      " Annotation(text='25', start=9247, end=9249, tag='Age', doc_id='', ann_id='T45'),\n",
      " Annotation(text='Mark', start=9262, end=9266, tag='Name', doc_id='', ann_id='T46'),\n",
      " Annotation(text='Mark', start=9475, end=9479, tag='Name', doc_id='', ann_id='T47'),\n",
      " Annotation(text='Anna', start=9657, end=9661, tag='Name', doc_id='', ann_id='T48'),\n",
      " Annotation(text='28', start=9670, end=9672, tag='Age', doc_id='', ann_id='T49'),\n",
      " Annotation(text='Anna', start=9892, end=9896, tag='Name', doc_id='', ann_id='T50'),\n",
      " Annotation(text='45', start=10055, end=10057, tag='Age', doc_id='', ann_id='T51'),\n",
      " Annotation(text='Frank', start=10070, end=10075, tag='Name', doc_id='', ann_id='T52'),\n",
      " Annotation(text='Frank', start=10189, end=10194, tag='Name', doc_id='', ann_id='T53'),\n",
      " Annotation(text='Frank', start=10366, end=10371, tag='Name', doc_id='', ann_id='T54'),\n",
      " Annotation(text='Lisa', start=10497, end=10501, tag='Name', doc_id='', ann_id='T55'),\n",
      " Annotation(text='22', start=10510, end=10512, tag='Age', doc_id='', ann_id='T56'),\n",
      " Annotation(text='Lisa', start=10770, end=10774, tag='Name', doc_id='', ann_id='T57'),\n",
      " Annotation(text='35', start=10859, end=10861, tag='Age', doc_id='', ann_id='T58'),\n",
      " Annotation(text='Lucas', start=10874, end=10879, tag='Name', doc_id='', ann_id='T59'),\n",
      " Annotation(text='Lucas', start=11155, end=11160, tag='Name', doc_id='', ann_id='T60'),\n",
      " Annotation(text='Eva', start=11245, end=11248, tag='Name', doc_id='', ann_id='T61'),\n",
      " Annotation(text='Eva', start=11413, end=11416, tag='Name', doc_id='', ann_id='T62'),\n",
      " Annotation(text='Erik', start=11601, end=11605, tag='Name', doc_id='', ann_id='T63'),\n",
      " Annotation(text='Erik', start=11896, end=11900, tag='Name', doc_id='', ann_id='T64'),\n",
      " Annotation(text='Hannah', start=11948, end=11954, tag='Name', doc_id='', ann_id='T65'),\n",
      " Annotation(text='Hannah', start=12127, end=12133, tag='Name', doc_id='', ann_id='T66'),\n",
      " Annotation(text='Jonas', start=12252, end=12257, tag='Name', doc_id='', ann_id='T67'),\n",
      " Annotation(text='Jonas', start=12573, end=12578, tag='Name', doc_id='', ann_id='T68'),\n",
      " Annotation(text='Lisa', start=12637, end=12641, tag='Name', doc_id='', ann_id='T69'),\n",
      " Annotation(text='Lisa', start=12832, end=12836, tag='Name', doc_id='', ann_id='T70'),\n",
      " Annotation(text='Sophie', start=12942, end=12948, tag='Name', doc_id='', ann_id='T71'),\n",
      " Annotation(text='30', start=12954, end=12956, tag='Age', doc_id='', ann_id='T72'),\n",
      " Annotation(text='Sophie', start=13140, end=13146, tag='Name', doc_id='', ann_id='T73'),\n",
      " Annotation(text='Mark', start=13237, end=13241, tag='Name', doc_id='', ann_id='T74'),\n",
      " Annotation(text='40', start=13250, end=13252, tag='Age', doc_id='', ann_id='T75'),\n",
      " Annotation(text='Emma', start=13587, end=13591, tag='Name', doc_id='', ann_id='T76'),\n",
      " Annotation(text='Emma', start=13783, end=13787, tag='Name', doc_id='', ann_id='T77'),\n",
      " Annotation(text='Thomas', start=13886, end=13892, tag='Name', doc_id='', ann_id='T78'),\n",
      " Annotation(text='25', start=13901, end=13903, tag='Age', doc_id='', ann_id='T79'),\n",
      " Annotation(text='Lisa', start=14228, end=14232, tag='Name', doc_id='', ann_id='T80'),\n",
      " Annotation(text='Lisa', start=14468, end=14472, tag='Name', doc_id='', ann_id='T81'),\n",
      " Annotation(text='Anna', start=14538, end=14542, tag='Name', doc_id='', ann_id='T82'),\n",
      " Annotation(text='Anna', start=14745, end=14749, tag='Name', doc_id='', ann_id='T83'),\n",
      " Annotation(text='Erik', start=14829, end=14833, tag='Name', doc_id='', ann_id='T84'),\n",
      " Annotation(text='Erik', start=15005, end=15009, tag='Name', doc_id='', ann_id='T85'),\n",
      " Annotation(text='Jonas', start=15104, end=15109, tag='Name', doc_id='', ann_id='T86'),\n",
      " Annotation(text='Jonas', start=15310, end=15315, tag='Name', doc_id='', ann_id='T87'),\n",
      " Annotation(text='Laura', start=15406, end=15411, tag='Name', doc_id='', ann_id='T88'),\n",
      " Annotation(text='Laura', start=15545, end=15550, tag='Name', doc_id='', ann_id='T89'),\n",
      " Annotation(text='Hannah', start=15666, end=15672, tag='Name', doc_id='', ann_id='T90'),\n",
      " Annotation(text='Hannah', start=15834, end=15840, tag='Name', doc_id='', ann_id='T91'),\n",
      " Annotation(text='Lucas', start=15979, end=15984, tag='Name', doc_id='', ann_id='T92'),\n",
      " Annotation(text='Lucas', start=16160, end=16165, tag='Name', doc_id='', ann_id='T93'),\n",
      " Annotation(text='Lisa', start=16239, end=16243, tag='Name', doc_id='', ann_id='T94'),\n",
      " Annotation(text='Lisa', start=16379, end=16383, tag='Name', doc_id='', ann_id='T95'),\n",
      " Annotation(text='Erik', start=16468, end=16472, tag='Name', doc_id='', ann_id='T96'),\n",
      " Annotation(text='Erik', start=16679, end=16683, tag='Name', doc_id='', ann_id='T97'),\n",
      " Annotation(text='Jonas', start=16763, end=16768, tag='Name', doc_id='', ann_id='T98'),\n",
      " Annotation(text='Jonas', start=16911, end=16916, tag='Name', doc_id='', ann_id='T99'),\n",
      " Annotation(text='Sarah', start=17040, end=17045, tag='Name', doc_id='', ann_id='T100'),\n",
      " Annotation(text='David', start=17230, end=17235, tag='Name', doc_id='', ann_id='T101'),\n",
      " Annotation(text='Lisa', start=17440, end=17444, tag='Name', doc_id='', ann_id='T102'),\n",
      " Annotation(text='Thomas', start=17637, end=17643, tag='Name', doc_id='', ann_id='T103'),\n",
      " Annotation(text='Emma', start=17835, end=17839, tag='Name', doc_id='', ann_id='T104'),\n",
      " Annotation(text='Robert', start=17996, end=18002, tag='Name', doc_id='', ann_id='T105'),\n",
      " Annotation(text='Marieke', start=18178, end=18185, tag='Name', doc_id='', ann_id='T106'),\n",
      " Annotation(text='Tim', start=18409, end=18412, tag='Name', doc_id='', ann_id='T107'),\n",
      " Annotation(text='Lucas', start=18603, end=18608, tag='Name', doc_id='', ann_id='T108'),\n",
      " Annotation(text='Anita', start=18786, end=18791, tag='Name', doc_id='', ann_id='T109'),\n",
      " Annotation(text='Jeroen', start=18994, end=19000, tag='Name', doc_id='', ann_id='T110'),\n",
      " Annotation(text='Sarah', start=19205, end=19210, tag='Name', doc_id='', ann_id='T111'),\n",
      " Annotation(text='Lisa', start=19420, end=19424, tag='Name', doc_id='', ann_id='T112'),\n",
      " Annotation(text='Martin', start=19608, end=19614, tag='Name', doc_id='', ann_id='T113'),\n",
      " Annotation(text='Laura', start=19786, end=19791, tag='Name', doc_id='', ann_id='T114'),\n",
      " Annotation(text='Robert', start=19954, end=19960, tag='Name', doc_id='', ann_id='T115'),\n",
      " Annotation(text='Sophie', start=20149, end=20155, tag='Name', doc_id='', ann_id='T116'),\n",
      " Annotation(text='Tim', start=20350, end=20353, tag='Name', doc_id='', ann_id='T117'),\n",
      " Annotation(text='David', start=20482, end=20487, tag='Name', doc_id='', ann_id='T118'),\n",
      " Annotation(text='Anna', start=20684, end=20688, tag='Name', doc_id='', ann_id='T119'),\n",
      " Annotation(text='Petra', start=20925, end=20930, tag='Name', doc_id='', ann_id='T120'),\n",
      " Annotation(text='Marco', start=21219, end=21224, tag='Name', doc_id='', ann_id='T121'),\n",
      " Annotation(text='Lisa', start=21476, end=21480, tag='Name', doc_id='', ann_id='T122'),\n",
      " Annotation(text='Jasper', start=21766, end=21772, tag='Name', doc_id='', ann_id='T123'),\n",
      " Annotation(text='Emma', start=22016, end=22020, tag='Name', doc_id='', ann_id='T124'),\n",
      " Annotation(text='Lucas', start=22291, end=22296, tag='Name', doc_id='', ann_id='T125'),\n",
      " Annotation(text='Lisa', start=22532, end=22536, tag='Name', doc_id='', ann_id='T126'),\n",
      " Annotation(text='Anna', start=22784, end=22788, tag='Name', doc_id='', ann_id='T127'),\n",
      " Annotation(text='Frank', start=23039, end=23044, tag='Name', doc_id='', ann_id='T128'),\n",
      " Annotation(text='Tim', start=23347, end=23350, tag='Name', doc_id='', ann_id='T129'),\n",
      " Annotation(text='Petra', start=23634, end=23639, tag='Name', doc_id='', ann_id='T130'),\n",
      " Annotation(text='Marco', start=23848, end=23853, tag='Name', doc_id='', ann_id='T131'),\n",
      " Annotation(text='Lisa', start=24073, end=24077, tag='Name', doc_id='', ann_id='T132'),\n",
      " Annotation(text='Thomas', start=24306, end=24312, tag='Name', doc_id='', ann_id='T133'),\n",
      " Annotation(text='Emma', start=24520, end=24524, tag='Name', doc_id='', ann_id='T134'),\n",
      " Annotation(text='Lucas', start=24797, end=24802, tag='Name', doc_id='', ann_id='T135'),\n",
      " Annotation(text='Lisa', start=25045, end=25049, tag='Name', doc_id='', ann_id='T136'),\n",
      " Annotation(text='Anna', start=25243, end=25247, tag='Name', doc_id='', ann_id='T137'),\n",
      " Annotation(text='Frank', start=25497, end=25502, tag='Name', doc_id='', ann_id='T138'),\n",
      " Annotation(text='Tim', start=25749, end=25752, tag='Name', doc_id='', ann_id='T139')]\n"
     ]
    }
   ],
   "source": [
    "# Annotation results of DeduceTagger\n",
    "from pprint import pprint\n",
    "\n",
    "first_doc_deduce = annotated_docs_deduce[0]\n",
    "pprint(first_doc_deduce.annotations)"
   ]
  },
  {
   "cell_type": "code",
   "execution_count": 13,
   "metadata": {},
   "outputs": [
    {
     "name": "stdout",
     "output_type": "stream",
     "text": [
      "[NAME]. Graag vraag ik advies inzake het wel of niet starten met medicatie? [NAME] vertelt : gaat niet lekker, bekend met bipolaire stoornis, vorig jaar periode wat hypomaan in augustus, toen tijdelijk rivotril gebruikt, nu juist angstig, emotioneel en somberder, trigger is wss [NAME] die naar verzorginshuis is, ([NAME] en heeft er moeite mee dat de cultuur in [ADDRESS] anders is tav opvang van ouderen) speelt nu op sinds 1,5 mnd en wordt langzaam erger, soms ook boos, intensere emoties, post-partum begeleiding gehad, maar wilde toen niet met lithium beginnen en is zonder medicatie goed gegaan. Tevens hypothyreoidie waarvoor medicatie. Alvast bedankt voor het meedenken. ;betreft [NAME] van [AGE] jaar die depressief is en gedachten heeft op het spoor te gaan staan.volgens de huisarts geen crisis. [NAME] is afgewezen bij Centiv. [NAME] wil graag overleg.;Inmiddels 3x meneer gezien. Meneer Altijd voornamelijk bezig geweest met werk, nu meer zoekende naar momenten die rust en ontspanning geven.Relatieproblematiek mede door problemen in emotie regulatie bij verwerken van seksualiteit en intiem contact is belemmerend voor meneer geen effect. Beschrijft meneer als iemand die lomp is en zegt waar het op staat. Loopt met name in relatie en in contact met werknemer tegen problemen aan. Vrienden en kennissen nemen meneer zoals meneer is, hij Inmiddels 3 consulten gevoerd. hij is steeds meer open. Emoties tonen gaat moeizaam, vecht er tegen. Wil aan de slag met emotie regulatie, daarnaast weer rust in hoofd ervaren.Nooit eerder in contact geweest binnen GGZ. Verwachting mogelijk problematiek in persoonlijkheid, is ook beeld vanuit betrokken huisarts. hij omschrijft mogelijk hechtingsproblematiek. hij laat in consulten weinig los over kind- en jeugdjaren. Vraagt om rustgevende medicatie. Begrijpt noodzaak om eerst meer context te kunnen schetsen. Verzoek om deze patient, evt. in samenwerking, te zien om verder beleid passend te kunnen vaststellen. Beoordelen of het past binnen SGGZ of juist beter voorliggend opgepakt kan worden.;Ik zie een mevr[NAME]) die in verleden verslaving heeft gehad aan GHB en alcohol. Is ook bij jullie in behandeling geweest hiervoor. Van GHB gbruik is geen sprake meer wel nog van alcoholgebruik. Ze drinkt in het weekend met uitgaan. Stoppen hiermee is geen optie. Merkt dat mevrouw door de week toch zucht krijgt. Onlangs een lif event meegemaakt (overlijden vader) haar vraag is of er anti zucht medicatie is die xx kan stoppen en dan toch kan drinken in het weekend. Mevrouw zou hier graag over willen spreken met een verslavingsarts. Is het mogelijk om hiervoor  bij u een eenmalig consult aan te vragen?;Goedemiddag, ik heb een patiënt, [NAME] genaamd, met chronische rugpijn die moeilijk te behandelen lijkt. Hij heeft al verschillende therapieën en medicijnen geprobeerd, maar niets lijkt te helpen. Zijn levenskwaliteit lijdt hier erg onder. Kunnen we een overleg plannen om te bespreken welke verdere stappen we kunnen ondernemen om [NAME] te helpen?;Ik heb een cliënt, [NAME], een [AGE]-jarige vrouw met anorexia nervosa. Ze weigert op dit moment alle vormen van behandeling en haar toestand verslechtert snel. Ik maak me grote zorgen om haar gezondheid en wil graag overleggen over mogelijke interventies om haar te stabiliseren en in behandeling te krijgen. Wat raadt u aan?;Ik heb een patiënt, meneer [NAME], die al enige tijd last heeft van ernstige slaapproblemen. Hij heeft al verschillende slaapmedicijnen geprobeerd, maar niets lijkt te werken. Zijn vermoeidheid heeft een negatieve invloed op zijn dagelijks leven en werkprestaties. Wat zijn de mogelijke oorzaken en behandelopties voor zijn aanhoudende slaapproblemen?;Ik zie een tiener, [NAME] genaamd, die de laatste maanden steeds teruggetrokken is en weigert naar school te gaan. Haar ouders maken zich zorgen dat er sprake is van pesten op school, maar [NAME] vertelt hier niets over. Hoe kunnen we [NAME] helpen om haar problemen te bespreken en te achterhalen wat er aan de hand is?;Mijn patiënt, mevr[NAME], heeft onlangs een traumatische gebeurtenis meegemaakt en vertoont nu tekenen van acute stressstoornis. Ik wil weten welke behandelingsopties beschikbaar zijn en hoe we haar zo snel mogelijk kunnen ondersteunen in haar herstelproces.;Ik zie een patiënt, [NAME], met een langdurige geschiedenis van depressie en angststoornissen. Zijn huidige medicatie lijkt niet voldoende te werken en hij meldt terugkerende suïcidale gedachten. Welke behandelopties kunnen we overwegen om zijn symptomen beter te beheersen?;Mijn patiënt, [NAME], worstelt met ernstige alcoholverslaving en heeft meerdere mislukte pogingen gedaan om te stoppen. Wat zijn de meest effectieve behandelingsbenaderingen voor haar alcoholprobleem, inclusief medicamenteuze ondersteuning?;Ik heb een cliënt, [NAME], die lijdt aan posttraumatische stressstoornis (PTSS) en nachtmerries heeft die zijn slaap verstoren. Welke interventies en therapieën kunnen helpen bij het verminderen van de nachtmerries en het verbeteren van zijn slaap?;Een van mijn patiënten, [NAME], heeft last van terugkerende paniekaanvallen die haar dagelijkse leven verstoren. Ze wil graag praten over medicatieopties om de frequentie en intensiteit van haar paniekaanvallen te verminderen. Welke medicijnen kunnen worden overwogen?;Ik behandel een jonge man, [NAME], die worstelt met gokverslaving en financiële problemen heeft als gevolg van zijn verslaving. Wat zijn de beschikbare bronnen en programma's om [NAME] te ondersteunen bij het aanpakken van zijn gokprobleem en het beheren van zijn financiën?;Ik heb een patiënt, [NAME], met een geschiedenis van eetstoornissen, die na een periode van stabiliteit weer terugvalt in haar oude patroon van restrictief eten en overmatige lichaamsbeweging. Wat zijn de aanbevolen behandelingsstrategieën voor herstel en hoe kunnen we de terugval voorkomen?;Mijn patiënt, [NAME], heeft last van ernstige obsessieve-compulsieve symptomen die zijn dagelijkse leven sterk beïnvloeden. Hij heeft al verschillende vormen van cognitieve gedragstherapie ondergaan, maar er is weinig verbetering. Welke andere behandelingsmogelijkheden zijn er voor OCD?;Ik behandel een jonge vrouw, [NAME], die worstelt met zelfbeschadigend gedrag en suïcidale gedachten heeft. Haar familie maakt zich ernstig zorgen. Wat zijn de dringende interventies die we moeten overwegen om [NAME] in veiligheid te brengen en haar mentale gezondheid te verbeteren?;Een van mijn patiënten, [NAME], lijkt te lijden aan een gokverslaving en heeft aanzienlijke schulden opgebouwd. Wat zijn de stappen om [NAME] te helpen bij het beheren van zijn verslaving en het aanpakken van zijn financiële problemen?;Ik zie een tiener, [NAME], die ernstige stemmingswisselingen en episodes van zelfbeschadiging vertoont. Haar ouders hebben moeite om met haar om te gaan. Wat zijn de mogelijke behandelingsbenaderingen voor deze complexe situatie, inclusief de rol van familie-interventies?;Ik behandel een patiënt, [NAME], met een obsessie voor bizarre complottheorieën die zijn dagelijkse leven verstoren. Zijn familie maakt zich zorgen over zijn geestelijke gezondheid. Hoe kunnen we effectief omgaan met zijn overtuigingen en hem helpen bij het verbeteren van zijn psychische welzijn?;Mijn patiënt, [NAME], ervaart intense emotionele fluctuaties die lijken samen te vallen met de fasen van de maan. Ze is ervan overtuigd dat de maan invloed heeft op haar stemming. Hoe kunnen we haar overtuigingen adresseren en haar symptomen behandelen?;Ik zie een jonge volwassene, [NAME], die beweert dat hij telepathische communicatie heeft met buitenaardse wezens. Hij zegt dat deze ervaringen hem angstig maken en zijn dagelijks functioneren verstoren. Wat zijn de behandelingsmogelijkheden voor dit soort ervaringen en overtuigingen?;Een van mijn patiënten, [NAME], heeft een ernstige verslaving aan online gaming en besteedt dagelijks meerdere uren aan gamen. Haar schoolprestaties lijden hieronder. Wat zijn de specifieke interventies om haar te helpen bij het beheersen van deze verslaving en haar academische doelen te bereiken?;Ik behandel een cliënt, [NAME], die zichzelf beschouwt als een 'workaholic' en obsessief streeft naar professioneel succes. Hij lijkt te lijden onder burn-outsymptomen, maar weigert hulp te aanvaarden. Hoe kunnen we [NAME] bewegen tot zelfreflectie en behandeling voor zijn overmatige werkgedrag?;Ik behandel een [AGE]-jarige vrouw, [NAME], met een geschiedenis van complexe trauma's en ernstige dissociatieve symptomen. [NAME] heeft onlangs gemeld dat ze episoden van verlies van bewustzijn ervaart waarin ze zichzelf buiten haar lichaam ziet en de wereld om haar heen anders ervaart. Deze ervaringen veroorzaken haar angst en verstoren haar dagelijkse leven. Wat zijn de diagnostische overwegingen en mogelijke behandelingen voor deze complexe presentatie van dissociatie bij [NAME]?;Mijn patiënt, [NAME], is een [AGE]-jarige man die lijdt aan een obsessieve-compulsieve stoornis (OCS) en tegelijkertijd een ernstige fobie voor vuil en bacteriën heeft ontwikkeld. Hij besteedt uren per dag aan rituelen om zijn angst onder controle te houden en isoleert zichzelf steeds meer. Welke geïntegreerde behandelingsaanpak raadt u aan voor [NAME], rekening houdend met zowel de OCS als de fobie?;Ik zie een [AGE]-jarige man, [NAME], die een patroon van excessief alcoholgebruik heeft ontwikkeld om met sociale angst en verlegenheid om te gaan. Zijn alcoholgebruik begint zijn professionele en persoonlijke leven te verstoren. Hoe kunnen we [NAME] helpen om zijn sociale angst aan te pakken zonder terug te vallen in alcoholgebruik, en welke behandelingsmodaliteiten zijn het meest geschikt voor hem?;Een van mijn patiënten, [NAME], is een [AGE]-jarige vrouw met eetbuien en braken. Ze heeft verschillende mislukte pogingen gedaan om te stoppen, maar blijft terugvallen in deze cyclus. Haar eetstoornis heeft geleid tot ernstige gezondheidsproblemen. Hoe kunnen we [NAME] ondersteunen bij het doorbreken van deze destructieve gewoonten en haar fysieke en mentale gezondheid herstellen?;Ik ben betrokken bij de behandeling van een [AGE]-jarige man, [NAME], met een complexe geschiedenis van emotionele verwaarlozing in de kindertijd en langdurige depressieve episoden. [NAME] heeft moeite met het aangaan van emotionele relaties en blijft terugvallen in isolatie. Wat zijn de benaderingen voor trauma-geïnformeerde zorg die we kunnen toepassen om [NAME] te helpen bij het verwerken van zijn verleden en het ontwikkelen van gezondere interpersoonlijke vaardigheden?;Mijn patiënt, [NAME], is een [AGE]-jarige vrouw met anorexia nervosa die in een vroeg stadium van herstel is. Ze is vastbesloten om gezond te worden, maar haar ouders maken zich zorgen over haar voedselinname en gewichtsherstel. Hoe kunnen we een evenwicht vinden tussen het ondersteunen van [NAME] bij haar herstel en het betrekken van haar ouders in het behandelproces?;Ik zie een [AGE]-jarige man, [NAME], die kampt met een complexe persoonlijkheidsstoornis en frequent suïcidale gedachten heeft. Hij heeft meerdere ziekenhuisopnames achter de rug en heeft een geschiedenis van onverwachte uitval uit behandelingen. Wat zijn de opties voor langdurige zorg en crisispreventie voor [NAME], rekening houdend met de complexiteit van zijn presentatie?;Een van mijn patiënten, [NAME], heeft een langdurige geschiedenis van gokverslaving en heeft onlangs een aanzienlijke schuld opgebouwd. Ze staat op het punt haar huis te verliezen. Hoe kunnen we [NAME] ondersteunen bij het aanpakken van haar verslaving en het omgaan met de financiële gevolgen, en welke externe bronnen kunnen we inschakelen om haar te helpen?;Ik behandel een patiënt, [NAME], die lijdt aan een ongebruikelijke fobie voor knuffelberen. Zijn angst voor deze kinderspeelgoedbeesten heeft zijn sociale leven ernstig beïnvloed en hij vermijdt plaatsen waar knuffelberen aanwezig kunnen zijn. Wat zijn de behandelingsstrategieën voor deze ongewone fobie en hoe kunnen we [NAME] helpen zijn angst te overwinnen?;Mijn patiënt, [NAME], heeft een buitengewone angst voor cijfer 8. Ze vermijdt activiteiten of situaties waarbij dit cijfer betrokken is en ervaart ernstige angst als ze het ziet. Hoe kunnen we [NAME] helpen om te gaan met deze fobie en haar dagelijkse leven zonder belemmeringen voort te zetten?;Ik zie een jonge man, [NAME], die lijdt aan een fobie voor ballonnen. Zijn angst voor knallende ballonnen heeft geleid tot sociale isolatie en paniekaanvallen in situaties waarin ballonnen aanwezig zijn, zoals feestjes en evenementen. Welke behandelingsbenaderingen zijn geschikt voor het omgaan met deze ongebruikelijke fobie en hoe kunnen we [NAME] helpen zijn angsten te beheersen?;Een van mijn patiënten, [NAME], heeft een irrationele angst voor kippenveren. Deze fobie belemmert haar in het bezoeken van boerderijen, stranden en andere plaatsen waar veren kunnen voorkomen. Wat zijn de strategieën om [NAME] te helpen bij het omgaan met deze ongebruikelijke fobie en haar angst te verminderen?;Ik heb een cliënt, [NAME], een [AGE]-jarige vrouw met een geschiedenis van zelfverwonding en suïcidale gedachten. Ze heeft onlangs aangegeven dat ze een \"stem\" hoort die haar vertelt zichzelf pijn te doen. Hoe kunnen we [NAME] evalueren en behandelen, rekening houdend met deze auditieve hallucinaties?;Mijn patiënt, [NAME], is een [AGE]-jarige man met een obsessieve interesse in buitenaardse ontvoeringen. Hij beweert dat hij herhaaldelijk is ontvoerd door buitenaardse wezens en lijdt aan ernstige angst en slapeloosheid als gevolg hiervan. Welke behandelingsstrategieën kunnen we overwegen voor zijn ongebruikelijke overtuigingen en angstsymptomen?;Ik zie een tiener, [NAME], die zichzelf beschouwt als een \"hooggevoelig\" persoon en beweert boodschappen te ontvangen van overleden familieleden. Haar ervaringen lijken haar angstig en verward te maken. Hoe kunnen we [NAME] ondersteunen bij het begrijpen en omgaan met haar paranormale ervaringen?;Een van mijn patiënten, [NAME], is een [AGE]-jarige man met een obsessie voor het einde van de wereld. Hij besteedt veel tijd aan het bestuderen van complottheorieën over apocalyptische gebeurtenissen en dit veroorzaakt hem aanzienlijke angst. Welke benaderingen kunnen we gebruiken om zijn obsessieve gedachten te verminderen en zijn angst te beheersen?;Mijn patiënt, [NAME], heeft een ongebruikelijke angst voor ballonnen die zijn gevuld met heliumgas. Ze vermijdt feestjes en evenementen waar dergelijke ballonnen aanwezig zijn, vanwege haar angst voor hun gedrag wanneer ze losgelaten worden. Hoe kunnen we [NAME] helpen omgaan met deze specifieke fobie?;Ik zie een jonge vrouw, [NAME], die bang is voor de kleur rood. Ze vermijdt rode kleding, objecten en zelfs voedingsmiddelen met een rode kleur. Dit belemmert haar dagelijkse leven en relaties. Wat zijn de aanbevolen benaderingen om [NAME] te helpen bij het omgaan met haar ongewone kleurfobie?;Een van mijn patiënten, [NAME], heeft een intense angst voor tunnels en vermijdt situaties waarin hij door tunnels moet reizen. Dit beperkt zijn mobiliteit en veroorzaakt angst en paniek. Hoe kunnen we [NAME] helpen bij het overwinnen van zijn tunnelangst en weer normaal te functioneren?;Mijn patiënt, [NAME], heeft een irrationele angst voor de geur van bloemen. Hij ervaart intense angst en vermijdt plaatsen waar bloemen aanwezig zijn, zoals parken en bloemenwinkels. Wat zijn de aanbevolen strategieën om [NAME] te ondersteunen bij het omgaan met deze ongebruikelijke geurangst?;Ik behandel een vrouw, [NAME], die een intense angst heeft ontwikkeld voor de letter \"A\". Ze vermijdt woorden en situaties die deze letter bevatten. Hoe kunnen we [NAME] helpen bij het omgaan met haar specifieke letterfobie en haar dagelijkse leven verbeteren?;Een van mijn patiënten, [NAME], heeft een buitengewone angst voor stofzuigers. Ze vermijdt het gebruik van stofzuigers en wordt angstig in de buurt van anderen die ze gebruiken. Hoe kunnen we [NAME] helpen om haar angst voor stofzuigers te verminderen en haar dagelijkse leven zonder belemmeringen voort te zetten?;Ik zie een jonge man, [NAME], die een intense angst heeft ontwikkeld voor het geluid van fluitende vogels. Hij vermijdt parken en natuurgebieden vanwege deze angst. Wat zijn de aanbevolen benaderingen om [NAME] te helpen bij het omgaan met zijn specifieke geluidsfobie?;Mijn patiënt, [NAME], heeft een ongebruikelijke angst voor de kleur groen. Ze vermijdt groene objecten en zelfs voedsel met een groene kleur. Hoe kunnen we [NAME] ondersteunen bij het omgaan met deze specifieke kleurfobie?;Een van mijn patiënten, [NAME], heeft een ongebruikelijke angst voor de vorm van cirkels. Hij vermijdt situaties waarin cirkelvormige objecten aanwezig zijn en ervaart intense angst als hij ze ziet. Wat zijn de aanbevolen strategieën om [NAME] te helpen bij het omgaan met deze specifieke vormfobie?;Ik behandel een vrouw, [NAME], die een intense angst heeft ontwikkeld voor de geur van pas gemaaid gras. Ze vermijdt grasvelden en tuinen vanwege deze angst. Hoe kunnen we [NAME] helpen om haar geurangst te verminderen en haar dagelijkse leven zonder belemmeringen voort te zetten?;Ik heb een patiënt, [NAME], met ernstige depressieve symptomen, waaronder aanhoudende somberheid en slaapproblemen. Welke medicatieopties kunnen we overwegen voor de behandeling van haar depressie?;Mijn cliënt, [NAME], lijdt aan sociale angststoornis en ervaart ernstige angst en vermijdingsgedrag in sociale situaties. Welke medicijnen zijn geschikt voor de behandeling van sociale angststoornis?;Een van mijn patiënten, [NAME], heeft een gegeneraliseerde angststoornis en ervaart chronische zorgen en angst. Wat zijn de aanbevolen medicijnen voor de behandeling van gegeneraliseerde angststoornis?;Ik behandel een man, [NAME], met obsessieve-compulsieve stoornis (OCS) en zijn symptomen reageren niet goed op eerdere behandelingen. Welke medicatieopties kunnen we overwegen voor de behandeling van OCS?;Mijn patiënt, [NAME], lijdt aan paniekstoornis en ervaart terugkerende paniekaanvallen. Welke medicijnen kunnen helpen bij de behandeling van paniekstoornis?;Ik zie een cliënt, [NAME], met posttraumatische stressstoornis (PTSS) en ernstige nachtmerries. Welke medicatie kan worden overwogen om de nachtmerries te verminderen bij PTSS?;Een van mijn patiënten, [NAME], heeft last van terugkerende paniekaanvallen die haar dagelijkse leven verstoren. Welke medicijnen kunnen worden overwogen om de frequentie en intensiteit van haar paniekaanvallen te verminderen?;Ik behandel een jonge man, [NAME], die worstelt met suïcidale gedachten als gevolg van ernstige depressie. Welke medicatieopties zijn geschikt voor de behandeling van ernstige depressie en suïcidale gedachten?;Mijn patiënt, [NAME], lijdt aan bipolaire stoornis en heeft last van manische episodes. Welke medicijnen kunnen worden overwogen om manieën te stabiliseren bij bipolaire stoornis?;Ik zie een vrouw, [NAME], met een voorgeschiedenis van alcoholverslaving en een terugval in alcoholgebruik. Welke medicatie kan worden overwogen om haar te helpen bij het verminderen van alcoholgebruik?;Een van mijn patiënten, [NAME], heeft last van ernstige depressieve symptomen en suïcidale gedachten. Welke medicijnen kunnen worden overwogen voor de behandeling van ernstige depressie en suïcidale gedachten?;Ik behandel een patiënt, [NAME], met ernstige alcoholverslaving en meerdere mislukte pogingen om te stoppen met drinken. Welke medicijnen kunnen worden overwogen om haar te ondersteunen bij de behandeling van alcoholverslaving?;Mijn cliënt, [NAME], heeft last van eetstoornissen en ernstig gewichtsverlies. Welke medicijnen kunnen worden overwogen om haar te helpen bij het herstellen van haar eetstoornis?;Een van mijn patiënten, [NAME], lijdt aan gokverslaving en heeft aanzienlijke financiële problemen. Welke medicatieopties kunnen worden overwogen om zijn gokverslaving te behandelen?;Ik zie een tiener, [NAME], met ernstige stemmingswisselingen en suïcidale gedachten. Welke medicijnen kunnen worden overwogen voor de behandeling van haar stemmingsstoornis?;Mijn patiënt, [NAME], heeft last van obsessieve-compulsieve symptomen die zijn dagelijkse leven sterk beïnvloeden. Welke medicijnen kunnen worden overwogen voor de behandeling van OCD?;Een van mijn patiënten, [NAME], worstelt met zelfbeschadigend gedrag en suïcidale gedachten. Welke medicijnen kunnen worden overwogen om haar zelfbeschadiging en suïcidale gedachten te verminderen?;Ik behandel een jonge man, [NAME], met een verslaving aan online gaming. Welke medicijnen kunnen worden overwogen om zijn verslaving te behandelen?;Mijn patiënt, [NAME], lijdt aan een obsessieve interesse in werk en heeft last van burn-outsymptomen. Welke medicatieopties kunnen worden overwogen om zijn obsessieve werkgedrag te behandelen?;Een van mijn patiënten, [NAME], heeft een langdurige geschiedenis van complex trauma en ernstige dissociatieve symptomen. Welke medicijnen kunnen worden overwogen om haar dissociatieve symptomen te verminderen en haar behandeling te ondersteunen?;Ik heb een patiënt, [NAME], met een complexe presentatie van psychische symptomen, waaronder depressie, angst en een voorgeschiedenis van trauma. Ze heeft al meerdere behandelingen gehad, maar er is weinig verbetering. Zou het verstandig zijn om een second opinion te overwegen voor haar behandelplan?;Mijn cliënt, [NAME], heeft een langdurige geschiedenis van stemmingswisselingen en heeft al verschillende medicijnen geprobeerd zonder succes. Zou het nuttig zijn om een second opinion te verkrijgen over zijn medicatiekeuze en behandelingsaanpak?;Een van mijn patiënten, [NAME], heeft een ongebruikelijke presentatie van symptomen die moeilijk te diagnosticeren zijn. Ze heeft al meerdere specialisten gezien, maar er is nog steeds geen duidelijke diagnose. Zou het verstandig zijn om een second opinion te overwegen om haar case te evalueren?;Ik zie een tiener, [NAME], met ernstige stemmingswisselingen en suïcidale gedachten. Ondanks meerdere behandelingen lijkt hij niet te verbeteren. Zou het raadzaam zijn om een second opinion te vragen over zijn behandelingsplan en diagnostische evaluatie?;Mijn patiënt, [NAME], heeft een complexe persoonlijkheidsstoornis en heeft meerdere behandelaars gezien, maar blijft worstelen met interpersoonlijke problemen. Zou het nuttig zijn om een second opinion te krijgen over de benadering van haar persoonlijkheidsstoornis?;Een van mijn patiënten, [NAME], heeft een zeldzame psychische aandoening waarvoor gespecialiseerde expertise nodig is. Zou het verstandig zijn om een second opinion te overwegen om ervoor te zorgen dat we de best mogelijke behandeling bieden?;Ik behandel een vrouw, [NAME], met complexe trauma's en een ingewikkelde presentatie van dissociatieve symptomen. Zou het nuttig zijn om een second opinion te verkrijgen om haar case te evalueren en te bespreken welke behandelingsbenadering het meest geschikt is?;Mijn cliënt, [NAME], heeft een langdurige geschiedenis van eetstoornissen en heeft al verschillende behandelingsmodaliteiten geprobeerd zonder duurzaam herstel. Zou het raadzaam zijn om een second opinion te overwegen over haar behandelingsplan?;Een van mijn patiënten, [NAME], heeft een complexe comorbiditeit van psychische aandoeningen, waaronder depressie en verslaving. Hij heeft al meerdere behandelaars gezien, maar er is weinig vooruitgang geboekt. Zou het nuttig zijn om een second opinion te verkrijgen om zijn behandelingsaanpak te heroverwegen?;Ik zie een jonge man, [NAME], met een obsessieve-compulsieve stoornis (OCS) die resistent lijkt te zijn tegen standaardbehandelingen. Zou het verstandig zijn om een second opinion te vragen over zijn behandelingsplan en te onderzoeken welke alternatieve benaderingen kunnen worden overwogen?;Ik heb een patiënt, [NAME], die enige verbetering heeft laten zien in de behandeling van depressie, maar nu vastloopt in haar vooruitgang. Wat voor vervolgtherapie of interventies zou nuttig kunnen zijn om haar te helpen?;Mijn cliënt, [NAME], heeft cognitieve gedragstherapie ondergaan voor zijn angststoornis, maar blijft terugkeren naar oude gewoonten. Welke vervolgtherapieën kunnen overwogen worden om zijn angst beter te beheersen?;Een van mijn patiënten, [NAME], heeft met succes de behandeling voor haar verslaving afgerond, maar heeft nu moeite om nuchter te blijven. Wat zijn de aanbevolen vervolgtherapieën om haar te ondersteunen bij herstel en terugvalpreventie?;Ik behandel een man, [NAME], die heeft geprofiteerd van individuele therapie voor zijn depressie, maar nu behoefte heeft aan aanvullende ondersteuning. Wat voor vervolgtherapieën of groepsinterventies kunnen nuttig zijn?;Mijn patiënt, [NAME], heeft met succes dialectische gedragstherapie (DBT) gevolgd voor haar borderline persoonlijkheidsstoornis. Ze heeft nu behoefte aan verdere behandeling om haar emotionele regulatie te verbeteren. Wat zou een geschikte vervolgtherapie kunnen zijn?;Een van mijn patiënten, [NAME], heeft langdurig gewerkt aan zijn trauma's en dissociatieve symptomen, maar heeft nog steeds moeite met interpersoonlijke relaties. Welke vervolgtherapieën kunnen overwogen worden om zijn sociale functioneren te verbeteren?;Ik zie een vrouw, [NAME], die heeft deelgenomen aan groepstherapie voor haar eetstoornis, maar nu worstelt met terugval. Wat voor vervolgtherapieën kunnen overwogen worden om haar herstel te ondersteunen?;Mijn cliënt, [NAME], heeft cognitieve gedragstherapie gevolgd voor haar sociale angststoornis, maar heeft nog steeds moeite met sociale situaties. Wat voor vervolgtherapieën kunnen nuttig zijn om haar sociale vaardigheden verder te ontwikkelen?;Een van mijn patiënten, [NAME], heeft behandeling gezocht voor zijn depressie en verslaving en heeft baat gehad bij medicamenteuze behandeling. Wat voor vervolgtherapieën kunnen worden overwogen om zijn emotioneel welzijn en herstel te ondersteunen?;Ik behandel een jonge man, [NAME], met een obsessieve-compulsieve stoornis (OCS) die deels reageerde op medicamenteuze behandeling. Wat voor vervolgtherapieën kunnen worden over\n"
     ]
    }
   ],
   "source": [
    "# Mask annotations of DeduceTagger\n",
    "from deidentify.util import mask_annotations\n",
    "\n",
    "masked_doc_deduce = mask_annotations(first_doc_deduce)\n",
    "print(masked_doc_deduce.text)"
   ]
  },
  {
   "cell_type": "code",
   "execution_count": 14,
   "metadata": {},
   "outputs": [
    {
     "name": "stdout",
     "output_type": "stream",
     "text": [
      "                                               Values\n",
      "0   [NAME]. Graag vraag ik advies inzake het wel o...\n",
      "1   betreft [NAME] van [AGE] jaar die depressief i...\n",
      "2   Inmiddels 3x meneer gezien. Meneer Altijd voor...\n",
      "3   Ik zie een mevr[NAME]) die in verleden verslav...\n",
      "4   Goedemiddag, ik heb een patiënt, [NAME] genaam...\n",
      "..                                                ...\n",
      "85  Een van mijn patiënten, [NAME], heeft langduri...\n",
      "86  Ik zie een vrouw, [NAME], die heeft deelgenome...\n",
      "87  Mijn cliënt, [NAME], heeft cognitieve gedragst...\n",
      "88  Een van mijn patiënten, [NAME], heeft behandel...\n",
      "89  Ik behandel een jonge man, [NAME], met een obs...\n",
      "\n",
      "[90 rows x 1 columns]\n"
     ]
    }
   ],
   "source": [
    "# Split the input string into a list using semicolons as the delimiter\n",
    "values = masked_doc_deduce.text.split(\";\")\n",
    "\n",
    "# Create a DataFrame with a single column named 'Values'\n",
    "deduce_final = pd.DataFrame({'Values': values})\n",
    "\n",
    "# Print the DataFrame\n",
    "print(deduce_final)"
   ]
  },
  {
   "cell_type": "markdown",
   "metadata": {},
   "source": [
    "## Real Text Test (4 entries)"
   ]
  },
  {
   "cell_type": "markdown",
   "metadata": {},
   "source": [
    "### FlairTagger"
   ]
  },
  {
   "cell_type": "code",
   "execution_count": 15,
   "metadata": {},
   "outputs": [],
   "source": [
    "# Create some text\n",
    "text1 = (\n",
    "    \"betreft Maria van Oosterhout van 75 jaar die depressief is en gedachten heeft op het spoor te gaan staan.\"\n",
    "    \"volgens de huisarts geen crisis. Maria is afgewezen bij Centiv. Maria wil graag overleg.;\"\n",
    ")\n",
    "\n",
    "text2 =(\n",
    "    \"Dag. Graag vraag ik advies inzake het wel of niet starten met medicatie?\"\n",
    "    \"Joris vertelt : gaat niet lekker, bekend met bipolaire stoornis, vorig jaar periode wat hypomaan in augustus, toen tijdelijk rivotril gebruikt, nu juist angstig, emotioneel en somberder, trigger is wss zijn moeder die naar verzorginshuis is,\"\n",
    "    \"(65 jaar en heeft er moeite mee dat de cultuur in Nederland anders is tav opvang van ouderen)\"\n",
    "    \"speelt nu op sinds 1,5 mnd en wordt langzaam erger, soms ook boos, intensere emoties, post-partum begeleiding gehad, maar wilde toen niet met lithium beginnen en is zonder medicatie goed gegaan.\"\n",
    "    \"Tevens hypothyreoidie waarvoor medicatie. Alvast bedankt voor het meedenken. Irene;\"\n",
    ")\n",
    "\n",
    "text3 = (\n",
    "    \"Inmiddels 3x gezien. Meneer Schoenmakers is altijd voornamelijk bezig geweest met werk, nu meer zoekende naar momenten die rust en ontspanning geven.\"\n",
    "    \"Relatieproblematiek mede door problemen in emotieregulatie bij hem van seksualiteit en intiem contact is belemmerend voor hem geen effect.\"\n",
    "    \"Beschrijft hem als iemand die lomp is en zegt waar het op staat. Loopt met name in relatie en in contact met werknemer tegen problemen aan.\"\n",
    "    \"Vrienden en kennissen nemen hem zoals hij is. Inmiddels 3 consulten gevoerd. Hij is steeds meer open. Emoties tonen gaat moeizaam, vecht ertegen.\"\n",
    "    \"Wil aan de slag met emotieregulatie, daarnaast weer rust in hoofd ervaren. Nooit eerder in contact geweest binnen GGZ.\"\n",
    "    \"Verwachting mogelijk problematiek in persoonlijkheid, is ook beeld vanuit betrokken huisarts. Hij omschrijft mogelijk hechtingsproblematiek.\"\n",
    "    \"Hij laat in consulten weinig los over kind- en jeugdjaren. Vraagt om rustgevende medicatie. Begrijpt noodzaak om eerst meer context te kunnen schetsen.\"\n",
    "    \"Verzoek om deze patiënt, evt. in samenwerking, te zien om verder beleid passend te kunnen vaststellen. Beoordelen of het past binnen SGGZ of juist beter voorliggend opgepakt kan worden.;\"\n",
    ")\n",
    "\n",
    "text4 = (\n",
    "    \"Ik zie een meneer die in het verleden verslaving heeft gehad aan GHB en alcohol. Is ook bij jullie in behandeling geweest hiervoor.\"\n",
    "    \"Van GHB-gebruik is geen sprake meer, wel nog van alcoholgebruik. Hij drinkt in het weekend met uitgaan. Stoppen hiermee is geen optie.\"\n",
    "    \"Merkt dat hij door de week toch zucht krijgt. Onlangs een life event meegemaakt (overlijden vader). Zijn vraag is of er anti-zucht medicatie is die hem kan helpen stoppen en dan toch kan drinken in het weekend.\"\n",
    "    \"Hij zou hier graag over willen spreken met een verslavingsarts. Is het mogelijk om hiervoor bij u een eenmalig consult aan te vragen?\"\n",
    ")\n",
    "\n",
    "list = [text1, text2, text3, text4]\n",
    "text = ' '.join(list)"
   ]
  },
  {
   "cell_type": "code",
   "execution_count": 16,
   "metadata": {},
   "outputs": [
    {
     "name": "stderr",
     "output_type": "stream",
     "text": [
      "\u001b[32m2023-12-21 14:37:34.566\u001b[0m | \u001b[1mINFO    \u001b[0m | \u001b[36mdeidentify.tokenizer.base\u001b[0m:\u001b[36mtokenizer\u001b[0m:\u001b[36m36\u001b[0m - \u001b[1mTokenizer for corpus: ons\u001b[0m\n",
      "\u001b[32m2023-12-21 14:37:34.582\u001b[0m | \u001b[1mINFO    \u001b[0m | \u001b[36mdeidentify.taggers.flair_tagger\u001b[0m:\u001b[36m__init__\u001b[0m:\u001b[36m20\u001b[0m - \u001b[1mLoad flair model from C:\\Users\\DonnaHsia\\.deidentify\\model_bilstmcrf_ons_fast-v0.2.0\\final-model.pt\u001b[0m\n"
     ]
    },
    {
     "name": "stdout",
     "output_type": "stream",
     "text": [
      "2023-12-21 14:37:34,582 loading file C:\\Users\\DonnaHsia\\.deidentify\\model_bilstmcrf_ons_fast-v0.2.0\\final-model.pt\n"
     ]
    },
    {
     "name": "stderr",
     "output_type": "stream",
     "text": [
      "\u001b[32m2023-12-21 14:37:38.437\u001b[0m | \u001b[1mINFO    \u001b[0m | \u001b[36mdeidentify.taggers.flair_tagger\u001b[0m:\u001b[36m__init__\u001b[0m:\u001b[36m22\u001b[0m - \u001b[1mFinish loading flair model.\u001b[0m\n"
     ]
    }
   ],
   "source": [
    "# Wrap text in document\n",
    "documents_real = [\n",
    "    Document(name='doc_01', text=text)\n",
    "]\n",
    "\n",
    "# Select downloaded model\n",
    "model = 'model_bilstmcrf_ons_fast-v0.2.0'\n",
    "\n",
    "# Instantiate tokenizer\n",
    "tokenizer = TokenizerFactory().tokenizer(corpus='ons', disable=(\"tagger\", \"ner\"))\n",
    "\n",
    "# Load tagger with a downloaded model file and tokenizer\n",
    "tagger = FlairTagger(model=model, tokenizer=tokenizer, verbose=False)\n",
    "\n",
    "# Annotate your documents\n",
    "annotated_docs_flair_r = tagger.annotate(documents_real)"
   ]
  },
  {
   "cell_type": "code",
   "execution_count": 18,
   "metadata": {},
   "outputs": [
    {
     "name": "stdout",
     "output_type": "stream",
     "text": [
      "[Annotation(text='Maria van Oosterhout', start=8, end=28, tag='Name', doc_id='', ann_id='T0'),\n",
      " Annotation(text='75 jaar', start=33, end=40, tag='Age', doc_id='', ann_id='T1'),\n",
      " Annotation(text='Maria', start=138, end=143, tag='Name', doc_id='', ann_id='T2'),\n",
      " Annotation(text='Centiv', start=161, end=167, tag='Care_Institute', doc_id='', ann_id='T3'),\n",
      " Annotation(text='Maria', start=169, end=174, tag='Name', doc_id='', ann_id='T4'),\n",
      " Annotation(text='Joris', start=267, end=272, tag='Name', doc_id='', ann_id='T5'),\n",
      " Annotation(text='augustus', start=367, end=375, tag='Date', doc_id='', ann_id='T6'),\n",
      " Annotation(text='65 jaar', start=509, end=516, tag='Age', doc_id='', ann_id='T7'),\n",
      " Annotation(text='Nederland', start=558, end=567, tag='Address', doc_id='', ann_id='T8'),\n",
      " Annotation(text='Irene', start=872, end=877, tag='Name', doc_id='', ann_id='T9'),\n",
      " Annotation(text='GGZ.Verwachting', start=1564, end=1579, tag='Care_Institute', doc_id='', ann_id='T10'),\n",
      " Annotation(text='GHB-gebruik', start=2181, end=2192, tag='Organization_Company', doc_id='', ann_id='T11')]\n"
     ]
    }
   ],
   "source": [
    "# Annotation results of FlairTagger\n",
    "from pprint import pprint\n",
    "\n",
    "first_doc_flair_r = annotated_docs_flair_r[0]\n",
    "pprint(first_doc_flair_r.annotations)"
   ]
  },
  {
   "cell_type": "code",
   "execution_count": 20,
   "metadata": {},
   "outputs": [
    {
     "name": "stdout",
     "output_type": "stream",
     "text": [
      "betreft [NAME] van [AGE] die depressief is en gedachten heeft op het spoor te gaan staan.volgens de huisarts geen crisis. [NAME] is afgewezen bij [CARE_INSTITUTE]. [NAME] wil graag overleg.; Dag. Graag vraag ik advies inzake het wel of niet starten met medicatie?[NAME] vertelt : gaat niet lekker, bekend met bipolaire stoornis, vorig jaar periode wat hypomaan in [DATE], toen tijdelijk rivotril gebruikt, nu juist angstig, emotioneel en somberder, trigger is wss zijn moeder die naar verzorginshuis is,([AGE] en heeft er moeite mee dat de cultuur in [ADDRESS] anders is tav opvang van ouderen)speelt nu op sinds 1,5 mnd en wordt langzaam erger, soms ook boos, intensere emoties, post-partum begeleiding gehad, maar wilde toen niet met lithium beginnen en is zonder medicatie goed gegaan.Tevens hypothyreoidie waarvoor medicatie. Alvast bedankt voor het meedenken. [NAME]; Inmiddels 3x gezien. Meneer Schoenmakers is altijd voornamelijk bezig geweest met werk, nu meer zoekende naar momenten die rust en ontspanning geven.Relatieproblematiek mede door problemen in emotieregulatie bij hem van seksualiteit en intiem contact is belemmerend voor hem geen effect.Beschrijft hem als iemand die lomp is en zegt waar het op staat. Loopt met name in relatie en in contact met werknemer tegen problemen aan.Vrienden en kennissen nemen hem zoals hij is. Inmiddels 3 consulten gevoerd. Hij is steeds meer open. Emoties tonen gaat moeizaam, vecht ertegen.Wil aan de slag met emotieregulatie, daarnaast weer rust in hoofd ervaren. Nooit eerder in contact geweest binnen [CARE_INSTITUTE] mogelijk problematiek in persoonlijkheid, is ook beeld vanuit betrokken huisarts. Hij omschrijft mogelijk hechtingsproblematiek.Hij laat in consulten weinig los over kind- en jeugdjaren. Vraagt om rustgevende medicatie. Begrijpt noodzaak om eerst meer context te kunnen schetsen.Verzoek om deze patiënt, evt. in samenwerking, te zien om verder beleid passend te kunnen vaststellen. Beoordelen of het past binnen SGGZ of juist beter voorliggend opgepakt kan worden.; Ik zie een meneer die in het verleden verslaving heeft gehad aan GHB en alcohol. Is ook bij jullie in behandeling geweest hiervoor.Van [ORGANIZATION_COMPANY] is geen sprake meer, wel nog van alcoholgebruik. Hij drinkt in het weekend met uitgaan. Stoppen hiermee is geen optie.Merkt dat hij door de week toch zucht krijgt. Onlangs een life event meegemaakt (overlijden vader). Zijn vraag is of er anti-zucht medicatie is die hem kan helpen stoppen en dan toch kan drinken in het weekend.Hij zou hier graag over willen spreken met een verslavingsarts. Is het mogelijk om hiervoor bij u een eenmalig consult aan te vragen?\n"
     ]
    }
   ],
   "source": [
    "# Mask annotations of FlairTagger\n",
    "from deidentify.util import mask_annotations\n",
    "\n",
    "masked_doc_flair_r = mask_annotations(first_doc_flair_r)\n",
    "print(masked_doc_flair_r.text)"
   ]
  },
  {
   "cell_type": "code",
   "execution_count": 21,
   "metadata": {},
   "outputs": [
    {
     "name": "stderr",
     "output_type": "stream",
     "text": [
      "C:\\Users\\DonnaHsia\\AppData\\Local\\Temp\\ipykernel_14960\\169331173.py:10: FutureWarning: Styler.applymap has been deprecated. Use Styler.map instead.\n",
      "  flair_final_r = flair_final_r.style.applymap(align_left)\n"
     ]
    },
    {
     "data": {
      "text/html": [
       "<style type=\"text/css\">\n",
       "#T_21749_row0_col0, #T_21749_row1_col0, #T_21749_row2_col0, #T_21749_row3_col0 {\n",
       "  text-align: left;\n",
       "}\n",
       "</style>\n",
       "<table id=\"T_21749\">\n",
       "  <thead>\n",
       "    <tr>\n",
       "      <th class=\"blank level0\" >&nbsp;</th>\n",
       "      <th id=\"T_21749_level0_col0\" class=\"col_heading level0 col0\" >Values</th>\n",
       "    </tr>\n",
       "  </thead>\n",
       "  <tbody>\n",
       "    <tr>\n",
       "      <th id=\"T_21749_level0_row0\" class=\"row_heading level0 row0\" >0</th>\n",
       "      <td id=\"T_21749_row0_col0\" class=\"data row0 col0\" >betreft [NAME] van [AGE] die depressief is en gedachten heeft op het spoor te gaan staan.volgens de huisarts geen crisis. [NAME] is afgewezen bij [CARE_INSTITUTE]. [NAME] wil graag overleg.</td>\n",
       "    </tr>\n",
       "    <tr>\n",
       "      <th id=\"T_21749_level0_row1\" class=\"row_heading level0 row1\" >1</th>\n",
       "      <td id=\"T_21749_row1_col0\" class=\"data row1 col0\" > Dag. Graag vraag ik advies inzake het wel of niet starten met medicatie?[NAME] vertelt : gaat niet lekker, bekend met bipolaire stoornis, vorig jaar periode wat hypomaan in [DATE], toen tijdelijk rivotril gebruikt, nu juist angstig, emotioneel en somberder, trigger is wss zijn moeder die naar verzorginshuis is,([AGE] en heeft er moeite mee dat de cultuur in [ADDRESS] anders is tav opvang van ouderen)speelt nu op sinds 1,5 mnd en wordt langzaam erger, soms ook boos, intensere emoties, post-partum begeleiding gehad, maar wilde toen niet met lithium beginnen en is zonder medicatie goed gegaan.Tevens hypothyreoidie waarvoor medicatie. Alvast bedankt voor het meedenken. [NAME]</td>\n",
       "    </tr>\n",
       "    <tr>\n",
       "      <th id=\"T_21749_level0_row2\" class=\"row_heading level0 row2\" >2</th>\n",
       "      <td id=\"T_21749_row2_col0\" class=\"data row2 col0\" > Inmiddels 3x gezien. Meneer Schoenmakers is altijd voornamelijk bezig geweest met werk, nu meer zoekende naar momenten die rust en ontspanning geven.Relatieproblematiek mede door problemen in emotieregulatie bij hem van seksualiteit en intiem contact is belemmerend voor hem geen effect.Beschrijft hem als iemand die lomp is en zegt waar het op staat. Loopt met name in relatie en in contact met werknemer tegen problemen aan.Vrienden en kennissen nemen hem zoals hij is. Inmiddels 3 consulten gevoerd. Hij is steeds meer open. Emoties tonen gaat moeizaam, vecht ertegen.Wil aan de slag met emotieregulatie, daarnaast weer rust in hoofd ervaren. Nooit eerder in contact geweest binnen [CARE_INSTITUTE] mogelijk problematiek in persoonlijkheid, is ook beeld vanuit betrokken huisarts. Hij omschrijft mogelijk hechtingsproblematiek.Hij laat in consulten weinig los over kind- en jeugdjaren. Vraagt om rustgevende medicatie. Begrijpt noodzaak om eerst meer context te kunnen schetsen.Verzoek om deze patiënt, evt. in samenwerking, te zien om verder beleid passend te kunnen vaststellen. Beoordelen of het past binnen SGGZ of juist beter voorliggend opgepakt kan worden.</td>\n",
       "    </tr>\n",
       "    <tr>\n",
       "      <th id=\"T_21749_level0_row3\" class=\"row_heading level0 row3\" >3</th>\n",
       "      <td id=\"T_21749_row3_col0\" class=\"data row3 col0\" > Ik zie een meneer die in het verleden verslaving heeft gehad aan GHB en alcohol. Is ook bij jullie in behandeling geweest hiervoor.Van [ORGANIZATION_COMPANY] is geen sprake meer, wel nog van alcoholgebruik. Hij drinkt in het weekend met uitgaan. Stoppen hiermee is geen optie.Merkt dat hij door de week toch zucht krijgt. Onlangs een life event meegemaakt (overlijden vader). Zijn vraag is of er anti-zucht medicatie is die hem kan helpen stoppen en dan toch kan drinken in het weekend.Hij zou hier graag over willen spreken met een verslavingsarts. Is het mogelijk om hiervoor bij u een eenmalig consult aan te vragen?</td>\n",
       "    </tr>\n",
       "  </tbody>\n",
       "</table>\n"
      ],
      "text/plain": [
       "<pandas.io.formats.style.Styler at 0x18aabeb6e50>"
      ]
     },
     "execution_count": 21,
     "metadata": {},
     "output_type": "execute_result"
    }
   ],
   "source": [
    "# Split the input string into a list using semicolons as the delimiter\n",
    "values = masked_doc_flair_r.text.split(\";\")\n",
    "\n",
    "# Create a DataFrame with a single column named 'Values'\n",
    "flair_final_r = pd.DataFrame({'Values': values})\n",
    "\n",
    "# Print the DataFrame\n",
    "def align_left(s):\n",
    "    return 'text-align: left'\n",
    "flair_final_r = flair_final_r.style.applymap(align_left)\n",
    "\n",
    "pd.set_option('display.max_colwidth', None)\n",
    "flair_final_r"
   ]
  },
  {
   "cell_type": "markdown",
   "metadata": {},
   "source": [
    "### CRFTagger"
   ]
  },
  {
   "cell_type": "code",
   "execution_count": 22,
   "metadata": {},
   "outputs": [
    {
     "name": "stderr",
     "output_type": "stream",
     "text": [
      "\u001b[32m2023-12-21 14:38:09.562\u001b[0m | \u001b[1mINFO    \u001b[0m | \u001b[36mdeidentify.tokenizer.base\u001b[0m:\u001b[36mtokenizer\u001b[0m:\u001b[36m36\u001b[0m - \u001b[1mTokenizer for corpus: ons\u001b[0m\n",
      "\u001b[32m2023-12-21 14:38:09.562\u001b[0m | \u001b[1mINFO    \u001b[0m | \u001b[36mdeidentify.taggers.crf_tagger\u001b[0m:\u001b[36m__init__\u001b[0m:\u001b[36m21\u001b[0m - \u001b[1mLoad sklearn-crfsuite model from C:\\Users\\DonnaHsia\\.deidentify\\model_crf_ons_tuned-v0.2.0\\model.pickle\u001b[0m\n",
      "\u001b[32m2023-12-21 14:38:09.603\u001b[0m | \u001b[1mINFO    \u001b[0m | \u001b[36mdeidentify.taggers.crf_tagger\u001b[0m:\u001b[36m__init__\u001b[0m:\u001b[36m24\u001b[0m - \u001b[1mFinish loading crf model.\u001b[0m\n"
     ]
    }
   ],
   "source": [
    "# Wrap text in document\n",
    "documents_real = [\n",
    "    Document(name='doc_01', text=text)\n",
    "]\n",
    "\n",
    "# Select downloaded model\n",
    "model = 'model_crf_ons_tuned-v0.2.0'\n",
    "\n",
    "# Instantiate tokenizer\n",
    "tokenizer = TokenizerFactory().tokenizer(corpus='ons', disable=(\"tagger\", \"ner\"))\n",
    "\n",
    "# Load tagger with a downloaded model file and tokenizer\n",
    "tagger = CRFTagger(model=model, tokenizer=tokenizer, verbose=False)\n",
    "\n",
    "# Annotate your documents\n",
    "annotated_docs_crf_r = tagger.annotate(documents_real)"
   ]
  },
  {
   "cell_type": "code",
   "execution_count": 23,
   "metadata": {},
   "outputs": [
    {
     "name": "stdout",
     "output_type": "stream",
     "text": [
      "[Annotation(text='Maria van Oosterhout', start=8, end=28, tag='Name', doc_id='', ann_id='T0'),\n",
      " Annotation(text='Maria', start=138, end=143, tag='Name', doc_id='', ann_id='T1'),\n",
      " Annotation(text='Maria', start=169, end=174, tag='Name', doc_id='', ann_id='T2'),\n",
      " Annotation(text='Joris', start=267, end=272, tag='Name', doc_id='', ann_id='T3'),\n",
      " Annotation(text='Irene', start=872, end=877, tag='Name', doc_id='', ann_id='T4')]\n"
     ]
    }
   ],
   "source": [
    "# Annotation results of CRFTagger\n",
    "from pprint import pprint\n",
    "\n",
    "first_doc_crf_r = annotated_docs_crf_r[0]\n",
    "pprint(first_doc_crf_r.annotations)"
   ]
  },
  {
   "cell_type": "code",
   "execution_count": 24,
   "metadata": {},
   "outputs": [
    {
     "name": "stdout",
     "output_type": "stream",
     "text": [
      "betreft [NAME] van 75 jaar die depressief is en gedachten heeft op het spoor te gaan staan.volgens de huisarts geen crisis. [NAME] is afgewezen bij Centiv. [NAME] wil graag overleg.; Dag. Graag vraag ik advies inzake het wel of niet starten met medicatie?[NAME] vertelt : gaat niet lekker, bekend met bipolaire stoornis, vorig jaar periode wat hypomaan in augustus, toen tijdelijk rivotril gebruikt, nu juist angstig, emotioneel en somberder, trigger is wss zijn moeder die naar verzorginshuis is,(65 jaar en heeft er moeite mee dat de cultuur in Nederland anders is tav opvang van ouderen)speelt nu op sinds 1,5 mnd en wordt langzaam erger, soms ook boos, intensere emoties, post-partum begeleiding gehad, maar wilde toen niet met lithium beginnen en is zonder medicatie goed gegaan.Tevens hypothyreoidie waarvoor medicatie. Alvast bedankt voor het meedenken. [NAME]; Inmiddels 3x gezien. Meneer Schoenmakers is altijd voornamelijk bezig geweest met werk, nu meer zoekende naar momenten die rust en ontspanning geven.Relatieproblematiek mede door problemen in emotieregulatie bij hem van seksualiteit en intiem contact is belemmerend voor hem geen effect.Beschrijft hem als iemand die lomp is en zegt waar het op staat. Loopt met name in relatie en in contact met werknemer tegen problemen aan.Vrienden en kennissen nemen hem zoals hij is. Inmiddels 3 consulten gevoerd. Hij is steeds meer open. Emoties tonen gaat moeizaam, vecht ertegen.Wil aan de slag met emotieregulatie, daarnaast weer rust in hoofd ervaren. Nooit eerder in contact geweest binnen GGZ.Verwachting mogelijk problematiek in persoonlijkheid, is ook beeld vanuit betrokken huisarts. Hij omschrijft mogelijk hechtingsproblematiek.Hij laat in consulten weinig los over kind- en jeugdjaren. Vraagt om rustgevende medicatie. Begrijpt noodzaak om eerst meer context te kunnen schetsen.Verzoek om deze patiënt, evt. in samenwerking, te zien om verder beleid passend te kunnen vaststellen. Beoordelen of het past binnen SGGZ of juist beter voorliggend opgepakt kan worden.; Ik zie een meneer die in het verleden verslaving heeft gehad aan GHB en alcohol. Is ook bij jullie in behandeling geweest hiervoor.Van GHB-gebruik is geen sprake meer, wel nog van alcoholgebruik. Hij drinkt in het weekend met uitgaan. Stoppen hiermee is geen optie.Merkt dat hij door de week toch zucht krijgt. Onlangs een life event meegemaakt (overlijden vader). Zijn vraag is of er anti-zucht medicatie is die hem kan helpen stoppen en dan toch kan drinken in het weekend.Hij zou hier graag over willen spreken met een verslavingsarts. Is het mogelijk om hiervoor bij u een eenmalig consult aan te vragen?\n"
     ]
    }
   ],
   "source": [
    "# Mask annotations of CRFTagger\n",
    "from deidentify.util import mask_annotations\n",
    "\n",
    "masked_doc_crf_r = mask_annotations(first_doc_crf_r)\n",
    "print(masked_doc_crf_r.text)"
   ]
  },
  {
   "cell_type": "code",
   "execution_count": 25,
   "metadata": {},
   "outputs": [
    {
     "name": "stderr",
     "output_type": "stream",
     "text": [
      "C:\\Users\\DonnaHsia\\AppData\\Local\\Temp\\ipykernel_14960\\4273942406.py:10: FutureWarning: Styler.applymap has been deprecated. Use Styler.map instead.\n",
      "  crf_final_r = crf_final_r.style.applymap(align_left)\n"
     ]
    },
    {
     "data": {
      "text/html": [
       "<style type=\"text/css\">\n",
       "#T_65795_row0_col0, #T_65795_row1_col0, #T_65795_row2_col0, #T_65795_row3_col0 {\n",
       "  text-align: left;\n",
       "}\n",
       "</style>\n",
       "<table id=\"T_65795\">\n",
       "  <thead>\n",
       "    <tr>\n",
       "      <th class=\"blank level0\" >&nbsp;</th>\n",
       "      <th id=\"T_65795_level0_col0\" class=\"col_heading level0 col0\" >Values</th>\n",
       "    </tr>\n",
       "  </thead>\n",
       "  <tbody>\n",
       "    <tr>\n",
       "      <th id=\"T_65795_level0_row0\" class=\"row_heading level0 row0\" >0</th>\n",
       "      <td id=\"T_65795_row0_col0\" class=\"data row0 col0\" >betreft [NAME] van 75 jaar die depressief is en gedachten heeft op het spoor te gaan staan.volgens de huisarts geen crisis. [NAME] is afgewezen bij Centiv. [NAME] wil graag overleg.</td>\n",
       "    </tr>\n",
       "    <tr>\n",
       "      <th id=\"T_65795_level0_row1\" class=\"row_heading level0 row1\" >1</th>\n",
       "      <td id=\"T_65795_row1_col0\" class=\"data row1 col0\" > Dag. Graag vraag ik advies inzake het wel of niet starten met medicatie?[NAME] vertelt : gaat niet lekker, bekend met bipolaire stoornis, vorig jaar periode wat hypomaan in augustus, toen tijdelijk rivotril gebruikt, nu juist angstig, emotioneel en somberder, trigger is wss zijn moeder die naar verzorginshuis is,(65 jaar en heeft er moeite mee dat de cultuur in Nederland anders is tav opvang van ouderen)speelt nu op sinds 1,5 mnd en wordt langzaam erger, soms ook boos, intensere emoties, post-partum begeleiding gehad, maar wilde toen niet met lithium beginnen en is zonder medicatie goed gegaan.Tevens hypothyreoidie waarvoor medicatie. Alvast bedankt voor het meedenken. [NAME]</td>\n",
       "    </tr>\n",
       "    <tr>\n",
       "      <th id=\"T_65795_level0_row2\" class=\"row_heading level0 row2\" >2</th>\n",
       "      <td id=\"T_65795_row2_col0\" class=\"data row2 col0\" > Inmiddels 3x gezien. Meneer Schoenmakers is altijd voornamelijk bezig geweest met werk, nu meer zoekende naar momenten die rust en ontspanning geven.Relatieproblematiek mede door problemen in emotieregulatie bij hem van seksualiteit en intiem contact is belemmerend voor hem geen effect.Beschrijft hem als iemand die lomp is en zegt waar het op staat. Loopt met name in relatie en in contact met werknemer tegen problemen aan.Vrienden en kennissen nemen hem zoals hij is. Inmiddels 3 consulten gevoerd. Hij is steeds meer open. Emoties tonen gaat moeizaam, vecht ertegen.Wil aan de slag met emotieregulatie, daarnaast weer rust in hoofd ervaren. Nooit eerder in contact geweest binnen GGZ.Verwachting mogelijk problematiek in persoonlijkheid, is ook beeld vanuit betrokken huisarts. Hij omschrijft mogelijk hechtingsproblematiek.Hij laat in consulten weinig los over kind- en jeugdjaren. Vraagt om rustgevende medicatie. Begrijpt noodzaak om eerst meer context te kunnen schetsen.Verzoek om deze patiënt, evt. in samenwerking, te zien om verder beleid passend te kunnen vaststellen. Beoordelen of het past binnen SGGZ of juist beter voorliggend opgepakt kan worden.</td>\n",
       "    </tr>\n",
       "    <tr>\n",
       "      <th id=\"T_65795_level0_row3\" class=\"row_heading level0 row3\" >3</th>\n",
       "      <td id=\"T_65795_row3_col0\" class=\"data row3 col0\" > Ik zie een meneer die in het verleden verslaving heeft gehad aan GHB en alcohol. Is ook bij jullie in behandeling geweest hiervoor.Van GHB-gebruik is geen sprake meer, wel nog van alcoholgebruik. Hij drinkt in het weekend met uitgaan. Stoppen hiermee is geen optie.Merkt dat hij door de week toch zucht krijgt. Onlangs een life event meegemaakt (overlijden vader). Zijn vraag is of er anti-zucht medicatie is die hem kan helpen stoppen en dan toch kan drinken in het weekend.Hij zou hier graag over willen spreken met een verslavingsarts. Is het mogelijk om hiervoor bij u een eenmalig consult aan te vragen?</td>\n",
       "    </tr>\n",
       "  </tbody>\n",
       "</table>\n"
      ],
      "text/plain": [
       "<pandas.io.formats.style.Styler at 0x18aa4458d60>"
      ]
     },
     "execution_count": 25,
     "metadata": {},
     "output_type": "execute_result"
    }
   ],
   "source": [
    "# Split the input string into a list using semicolons as the delimiter\n",
    "values = masked_doc_crf_r.text.split(\";\")\n",
    "\n",
    "# Create a DataFrame with a single column named 'Values'\n",
    "crf_final_r = pd.DataFrame({'Values': values})\n",
    "\n",
    "# Print the DataFrame\n",
    "def align_left(s):\n",
    "    return 'text-align: left'\n",
    "crf_final_r = crf_final_r.style.applymap(align_left)\n",
    "\n",
    "pd.set_option('display.max_colwidth', None)\n",
    "crf_final_r"
   ]
  },
  {
   "cell_type": "markdown",
   "metadata": {},
   "source": [
    "### DeduceTagger"
   ]
  },
  {
   "cell_type": "code",
   "execution_count": 26,
   "metadata": {},
   "outputs": [],
   "source": [
    "# Wrap text in document\n",
    "documents_real = [\n",
    "    Document(name='doc_01', text=text)\n",
    "]\n",
    "\n",
    "# Load tagger with a downloaded model file and tokenizer\n",
    "tagger = DeduceTagger(verbose=False)\n",
    "\n",
    "# Annotate your documents\n",
    "annotated_docs_deduce_r = tagger.annotate(documents_real)"
   ]
  },
  {
   "cell_type": "code",
   "execution_count": 27,
   "metadata": {},
   "outputs": [
    {
     "name": "stdout",
     "output_type": "stream",
     "text": [
      "[Annotation(text='Maria van Oosterhout', start=8, end=28, tag='Name', doc_id='', ann_id='T0'),\n",
      " Annotation(text='75', start=33, end=35, tag='Age', doc_id='', ann_id='T1'),\n",
      " Annotation(text='Maria', start=138, end=143, tag='Name', doc_id='', ann_id='T2'),\n",
      " Annotation(text='Maria', start=169, end=174, tag='Name', doc_id='', ann_id='T3'),\n",
      " Annotation(text='Dag', start=195, end=198, tag='Name', doc_id='', ann_id='T4'),\n",
      " Annotation(text='Joris', start=267, end=272, tag='Name', doc_id='', ann_id='T5'),\n",
      " Annotation(text='65', start=509, end=511, tag='Age', doc_id='', ann_id='T6'),\n",
      " Annotation(text='Nederland', start=558, end=567, tag='Address', doc_id='', ann_id='T7'),\n",
      " Annotation(text='ene; Inmiddels', start=874, end=888, tag='Name', doc_id='', ann_id='T8'),\n",
      " Annotation(text='Schoenmakers', start=907, end=919, tag='Name', doc_id='', ann_id='T9')]\n"
     ]
    }
   ],
   "source": [
    "# Annotation results of DeduceTagger\n",
    "from pprint import pprint\n",
    "\n",
    "first_doc_deduce_r = annotated_docs_deduce_r[0]\n",
    "pprint(first_doc_deduce_r.annotations)"
   ]
  },
  {
   "cell_type": "code",
   "execution_count": 28,
   "metadata": {},
   "outputs": [
    {
     "name": "stdout",
     "output_type": "stream",
     "text": [
      "betreft [NAME] van [AGE] jaar die depressief is en gedachten heeft op het spoor te gaan staan.volgens de huisarts geen crisis. [NAME] is afgewezen bij Centiv. [NAME] wil graag overleg.; [NAME]. Graag vraag ik advies inzake het wel of niet starten met medicatie?[NAME] vertelt : gaat niet lekker, bekend met bipolaire stoornis, vorig jaar periode wat hypomaan in augustus, toen tijdelijk rivotril gebruikt, nu juist angstig, emotioneel en somberder, trigger is wss zijn moeder die naar verzorginshuis is,([AGE] jaar en heeft er moeite mee dat de cultuur in [ADDRESS] anders is tav opvang van ouderen)speelt nu op sinds 1,5 mnd en wordt langzaam erger, soms ook boos, intensere emoties, post-partum begeleiding gehad, maar wilde toen niet met lithium beginnen en is zonder medicatie goed gegaan.Tevens hypothyreoidie waarvoor medicatie. Alvast bedankt voor het meedenken. Ir[NAME] 3x gezien. Meneer [NAME] is altijd voornamelijk bezig geweest met werk, nu meer zoekende naar momenten die rust en ontspanning geven.Relatieproblematiek mede door problemen in emotieregulatie bij hem van seksualiteit en intiem contact is belemmerend voor hem geen effect.Beschrijft hem als iemand die lomp is en zegt waar het op staat. Loopt met name in relatie en in contact met werknemer tegen problemen aan.Vrienden en kennissen nemen hem zoals hij is. Inmiddels 3 consulten gevoerd. Hij is steeds meer open. Emoties tonen gaat moeizaam, vecht ertegen.Wil aan de slag met emotieregulatie, daarnaast weer rust in hoofd ervaren. Nooit eerder in contact geweest binnen GGZ.Verwachting mogelijk problematiek in persoonlijkheid, is ook beeld vanuit betrokken huisarts. Hij omschrijft mogelijk hechtingsproblematiek.Hij laat in consulten weinig los over kind- en jeugdjaren. Vraagt om rustgevende medicatie. Begrijpt noodzaak om eerst meer context te kunnen schetsen.Verzoek om deze patiënt, evt. in samenwerking, te zien om verder beleid passend te kunnen vaststellen. Beoordelen of het past binnen SGGZ of juist beter voorliggend opgepakt kan worden.; Ik zie een meneer die in het verleden verslaving heeft gehad aan GHB en alcohol. Is ook bij jullie in behandeling geweest hiervoor.Van GHB-gebruik is geen sprake meer, wel nog van alcoholgebruik. Hij drinkt in het weekend met uitgaan. Stoppen hiermee is geen optie.Merkt dat hij door de week toch zucht krijgt. Onlangs een life event meegemaakt (overlijden vader). Zijn vraag is of er anti-zucht medicatie is die hem kan helpen stoppen en dan toch kan drinken in het weekend.Hij zou hier graag over willen spreken met een verslavingsarts. Is het mogelijk om hiervoor bij u een eenmalig consult aan te vragen?\n"
     ]
    }
   ],
   "source": [
    "# Mask annotations of DeduceTagger\n",
    "from deidentify.util import mask_annotations\n",
    "\n",
    "masked_doc_deduce_r = mask_annotations(first_doc_deduce_r)\n",
    "print(masked_doc_deduce_r.text)"
   ]
  },
  {
   "cell_type": "code",
   "execution_count": 29,
   "metadata": {},
   "outputs": [
    {
     "name": "stderr",
     "output_type": "stream",
     "text": [
      "C:\\Users\\DonnaHsia\\AppData\\Local\\Temp\\ipykernel_14960\\2955755511.py:10: FutureWarning: Styler.applymap has been deprecated. Use Styler.map instead.\n",
      "  deduce_final_r = deduce_final_r.style.applymap(align_left)\n"
     ]
    },
    {
     "data": {
      "text/html": [
       "<style type=\"text/css\">\n",
       "#T_6123d_row0_col0, #T_6123d_row1_col0, #T_6123d_row2_col0 {\n",
       "  text-align: left;\n",
       "}\n",
       "</style>\n",
       "<table id=\"T_6123d\">\n",
       "  <thead>\n",
       "    <tr>\n",
       "      <th class=\"blank level0\" >&nbsp;</th>\n",
       "      <th id=\"T_6123d_level0_col0\" class=\"col_heading level0 col0\" >Values</th>\n",
       "    </tr>\n",
       "  </thead>\n",
       "  <tbody>\n",
       "    <tr>\n",
       "      <th id=\"T_6123d_level0_row0\" class=\"row_heading level0 row0\" >0</th>\n",
       "      <td id=\"T_6123d_row0_col0\" class=\"data row0 col0\" >betreft [NAME] van [AGE] jaar die depressief is en gedachten heeft op het spoor te gaan staan.volgens de huisarts geen crisis. [NAME] is afgewezen bij Centiv. [NAME] wil graag overleg.</td>\n",
       "    </tr>\n",
       "    <tr>\n",
       "      <th id=\"T_6123d_level0_row1\" class=\"row_heading level0 row1\" >1</th>\n",
       "      <td id=\"T_6123d_row1_col0\" class=\"data row1 col0\" > [NAME]. Graag vraag ik advies inzake het wel of niet starten met medicatie?[NAME] vertelt : gaat niet lekker, bekend met bipolaire stoornis, vorig jaar periode wat hypomaan in augustus, toen tijdelijk rivotril gebruikt, nu juist angstig, emotioneel en somberder, trigger is wss zijn moeder die naar verzorginshuis is,([AGE] jaar en heeft er moeite mee dat de cultuur in [ADDRESS] anders is tav opvang van ouderen)speelt nu op sinds 1,5 mnd en wordt langzaam erger, soms ook boos, intensere emoties, post-partum begeleiding gehad, maar wilde toen niet met lithium beginnen en is zonder medicatie goed gegaan.Tevens hypothyreoidie waarvoor medicatie. Alvast bedankt voor het meedenken. Ir[NAME] 3x gezien. Meneer [NAME] is altijd voornamelijk bezig geweest met werk, nu meer zoekende naar momenten die rust en ontspanning geven.Relatieproblematiek mede door problemen in emotieregulatie bij hem van seksualiteit en intiem contact is belemmerend voor hem geen effect.Beschrijft hem als iemand die lomp is en zegt waar het op staat. Loopt met name in relatie en in contact met werknemer tegen problemen aan.Vrienden en kennissen nemen hem zoals hij is. Inmiddels 3 consulten gevoerd. Hij is steeds meer open. Emoties tonen gaat moeizaam, vecht ertegen.Wil aan de slag met emotieregulatie, daarnaast weer rust in hoofd ervaren. Nooit eerder in contact geweest binnen GGZ.Verwachting mogelijk problematiek in persoonlijkheid, is ook beeld vanuit betrokken huisarts. Hij omschrijft mogelijk hechtingsproblematiek.Hij laat in consulten weinig los over kind- en jeugdjaren. Vraagt om rustgevende medicatie. Begrijpt noodzaak om eerst meer context te kunnen schetsen.Verzoek om deze patiënt, evt. in samenwerking, te zien om verder beleid passend te kunnen vaststellen. Beoordelen of het past binnen SGGZ of juist beter voorliggend opgepakt kan worden.</td>\n",
       "    </tr>\n",
       "    <tr>\n",
       "      <th id=\"T_6123d_level0_row2\" class=\"row_heading level0 row2\" >2</th>\n",
       "      <td id=\"T_6123d_row2_col0\" class=\"data row2 col0\" > Ik zie een meneer die in het verleden verslaving heeft gehad aan GHB en alcohol. Is ook bij jullie in behandeling geweest hiervoor.Van GHB-gebruik is geen sprake meer, wel nog van alcoholgebruik. Hij drinkt in het weekend met uitgaan. Stoppen hiermee is geen optie.Merkt dat hij door de week toch zucht krijgt. Onlangs een life event meegemaakt (overlijden vader). Zijn vraag is of er anti-zucht medicatie is die hem kan helpen stoppen en dan toch kan drinken in het weekend.Hij zou hier graag over willen spreken met een verslavingsarts. Is het mogelijk om hiervoor bij u een eenmalig consult aan te vragen?</td>\n",
       "    </tr>\n",
       "  </tbody>\n",
       "</table>\n"
      ],
      "text/plain": [
       "<pandas.io.formats.style.Styler at 0x18aa44586d0>"
      ]
     },
     "execution_count": 29,
     "metadata": {},
     "output_type": "execute_result"
    }
   ],
   "source": [
    "# Split the input string into a list using semicolons as the delimiter\n",
    "values = masked_doc_deduce_r.text.split(\";\")\n",
    "\n",
    "# Create a DataFrame with a single column named 'Values'\n",
    "deduce_final_r = pd.DataFrame({'Values': values})\n",
    "\n",
    "# Print the DataFrame\n",
    "def align_left(s):\n",
    "    return 'text-align: left'\n",
    "deduce_final_r = deduce_final_r.style.applymap(align_left)\n",
    "\n",
    "pd.set_option('display.max_colwidth', None)\n",
    "deduce_final_r"
   ]
  }
 ],
 "metadata": {
  "kernelspec": {
   "display_name": "Python 3",
   "language": "python",
   "name": "python3"
  },
  "language_info": {
   "codemirror_mode": {
    "name": "ipython",
    "version": 3
   },
   "file_extension": ".py",
   "mimetype": "text/x-python",
   "name": "python",
   "nbconvert_exporter": "python",
   "pygments_lexer": "ipython3",
   "version": "3.9.13"
  }
 },
 "nbformat": 4,
 "nbformat_minor": 2
}
